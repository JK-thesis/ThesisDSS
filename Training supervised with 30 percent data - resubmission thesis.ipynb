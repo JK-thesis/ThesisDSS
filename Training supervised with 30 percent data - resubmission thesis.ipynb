{
 "cells": [
  {
   "cell_type": "code",
   "execution_count": 1,
   "id": "c516fa8d",
   "metadata": {},
   "outputs": [],
   "source": [
    "import numpy as np\n",
    "import pandas as pd\n",
    "import matplotlib.pyplot as plt\n",
    "import seaborn as sns\n",
    "import random\n",
    "import os\n",
    "\n",
    "from sklearn.model_selection import train_test_split\n",
    "from sklearn.metrics import roc_auc_score, accuracy_score\n",
    "import seaborn as sns\n",
    "\n",
    "import warnings\n",
    "warnings.filterwarnings(\"ignore\", category=UserWarning)\n",
    "from warnings import simplefilter\n",
    "simplefilter(\"ignore\", category=RuntimeWarning)\n",
    "\n",
    "import torch\n",
    "from torch.optim.lr_scheduler import ReduceLROnPlateau"
   ]
  },
  {
   "cell_type": "code",
   "execution_count": 2,
   "id": "32716383",
   "metadata": {},
   "outputs": [],
   "source": [
    "# load models\n",
    "import xgboost\n",
    "from xgboost import XGBClassifier\n",
    "\n",
    "import sklearn.svm\n",
    "from sklearn.svm import SVC\n",
    "\n",
    "from pytorch_tabnet.pretraining import TabNetPretrainer\n",
    "from pytorch_tabnet.tab_model import TabNetClassifier"
   ]
  },
  {
   "cell_type": "code",
   "execution_count": 3,
   "id": "31613c72",
   "metadata": {},
   "outputs": [],
   "source": [
    "# Set working directory\n",
    "os.chdir(\"C:\\\\Users\\Mumtaz\\Desktop\\Thesis data\")"
   ]
  },
  {
   "cell_type": "code",
   "execution_count": 4,
   "id": "9ffc9961",
   "metadata": {},
   "outputs": [],
   "source": [
    "# load data\n",
    "df = pd.read_csv('WA_Fn-UseC_-Telco-Customer-Churn.csv') "
   ]
  },
  {
   "cell_type": "code",
   "execution_count": 5,
   "id": "0f6040ab",
   "metadata": {},
   "outputs": [],
   "source": [
    "# Convert to right types\n",
    "df['TotalCharges'] = pd.to_numeric(df['TotalCharges'], errors='coerce')\n",
    "df['SeniorCitizen'] = df['SeniorCitizen'].map({1: 'Yes', 0: 'No'})"
   ]
  },
  {
   "cell_type": "code",
   "execution_count": 6,
   "id": "0cf77413",
   "metadata": {},
   "outputs": [],
   "source": [
    "# replace missing values with median\n",
    "df['TotalCharges'] = df['TotalCharges'].fillna(df['TotalCharges'].median())"
   ]
  },
  {
   "cell_type": "code",
   "execution_count": 7,
   "id": "585951b6",
   "metadata": {},
   "outputs": [],
   "source": [
    "#drop column customerID, this is not relevant\n",
    "df.drop(columns=['customerID'], inplace = True)"
   ]
  },
  {
   "cell_type": "code",
   "execution_count": 8,
   "id": "53ff1435",
   "metadata": {},
   "outputs": [],
   "source": [
    "# transform to binary\n",
    "df['gender'].replace({'Female':1,'Male':0},inplace=True)"
   ]
  },
  {
   "cell_type": "code",
   "execution_count": 9,
   "id": "14543000",
   "metadata": {},
   "outputs": [],
   "source": [
    "# simplify value\n",
    "df.replace('No internet service', 'No', inplace=True)\n",
    "df.replace('No phone service', 'No', inplace=True)"
   ]
  },
  {
   "cell_type": "code",
   "execution_count": 10,
   "id": "b5b046f4",
   "metadata": {},
   "outputs": [],
   "source": [
    "# get dummies for features with multiple categories\n",
    "multiple_categories = ['InternetService' ,'Contract' ,'PaymentMethod']\n",
    "df = pd.get_dummies(data=df, columns= multiple_categories)"
   ]
  },
  {
   "cell_type": "code",
   "execution_count": 11,
   "id": "07501700",
   "metadata": {},
   "outputs": [],
   "source": [
    "# encode binary values\n",
    "categories = df[['SeniorCitizen', 'Partner', 'Dependents', 'PhoneService', 'MultipleLines', 'OnlineSecurity', 'OnlineBackup','DeviceProtection','TechSupport', 'StreamingTV', 'StreamingMovies', 'PaperlessBilling', 'Churn']]\n",
    "for i in categories:\n",
    "    df[i].replace({\"No\":0, \"Yes\":1}, inplace=True)"
   ]
  },
  {
   "cell_type": "code",
   "execution_count": 12,
   "id": "7887ddcd",
   "metadata": {},
   "outputs": [],
   "source": [
    "# split data into features and target\n",
    "X = df.drop('Churn', axis=1)\n",
    "y = df['Churn']"
   ]
  },
  {
   "cell_type": "code",
   "execution_count": 13,
   "id": "06f7c035",
   "metadata": {},
   "outputs": [],
   "source": [
    "# split the data with stratified split\n",
    "X_train, X_test, y_train, y_test = train_test_split(X, y,\n",
    "                                                    stratify=y, \n",
    "                                                    test_size=0.2, random_state=42)"
   ]
  },
  {
   "cell_type": "code",
   "execution_count": 14,
   "id": "b5c64b8c",
   "metadata": {},
   "outputs": [],
   "source": [
    "# scale numeric values\n",
    "from sklearn.preprocessing import StandardScaler\n",
    "X_train[['tenure', 'MonthlyCharges', 'TotalCharges']] = StandardScaler().fit_transform(X_train[['tenure', 'MonthlyCharges', 'TotalCharges']])\n",
    "X_test[['tenure', 'MonthlyCharges', 'TotalCharges']] = StandardScaler().fit_transform(X_test[['tenure', 'MonthlyCharges', 'TotalCharges']])"
   ]
  },
  {
   "cell_type": "code",
   "execution_count": 15,
   "id": "14e2c25d",
   "metadata": {},
   "outputs": [
    {
     "name": "stdout",
     "output_type": "stream",
     "text": [
      "Class 0 has 4139 samples\n",
      "Class 1 has 1495 samples\n"
     ]
    },
    {
     "name": "stderr",
     "output_type": "stream",
     "text": [
      "C:\\Users\\Mumtaz\\anaconda3\\lib\\site-packages\\sklearn\\cluster\\_kmeans.py:870: FutureWarning: The default value of `n_init` will change from 3 to 'auto' in 1.4. Set the value of `n_init` explicitly to suppress the warning\n",
      "  warnings.warn(\n"
     ]
    },
    {
     "name": "stdout",
     "output_type": "stream",
     "text": [
      "Class 0 has 4139 samples after oversampling\n",
      "Class 1 has 4162 samples after oversampling\n"
     ]
    }
   ],
   "source": [
    "# Smote for training set\n",
    "from imblearn.over_sampling import KMeansSMOTE\n",
    "from sklearn.cluster import MiniBatchKMeans\n",
    "for label, count in zip(*np.unique(y_train, return_counts=True)):\n",
    "    print('Class {} has {} samples'.format(label, count))\n",
    "\n",
    "kmeans_smote = KMeansSMOTE(\n",
    "    sampling_strategy = 'not majority',\n",
    "    random_state = 42,\n",
    "    k_neighbors = 10,\n",
    "    cluster_balance_threshold = 0.1,\n",
    "    kmeans_estimator = MiniBatchKMeans(n_clusters=100, random_state=42)\n",
    ")\n",
    "X_train, y_train = kmeans_smote.fit_resample(X_train, y_train)\n",
    "\n",
    "for label, count in zip(*np.unique(y_train, return_counts=True)):\n",
    "    print('Class {} has {} samples after oversampling'.format(label, count))"
   ]
  },
  {
   "cell_type": "code",
   "execution_count": 16,
   "id": "3f9ac468",
   "metadata": {},
   "outputs": [],
   "source": [
    "X_train = X_train.rename(columns={'InternetService_Fiber optic': 'InternetService_Fiber_optic', 'Contract_One year' : 'Contract_One_year', 'Contract_Two year': 'Contract_Two_year',\n",
    "                      'PaymentMethod_Bank transfer (automatic)':'PaymentMethod_Bank_transfer_automatic', 'PaymentMethod_Credit card (automatic)':'PaymentMethod_Creditcard_automatic)',\n",
    "                      'PaymentMethod_Electronic check': 'PaymentMethod_Electronic_check', 'PaymentMethod_Mailed check': 'PaymentMethod_Mailed_check'})"
   ]
  },
  {
   "cell_type": "code",
   "execution_count": 17,
   "id": "ed8892e8",
   "metadata": {},
   "outputs": [],
   "source": [
    "X_test = X_test.rename(columns={'InternetService_Fiber optic': 'InternetService_Fiber_optic', 'Contract_One year' : 'Contract_One_year', 'Contract_Two year': 'Contract_Two_year',\n",
    "                      'PaymentMethod_Bank transfer (automatic)':'PaymentMethod_Bank_transfer_automatic', 'PaymentMethod_Credit card (automatic)':'PaymentMethod_Creditcard_automatic)',\n",
    "                      'PaymentMethod_Electronic check': 'PaymentMethod_Electronic_check', 'PaymentMethod_Mailed check': 'PaymentMethod_Mailed_check'})"
   ]
  },
  {
   "cell_type": "code",
   "execution_count": 24,
   "id": "52849838",
   "metadata": {},
   "outputs": [],
   "source": [
    "X_train_part = X_train.sample(frac = 0.3)\n",
    "y_train_part = y_train[X_train_part.index]"
   ]
  },
  {
   "cell_type": "code",
   "execution_count": 25,
   "id": "81056744",
   "metadata": {},
   "outputs": [],
   "source": [
    "# convert to numpy array\n",
    "X_train_part_np = X_train_part.to_numpy()\n",
    "y_train_part_np = y_train_part.to_numpy().squeeze()"
   ]
  },
  {
   "cell_type": "code",
   "execution_count": 26,
   "id": "65468dac",
   "metadata": {},
   "outputs": [],
   "source": [
    "# convert test data to numpy array\n",
    "X_test_np  = X_test.to_numpy()\n",
    "y_test_np = y_test.to_numpy().squeeze()"
   ]
  },
  {
   "cell_type": "markdown",
   "id": "839b6515",
   "metadata": {},
   "source": [
    "# XGBoost Classifier"
   ]
  },
  {
   "cell_type": "code",
   "execution_count": 27,
   "id": "52c4ef38",
   "metadata": {},
   "outputs": [],
   "source": [
    "XGBoost_params = ({'n_estimators': 1986, 'max_depth': 13, 'learning_rate': 0.044627773598530054, 'gamma': 0.280206721005955, 'subsample': 0.58545974420027, 'min_child_weight': 2.3451283944922916, 'reg_lambda': 1.9688536003000663, 'reg_alpha': 1.6563747476472204, 'colsample_bytree': 0.7486193155195076})"
   ]
  },
  {
   "cell_type": "code",
   "execution_count": 28,
   "id": "0e68ac63",
   "metadata": {},
   "outputs": [
    {
     "name": "stderr",
     "output_type": "stream",
     "text": [
      "[Parallel(n_jobs=1)]: Using backend SequentialBackend with 1 concurrent workers.\n"
     ]
    },
    {
     "name": "stdout",
     "output_type": "stream",
     "text": [
      "[0.82329317 0.82730924 0.82730924 0.83935743 0.85140562 0.85542169\n",
      " 0.84738956 0.85140562 0.7751004  0.78313253]\n",
      "0.83 accuracy with a standard deviation of 0.03\n"
     ]
    },
    {
     "name": "stderr",
     "output_type": "stream",
     "text": [
      "[Parallel(n_jobs=1)]: Done  10 out of  10 | elapsed:  1.9min finished\n"
     ]
    }
   ],
   "source": [
    "from sklearn.model_selection import KFold\n",
    "from sklearn.model_selection import cross_val_score\n",
    "XGBOOST_model = XGBClassifier(**XGBoost_params)\n",
    "kfold_val = KFold(10, shuffle=True, random_state=42)\n",
    "cv_score = cross_val_score(XGBOOST_model, X_train_part, y_train_part, cv=kfold_val, verbose=1)\n",
    "print(cv_score)\n",
    "print(\"%0.2f accuracy with a standard deviation of %0.2f\" % (cv_score.mean(), cv_score.std()))"
   ]
  },
  {
   "cell_type": "code",
   "execution_count": 29,
   "id": "bdf64653",
   "metadata": {},
   "outputs": [
    {
     "name": "stdout",
     "output_type": "stream",
     "text": [
      "Time consumed for training: 13.438946499999929 seconds\n",
      "Time consumed for prediction: 0.12413059999971665 seconds\n"
     ]
    }
   ],
   "source": [
    "import time\n",
    "final_xgb_model = XGBClassifier(**XGBoost_params)\n",
    "xgb_train_start = time.perf_counter()\n",
    "final_xgb_model.fit(X_train_part, y_train_part)\n",
    "xgb_train_end = time.perf_counter()\n",
    "\n",
    "xgb_pred_start = time.perf_counter()\n",
    "final_xgb_preds = final_xgb_model.predict(X_test)\n",
    "xgb_pred_end = time.perf_counter()\n",
    "\n",
    "xgb_train_time = xgb_train_end-xgb_train_start\n",
    "xgb_pred_time = xgb_pred_end-xgb_pred_start\n",
    "\n",
    "print(\"Time consumed for training:\" ,xgb_train_time, \"seconds\")\n",
    "print(\"Time consumed for prediction:\" ,xgb_pred_time, \"seconds\")"
   ]
  },
  {
   "cell_type": "code",
   "execution_count": 30,
   "id": "3a549e60",
   "metadata": {},
   "outputs": [
    {
     "name": "stdout",
     "output_type": "stream",
     "text": [
      "              precision    recall  f1-score   support\n",
      "\n",
      "           0       0.87      0.77      0.82      1035\n",
      "           1       0.53      0.69      0.60       374\n",
      "\n",
      "    accuracy                           0.75      1409\n",
      "   macro avg       0.70      0.73      0.71      1409\n",
      "weighted avg       0.78      0.75      0.76      1409\n",
      "\n"
     ]
    }
   ],
   "source": [
    "from sklearn.metrics import classification_report\n",
    "print(classification_report(y_test, final_xgb_preds))"
   ]
  },
  {
   "cell_type": "code",
   "execution_count": 31,
   "id": "15d99dcf",
   "metadata": {},
   "outputs": [
    {
     "name": "stdout",
     "output_type": "stream",
     "text": [
      "Time consumed for training: 12.503556099999969 seconds\n",
      "Time consumed for prediction: 0.12098250000008193 seconds\n"
     ]
    }
   ],
   "source": [
    "final_xgb_model = XGBClassifier(**XGBoost_params)\n",
    "xgb_train_start = time.perf_counter()\n",
    "final_xgb_model.fit(X_train_part, y_train_part)\n",
    "xgb_train_end = time.perf_counter()\n",
    "\n",
    "xgb_pred_start = time.perf_counter()\n",
    "final_xgb_preds_proba = final_xgb_model.predict_proba(X_test)[:,1]\n",
    "xgb_pred_end = time.perf_counter()\n",
    "\n",
    "xgb_train_time = xgb_train_end-xgb_train_start\n",
    "xgb_pred_time = xgb_pred_end-xgb_pred_start\n",
    "\n",
    "print(\"Time consumed for training:\" ,xgb_train_time, \"seconds\")\n",
    "print(\"Time consumed for prediction:\" ,xgb_pred_time, \"seconds\")"
   ]
  },
  {
   "cell_type": "code",
   "execution_count": 32,
   "id": "18861910",
   "metadata": {},
   "outputs": [
    {
     "name": "stdout",
     "output_type": "stream",
     "text": [
      "The ROC AUC score is 0.8132191480017567\n"
     ]
    }
   ],
   "source": [
    "xgb_score=roc_auc_score(y_test, final_xgb_preds_proba)\n",
    "print(\"The ROC AUC score is\" ,xgb_score)"
   ]
  },
  {
   "cell_type": "markdown",
   "id": "85134749",
   "metadata": {},
   "source": [
    "# Support Vector Classifier"
   ]
  },
  {
   "cell_type": "code",
   "execution_count": 33,
   "id": "c115f560",
   "metadata": {},
   "outputs": [],
   "source": [
    "SVC_params = ({'C': 1, 'gamma': 1, 'kernel': 'rbf'})"
   ]
  },
  {
   "cell_type": "code",
   "execution_count": 34,
   "id": "9b38d45d",
   "metadata": {},
   "outputs": [
    {
     "name": "stderr",
     "output_type": "stream",
     "text": [
      "[Parallel(n_jobs=1)]: Using backend SequentialBackend with 1 concurrent workers.\n"
     ]
    },
    {
     "name": "stdout",
     "output_type": "stream",
     "text": [
      "[0.77911647 0.83935743 0.83534137 0.83935743 0.8313253  0.82730924\n",
      " 0.82730924 0.81124498 0.79919679 0.7751004 ]\n",
      "0.82 accuracy with a standard deviation of 0.02\n"
     ]
    },
    {
     "name": "stderr",
     "output_type": "stream",
     "text": [
      "[Parallel(n_jobs=1)]: Done  10 out of  10 | elapsed:    8.7s finished\n"
     ]
    }
   ],
   "source": [
    "from sklearn.model_selection import KFold\n",
    "from sklearn.model_selection import cross_val_score\n",
    "SVM_model = SVC(**SVC_params)\n",
    "kfold_val = KFold(10, shuffle=True, random_state=42)\n",
    "cv_score = cross_val_score(SVM_model, X_train_part, y_train_part, cv=kfold_val, verbose=1)\n",
    "print(cv_score)\n",
    "print(\"%0.2f accuracy with a standard deviation of %0.2f\" % (cv_score.mean(), cv_score.std()))"
   ]
  },
  {
   "cell_type": "code",
   "execution_count": 35,
   "id": "ddea3609",
   "metadata": {},
   "outputs": [
    {
     "name": "stdout",
     "output_type": "stream",
     "text": [
      "Time consumed for training: 1.1776635999999598 seconds\n",
      "Time consumed for prediction: 1.1046696000003067 seconds\n"
     ]
    }
   ],
   "source": [
    "import time\n",
    "final_svm_model = SVC(**SVC_params)\n",
    "svm_train_start = time.perf_counter()\n",
    "final_svm_model.fit(X_train_part, y_train_part)\n",
    "svm_train_end = time.perf_counter()\n",
    "\n",
    "svm_pred_start = time.perf_counter()\n",
    "final_svm_preds = final_svm_model.predict(X_test)\n",
    "svm_pred_end = time.perf_counter()\n",
    "\n",
    "svm_train_time = svm_train_end-svm_train_start\n",
    "svm_pred_time = svm_pred_end-svm_pred_start\n",
    "\n",
    "print(\"Time consumed for training:\" ,svm_train_time, \"seconds\")\n",
    "print(\"Time consumed for prediction:\" ,svm_pred_time, \"seconds\")"
   ]
  },
  {
   "cell_type": "code",
   "execution_count": 36,
   "id": "a723b4d8",
   "metadata": {},
   "outputs": [
    {
     "name": "stdout",
     "output_type": "stream",
     "text": [
      "              precision    recall  f1-score   support\n",
      "\n",
      "           0       0.85      0.83      0.84      1035\n",
      "           1       0.56      0.60      0.58       374\n",
      "\n",
      "    accuracy                           0.77      1409\n",
      "   macro avg       0.71      0.72      0.71      1409\n",
      "weighted avg       0.78      0.77      0.77      1409\n",
      "\n"
     ]
    }
   ],
   "source": [
    "from sklearn.metrics import classification_report\n",
    "print(classification_report(y_test, final_svm_preds))"
   ]
  },
  {
   "cell_type": "code",
   "execution_count": 37,
   "id": "83f84b97",
   "metadata": {},
   "outputs": [
    {
     "name": "stdout",
     "output_type": "stream",
     "text": [
      "Time consumed for training: 5.226253499999984 seconds\n",
      "Time consumed for prediction: 0.8278095000000576 seconds\n"
     ]
    }
   ],
   "source": [
    "final_svm_model = SVC(**SVC_params, probability=True)\n",
    "svm_train_start = time.perf_counter()\n",
    "final_svm_model.fit(X_train_part, y_train_part)\n",
    "svm_train_end = time.perf_counter()\n",
    "\n",
    "svm_pred_start = time.perf_counter()\n",
    "final_svm_preds_proba = final_svm_model.predict_proba(X_test)[:,1]\n",
    "svm_pred_end = time.perf_counter()\n",
    "\n",
    "svm_train_time = svm_train_end-svm_train_start\n",
    "svm_pred_time = svm_pred_end-svm_pred_start\n",
    "\n",
    "print(\"Time consumed for training:\" ,svm_train_time, \"seconds\")\n",
    "print(\"Time consumed for prediction:\" ,svm_pred_time, \"seconds\")"
   ]
  },
  {
   "cell_type": "code",
   "execution_count": 38,
   "id": "9c88997b",
   "metadata": {},
   "outputs": [
    {
     "name": "stdout",
     "output_type": "stream",
     "text": [
      "The ROC AUC score is 0.7864527629233511\n"
     ]
    }
   ],
   "source": [
    "svm_score=roc_auc_score(y_test, final_svm_preds_proba)\n",
    "print(\"The ROC AUC score is\" ,svm_score)"
   ]
  },
  {
   "cell_type": "markdown",
   "id": "8176ac02",
   "metadata": {},
   "source": [
    "# TabNet pre-trainer and classifier"
   ]
  },
  {
   "cell_type": "code",
   "execution_count": 40,
   "id": "c66b3ef4",
   "metadata": {},
   "outputs": [],
   "source": [
    "TabNet_params = ({'mask_type': 'entmax', 'n_da': 64, 'n_steps': 2, 'gamma': 1.4, 'n_shared': 1, 'lambda_sparse': 0.00031950274925103057, 'patienceScheduler': 5, 'patience': 18, 'epochs': 91})"
   ]
  },
  {
   "cell_type": "code",
   "execution_count": 41,
   "id": "1f8ca368",
   "metadata": {},
   "outputs": [],
   "source": [
    "final_TabNet_params = dict(n_d=TabNet_params['n_da'], n_a=TabNet_params['n_da'], n_steps=TabNet_params['n_steps'], gamma=TabNet_params['gamma'],\n",
    "                     lambda_sparse=TabNet_params['lambda_sparse'], optimizer_fn=torch.optim.Adam,\n",
    "                     optimizer_params=dict(lr=2e-2, weight_decay=1e-5),\n",
    "                     mask_type=TabNet_params['mask_type'], n_shared=TabNet_params['n_shared'],\n",
    "                     scheduler_params=dict(mode=\"min\",\n",
    "                                           patience=TabNet_params['patienceScheduler'],\n",
    "                                           min_lr=1e-5,\n",
    "                                           factor=0.5,),\n",
    "                     scheduler_fn=torch.optim.lr_scheduler.ReduceLROnPlateau,\n",
    "                     verbose=0,\n",
    "                     )\n",
    "epochs = TabNet_params['epochs']"
   ]
  },
  {
   "cell_type": "code",
   "execution_count": 43,
   "id": "e2915dd0",
   "metadata": {},
   "outputs": [
    {
     "name": "stderr",
     "output_type": "stream",
     "text": [
      "[Parallel(n_jobs=1)]: Using backend SequentialBackend with 1 concurrent workers.\n"
     ]
    },
    {
     "name": "stdout",
     "output_type": "stream",
     "text": [
      "[0.72690763 0.77911647 0.78313253 0.77911647 0.82730924 0.77108434\n",
      " 0.76706827 0.77108434 0.7751004  0.72289157]\n",
      "0.77 accuracy with a standard deviation of 0.03\n"
     ]
    },
    {
     "name": "stderr",
     "output_type": "stream",
     "text": [
      "[Parallel(n_jobs=1)]: Done  10 out of  10 | elapsed: 48.2min finished\n"
     ]
    }
   ],
   "source": [
    "TabNetclf_model = TabNetClassifier(**final_TabNet_params)\n",
    "kfold_val = KFold(10, shuffle=True, random_state=42)\n",
    "cv_score = cross_val_score(TabNetclf_model, X_train_part_np, y_train_part_np, cv=kfold_val, verbose=1, scoring='accuracy')\n",
    "print(cv_score)\n",
    "print(\"%0.2f accuracy with a standard deviation of %0.2f\" % (cv_score.mean(), cv_score.std()))"
   ]
  },
  {
   "cell_type": "code",
   "execution_count": 44,
   "id": "6d6a3ab6",
   "metadata": {},
   "outputs": [
    {
     "name": "stdout",
     "output_type": "stream",
     "text": [
      "Time consumed for training: 266.74683060000007 seconds\n",
      "Time consumed for prediction: 0.8186074999994162 seconds\n"
     ]
    }
   ],
   "source": [
    "import time\n",
    "TabNet_clf = TabNetClassifier(**final_TabNet_params)\n",
    "clf_train_start = time.perf_counter()\n",
    "TabNet_clf.fit(X_train_part_np, y_train_part_np, patience=TabNet_params['patience'], max_epochs=epochs)\n",
    "clf_train_end = time.perf_counter()\n",
    "\n",
    "clf_pred_start = time.perf_counter()\n",
    "clf_preds = TabNet_clf.predict(X_test_np)\n",
    "clf_pred_end = time.perf_counter()\n",
    "\n",
    "clf_train_time = clf_train_end-clf_train_start\n",
    "clf_pred_time = clf_pred_end-clf_pred_start\n",
    "\n",
    "print(\"Time consumed for training:\" ,clf_train_time, \"seconds\")\n",
    "print(\"Time consumed for prediction:\" ,clf_pred_time, \"seconds\")"
   ]
  },
  {
   "cell_type": "code",
   "execution_count": 45,
   "id": "0e853560",
   "metadata": {},
   "outputs": [
    {
     "name": "stdout",
     "output_type": "stream",
     "text": [
      "              precision    recall  f1-score   support\n",
      "\n",
      "           0       0.84      0.78      0.81      1035\n",
      "           1       0.49      0.60      0.54       374\n",
      "\n",
      "    accuracy                           0.73      1409\n",
      "   macro avg       0.67      0.69      0.68      1409\n",
      "weighted avg       0.75      0.73      0.74      1409\n",
      "\n"
     ]
    }
   ],
   "source": [
    "print(classification_report(y_test_np, clf_preds))"
   ]
  },
  {
   "cell_type": "code",
   "execution_count": 47,
   "id": "4efc49a1",
   "metadata": {},
   "outputs": [
    {
     "name": "stdout",
     "output_type": "stream",
     "text": [
      "Time consumed for training: 257.7512950999999 seconds\n",
      "Time consumed for prediction: 0.7815465000003314 seconds\n"
     ]
    }
   ],
   "source": [
    "TabNet_clf = TabNetClassifier(**final_TabNet_params)\n",
    "clf_train_start = time.perf_counter()\n",
    "TabNet_clf.fit(X_train_part_np, y_train_part_np, patience=TabNet_params['patience'], max_epochs=epochs)\n",
    "clf_train_end = time.perf_counter()\n",
    "\n",
    "clf_pred_start = time.perf_counter()\n",
    "clf_preds_proba = TabNet_clf.predict_proba(X_test_np)[:,1]\n",
    "clf_pred_end = time.perf_counter()\n",
    "\n",
    "clf_train_time = clf_train_end-clf_train_start\n",
    "clf_pred_time = clf_pred_end-clf_pred_start\n",
    "\n",
    "print(\"Time consumed for training:\" ,clf_train_time, \"seconds\")\n",
    "print(\"Time consumed for prediction:\" ,clf_pred_time, \"seconds\")"
   ]
  },
  {
   "cell_type": "code",
   "execution_count": 48,
   "id": "430d984f",
   "metadata": {},
   "outputs": [
    {
     "name": "stdout",
     "output_type": "stream",
     "text": [
      "The ROC AUC score is 0.7581596011263532\n"
     ]
    }
   ],
   "source": [
    "clf_score=roc_auc_score(y_test, clf_preds_proba)\n",
    "print(\"The ROC AUC score is\" ,clf_score)"
   ]
  },
  {
   "cell_type": "code",
   "execution_count": 49,
   "id": "e91b3449",
   "metadata": {},
   "outputs": [],
   "source": [
    "#transform data to numpy arrays for Pytorch (since it only deals with tensors)\n",
    "X_train_np = X_train.to_numpy()\n",
    "y_train_np = y_train.to_numpy().squeeze()"
   ]
  },
  {
   "cell_type": "code",
   "execution_count": 50,
   "id": "25f5fad8",
   "metadata": {},
   "outputs": [
    {
     "name": "stdout",
     "output_type": "stream",
     "text": [
      "epoch 0  | loss: 9.72764 |  0:00:01s\n",
      "epoch 1  | loss: 2.51224 |  0:00:03s\n",
      "epoch 2  | loss: 1.2975  |  0:00:05s\n",
      "epoch 3  | loss: 1.05941 |  0:00:08s\n",
      "epoch 4  | loss: 1.01068 |  0:00:10s\n",
      "epoch 5  | loss: 0.99454 |  0:00:12s\n",
      "epoch 6  | loss: 0.98306 |  0:00:13s\n",
      "epoch 7  | loss: 0.97809 |  0:00:15s\n",
      "epoch 8  | loss: 0.96541 |  0:00:17s\n",
      "epoch 9  | loss: 0.95513 |  0:00:19s\n",
      "epoch 10 | loss: 0.94671 |  0:00:22s\n",
      "epoch 11 | loss: 0.93974 |  0:00:25s\n",
      "epoch 12 | loss: 0.93337 |  0:00:28s\n",
      "epoch 13 | loss: 0.92183 |  0:00:30s\n",
      "epoch 14 | loss: 0.9184  |  0:00:32s\n",
      "epoch 15 | loss: 0.91302 |  0:00:34s\n",
      "epoch 16 | loss: 0.90998 |  0:00:36s\n",
      "epoch 17 | loss: 0.91092 |  0:00:39s\n",
      "epoch 18 | loss: 0.90849 |  0:00:41s\n",
      "epoch 19 | loss: 0.90018 |  0:00:43s\n",
      "epoch 20 | loss: 0.8931  |  0:00:45s\n",
      "epoch 21 | loss: 0.89594 |  0:00:47s\n",
      "epoch 22 | loss: 0.89285 |  0:00:49s\n",
      "epoch 23 | loss: 0.89122 |  0:00:51s\n",
      "epoch 24 | loss: 0.88841 |  0:00:54s\n",
      "epoch 25 | loss: 0.88206 |  0:00:56s\n",
      "epoch 26 | loss: 0.88285 |  0:00:59s\n",
      "epoch 27 | loss: 0.88015 |  0:01:01s\n",
      "epoch 28 | loss: 0.87452 |  0:01:03s\n",
      "epoch 29 | loss: 0.87623 |  0:01:05s\n",
      "epoch 30 | loss: 0.87644 |  0:01:07s\n",
      "epoch 31 | loss: 0.87455 |  0:01:09s\n",
      "epoch 32 | loss: 0.86926 |  0:01:12s\n",
      "epoch 33 | loss: 0.86849 |  0:01:14s\n",
      "epoch 34 | loss: 0.86609 |  0:01:15s\n",
      "epoch 35 | loss: 0.8621  |  0:01:17s\n",
      "epoch 36 | loss: 0.85775 |  0:01:19s\n",
      "epoch 37 | loss: 0.86162 |  0:01:20s\n",
      "epoch 38 | loss: 0.85867 |  0:01:22s\n",
      "epoch 39 | loss: 0.85604 |  0:01:24s\n",
      "epoch 40 | loss: 0.85859 |  0:01:26s\n",
      "epoch 41 | loss: 0.85636 |  0:01:28s\n",
      "epoch 42 | loss: 0.8542  |  0:01:31s\n",
      "epoch 43 | loss: 0.85121 |  0:01:32s\n",
      "epoch 44 | loss: 0.85219 |  0:01:34s\n",
      "epoch 45 | loss: 0.85125 |  0:01:36s\n",
      "epoch 46 | loss: 0.85268 |  0:01:37s\n",
      "epoch 47 | loss: 0.8507  |  0:01:39s\n",
      "epoch 48 | loss: 0.85509 |  0:01:41s\n",
      "epoch 49 | loss: 0.85032 |  0:01:43s\n",
      "epoch 50 | loss: 0.84855 |  0:01:45s\n",
      "epoch 51 | loss: 0.84548 |  0:01:47s\n",
      "epoch 52 | loss: 0.84609 |  0:01:49s\n",
      "epoch 53 | loss: 0.84441 |  0:01:50s\n",
      "epoch 54 | loss: 0.84184 |  0:01:52s\n",
      "epoch 55 | loss: 0.84217 |  0:01:54s\n",
      "epoch 56 | loss: 0.84629 |  0:01:55s\n",
      "epoch 57 | loss: 0.83955 |  0:01:57s\n",
      "epoch 58 | loss: 0.83649 |  0:02:00s\n",
      "epoch 59 | loss: 0.83712 |  0:02:02s\n",
      "epoch 60 | loss: 0.84023 |  0:02:03s\n",
      "epoch 61 | loss: 0.84078 |  0:02:05s\n",
      "epoch 62 | loss: 0.83755 |  0:02:07s\n",
      "epoch 63 | loss: 0.83399 |  0:02:08s\n",
      "epoch 64 | loss: 0.83533 |  0:02:10s\n",
      "epoch 65 | loss: 0.83179 |  0:02:12s\n",
      "epoch 66 | loss: 0.83433 |  0:02:15s\n",
      "epoch 67 | loss: 0.82685 |  0:02:17s\n",
      "epoch 68 | loss: 0.82758 |  0:02:19s\n",
      "epoch 69 | loss: 0.83111 |  0:02:21s\n",
      "epoch 70 | loss: 0.83054 |  0:02:22s\n",
      "epoch 71 | loss: 0.82345 |  0:02:24s\n",
      "epoch 72 | loss: 0.82998 |  0:02:25s\n",
      "epoch 73 | loss: 0.82602 |  0:02:27s\n",
      "epoch 74 | loss: 0.82456 |  0:02:29s\n",
      "epoch 75 | loss: 0.8272  |  0:02:31s\n",
      "epoch 76 | loss: 0.82574 |  0:02:33s\n",
      "epoch 77 | loss: 0.82813 |  0:02:35s\n",
      "epoch 78 | loss: 0.82193 |  0:02:37s\n",
      "epoch 79 | loss: 0.82298 |  0:02:38s\n",
      "epoch 80 | loss: 0.82495 |  0:02:40s\n",
      "epoch 81 | loss: 0.82415 |  0:02:42s\n",
      "epoch 82 | loss: 0.82319 |  0:02:44s\n",
      "epoch 83 | loss: 0.82441 |  0:02:46s\n",
      "epoch 84 | loss: 0.82262 |  0:02:48s\n",
      "epoch 85 | loss: 0.81951 |  0:02:50s\n",
      "epoch 86 | loss: 0.81892 |  0:02:52s\n",
      "epoch 87 | loss: 0.82135 |  0:02:53s\n",
      "epoch 88 | loss: 0.81644 |  0:02:55s\n",
      "epoch 89 | loss: 0.81655 |  0:02:57s\n",
      "epoch 90 | loss: 0.81674 |  0:02:58s\n",
      "epoch 91 | loss: 0.82144 |  0:03:00s\n",
      "epoch 92 | loss: 0.81964 |  0:03:02s\n",
      "epoch 93 | loss: 0.81518 |  0:03:04s\n",
      "epoch 94 | loss: 0.81755 |  0:03:06s\n",
      "epoch 95 | loss: 0.81675 |  0:03:08s\n",
      "epoch 96 | loss: 0.81666 |  0:03:10s\n",
      "epoch 97 | loss: 0.81625 |  0:03:12s\n",
      "epoch 98 | loss: 0.81533 |  0:03:13s\n",
      "epoch 99 | loss: 0.81236 |  0:03:15s\n"
     ]
    }
   ],
   "source": [
    "# Build self-supervised model and train on training data WITHOUT target\n",
    "pre_trainer = TabNetPretrainer()\n",
    "\n",
    "pre_trainer.fit(\n",
    "    X_train=X_train_np,\n",
    "    pretraining_ratio=0.8,\n",
    ")"
   ]
  },
  {
   "cell_type": "code",
   "execution_count": 51,
   "id": "9f43c73d",
   "metadata": {},
   "outputs": [
    {
     "name": "stdout",
     "output_type": "stream",
     "text": [
      "Time consumed for training: 37.16862820000006 seconds\n",
      "Time consumed for prediction: 0.12362909999956173 seconds\n"
     ]
    }
   ],
   "source": [
    "# Build self-supervised learning model and train on 30 percent of training data\n",
    "ssl_model = TabNetClassifier(**final_TabNet_params)\n",
    "ssl_train_start = time.perf_counter()\n",
    "ssl_model.fit(X_train_part_np, y_train_part_np, patience=TabNet_params['patience'], \n",
    "               max_epochs=epochs, from_unsupervised = pre_trainer)\n",
    "ssl_train_end = time.perf_counter()\n",
    "\n",
    "ssl_pred_start = time.perf_counter()\n",
    "ssl_preds = ssl_model.predict(X_test_np)\n",
    "ssl_pred_end = time.perf_counter()\n",
    "\n",
    "ssl_train_time = ssl_train_end-ssl_train_start\n",
    "ssl_pred_time = ssl_pred_end-ssl_pred_start\n",
    "\n",
    "print(\"Time consumed for training:\" ,ssl_train_time, \"seconds\")\n",
    "print(\"Time consumed for prediction:\" ,ssl_pred_time, \"seconds\")"
   ]
  },
  {
   "cell_type": "code",
   "execution_count": 52,
   "id": "80912706",
   "metadata": {},
   "outputs": [
    {
     "name": "stdout",
     "output_type": "stream",
     "text": [
      "              precision    recall  f1-score   support\n",
      "\n",
      "           0       0.83      0.83      0.83      1035\n",
      "           1       0.54      0.54      0.54       374\n",
      "\n",
      "    accuracy                           0.75      1409\n",
      "   macro avg       0.69      0.69      0.69      1409\n",
      "weighted avg       0.75      0.75      0.75      1409\n",
      "\n"
     ]
    }
   ],
   "source": [
    "print(classification_report(y_test_np, ssl_preds))"
   ]
  },
  {
   "cell_type": "code",
   "execution_count": 54,
   "id": "c4d7d321",
   "metadata": {},
   "outputs": [
    {
     "name": "stdout",
     "output_type": "stream",
     "text": [
      "Time consumed for training: 37.98411820000001 seconds\n",
      "Time consumed for prediction: 0.1944127999995544 seconds\n"
     ]
    }
   ],
   "source": [
    "ssl_model = TabNetClassifier(**final_TabNet_params)\n",
    "ssl_train_start = time.perf_counter()\n",
    "ssl_model.fit(X_train_part_np, y_train_part_np, patience=TabNet_params['patience'], \n",
    "               max_epochs=epochs, from_unsupervised = pre_trainer)\n",
    "ssl_train_end = time.perf_counter()\n",
    "\n",
    "ssl_pred_start = time.perf_counter()\n",
    "ssl_preds_proba = ssl_model.predict_proba(X_test_np)[:,1]\n",
    "ssl_pred_end = time.perf_counter()\n",
    "\n",
    "ssl_train_time = ssl_train_end-ssl_train_start\n",
    "ssl_pred_time = ssl_pred_end-ssl_pred_start\n",
    "\n",
    "print(\"Time consumed for training:\" ,ssl_train_time, \"seconds\")\n",
    "print(\"Time consumed for prediction:\" ,ssl_pred_time, \"seconds\")"
   ]
  },
  {
   "cell_type": "code",
   "execution_count": 55,
   "id": "9b170b64",
   "metadata": {},
   "outputs": [
    {
     "name": "stdout",
     "output_type": "stream",
     "text": [
      "The ROC AUC score is 0.7992882792115529\n"
     ]
    }
   ],
   "source": [
    "ssl_score=roc_auc_score(y_test, ssl_preds_proba)\n",
    "print(\"The ROC AUC score is\" ,ssl_score)"
   ]
  }
 ],
 "metadata": {
  "kernelspec": {
   "display_name": "Python 3 (ipykernel)",
   "language": "python",
   "name": "python3"
  },
  "language_info": {
   "codemirror_mode": {
    "name": "ipython",
    "version": 3
   },
   "file_extension": ".py",
   "mimetype": "text/x-python",
   "name": "python",
   "nbconvert_exporter": "python",
   "pygments_lexer": "ipython3",
   "version": "3.8.16"
  }
 },
 "nbformat": 4,
 "nbformat_minor": 5
}
