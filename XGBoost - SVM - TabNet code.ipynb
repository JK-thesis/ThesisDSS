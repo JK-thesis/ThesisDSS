{
 "cells": [
  {
   "cell_type": "markdown",
   "id": "36007f32",
   "metadata": {},
   "source": [
    "https://www.kaggle.com/code/captaingaga/water-quality-70-acc-optuna-svm-iterativeimputer/notebook\n",
    "https://www.kaggle.com/code/muhammetgamal5/kfold-cross-validation-optuna-tuning/notebook\n",
    "https://www.kaggle.com/code/neilgibbons/tuning-tabnet-with-optuna\n",
    "    "
   ]
  },
  {
   "cell_type": "code",
   "execution_count": 1,
   "id": "482fa72a",
   "metadata": {},
   "outputs": [],
   "source": [
    "import numpy as np\n",
    "import pandas as pd\n",
    "import matplotlib.pyplot as plt\n",
    "import seaborn as sns\n",
    "import random\n",
    "import os\n",
    "\n",
    "from sklearn.model_selection import train_test_split\n",
    "from sklearn.metrics import roc_auc_score, accuracy_score\n",
    "import seaborn as sns\n",
    "\n",
    "import warnings\n",
    "warnings.filterwarnings(\"ignore\", category=UserWarning)\n",
    "from warnings import simplefilter\n",
    "simplefilter(\"ignore\", category=RuntimeWarning)\n",
    "\n",
    "import torch\n",
    "from torch.optim.lr_scheduler import ReduceLROnPlateau"
   ]
  },
  {
   "cell_type": "code",
   "execution_count": 2,
   "id": "d7aedd44",
   "metadata": {},
   "outputs": [],
   "source": [
    "# load models\n",
    "import xgboost\n",
    "from xgboost import XGBClassifier\n",
    "\n",
    "import sklearn.svm\n",
    "from sklearn.svm import SVC\n",
    "\n",
    "from pytorch_tabnet.pretraining import TabNetPretrainer\n",
    "from pytorch_tabnet.tab_model import TabNetClassifier"
   ]
  },
  {
   "cell_type": "code",
   "execution_count": 3,
   "id": "955e2a25",
   "metadata": {},
   "outputs": [],
   "source": [
    "# Set working directory\n",
    "os.chdir(\"C:\\\\Users\\Mumtaz\\Desktop\\Thesis data\")"
   ]
  },
  {
   "cell_type": "code",
   "execution_count": 4,
   "id": "3cd0280e",
   "metadata": {},
   "outputs": [],
   "source": [
    "# load data\n",
    "df = pd.read_csv('WA_Fn-UseC_-Telco-Customer-Churn.csv') "
   ]
  },
  {
   "cell_type": "code",
   "execution_count": 5,
   "id": "d8c62efb",
   "metadata": {},
   "outputs": [
    {
     "data": {
      "text/plain": [
       "No     5174\n",
       "Yes    1869\n",
       "Name: Churn, dtype: int64"
      ]
     },
     "execution_count": 5,
     "metadata": {},
     "output_type": "execute_result"
    }
   ],
   "source": [
    "# Check the target variable\n",
    "df['Churn'].value_counts()"
   ]
  },
  {
   "cell_type": "code",
   "execution_count": 6,
   "id": "5490fa54",
   "metadata": {},
   "outputs": [],
   "source": [
    "# Convert to right types\n",
    "df['TotalCharges'] = pd.to_numeric(df['TotalCharges'], errors='coerce')\n",
    "df['SeniorCitizen'] = df['SeniorCitizen'].map({1: 'Yes', 0: 'No'})"
   ]
  },
  {
   "cell_type": "code",
   "execution_count": 7,
   "id": "f9a980ff",
   "metadata": {},
   "outputs": [],
   "source": [
    "# replace missing values with median\n",
    "df['TotalCharges'] = df['TotalCharges'].fillna(df['TotalCharges'].median())"
   ]
  },
  {
   "cell_type": "code",
   "execution_count": 8,
   "id": "c21c52cc",
   "metadata": {},
   "outputs": [],
   "source": [
    "#drop column customerID, this is not relevant\n",
    "df.drop(columns=['customerID'], inplace = True)"
   ]
  },
  {
   "cell_type": "code",
   "execution_count": 9,
   "id": "1e04f584",
   "metadata": {},
   "outputs": [],
   "source": [
    "# transform to binary\n",
    "df['gender'].replace({'Female':1,'Male':0},inplace=True)"
   ]
  },
  {
   "cell_type": "code",
   "execution_count": 10,
   "id": "84e2225a",
   "metadata": {},
   "outputs": [],
   "source": [
    "# simplify value\n",
    "df.replace('No internet service', 'No', inplace=True)\n",
    "df.replace('No phone service', 'No', inplace=True)"
   ]
  },
  {
   "cell_type": "code",
   "execution_count": 11,
   "id": "790c1941",
   "metadata": {},
   "outputs": [],
   "source": [
    "# get dummies for features with multiple categories\n",
    "multiple_categories = ['InternetService' ,'Contract' ,'PaymentMethod']\n",
    "df = pd.get_dummies(data=df, columns= multiple_categories)"
   ]
  },
  {
   "cell_type": "code",
   "execution_count": 12,
   "id": "df089cdf",
   "metadata": {},
   "outputs": [],
   "source": [
    "# encode binary values\n",
    "categories = df[['SeniorCitizen', 'Partner', 'Dependents', 'PhoneService', 'MultipleLines', 'OnlineSecurity', 'OnlineBackup','DeviceProtection','TechSupport', 'StreamingTV', 'StreamingMovies', 'PaperlessBilling', 'Churn']]\n",
    "for i in categories:\n",
    "    df[i].replace({\"No\":0, \"Yes\":1}, inplace=True)"
   ]
  },
  {
   "cell_type": "code",
   "execution_count": 13,
   "id": "0156b1f8",
   "metadata": {},
   "outputs": [],
   "source": [
    "# split data into features and target\n",
    "X = df.drop('Churn', axis=1)\n",
    "y = df['Churn']"
   ]
  },
  {
   "cell_type": "code",
   "execution_count": 14,
   "id": "21da1c65",
   "metadata": {},
   "outputs": [],
   "source": [
    "# split the data with stratified split\n",
    "X_train, X_test, y_train, y_test = train_test_split(X, y,\n",
    "                                                    stratify=y, \n",
    "                                                    test_size=0.2, random_state=42)"
   ]
  },
  {
   "cell_type": "code",
   "execution_count": 15,
   "id": "3445bf9d",
   "metadata": {},
   "outputs": [],
   "source": [
    "# scale numeric values\n",
    "from sklearn.preprocessing import StandardScaler\n",
    "X_train[['tenure', 'MonthlyCharges', 'TotalCharges']] = StandardScaler().fit_transform(X_train[['tenure', 'MonthlyCharges', 'TotalCharges']])\n",
    "X_test[['tenure', 'MonthlyCharges', 'TotalCharges']] = StandardScaler().fit_transform(X_test[['tenure', 'MonthlyCharges', 'TotalCharges']])"
   ]
  },
  {
   "cell_type": "code",
   "execution_count": 16,
   "id": "a1910393",
   "metadata": {},
   "outputs": [
    {
     "name": "stdout",
     "output_type": "stream",
     "text": [
      "Class 0 has 4139 samples\n",
      "Class 1 has 1495 samples\n"
     ]
    },
    {
     "name": "stderr",
     "output_type": "stream",
     "text": [
      "C:\\Users\\Mumtaz\\anaconda3\\lib\\site-packages\\sklearn\\cluster\\_kmeans.py:870: FutureWarning: The default value of `n_init` will change from 3 to 'auto' in 1.4. Set the value of `n_init` explicitly to suppress the warning\n",
      "  warnings.warn(\n"
     ]
    },
    {
     "name": "stdout",
     "output_type": "stream",
     "text": [
      "Class 0 has 4139 samples after oversampling\n",
      "Class 1 has 4162 samples after oversampling\n"
     ]
    }
   ],
   "source": [
    "# Smote for training set\n",
    "from imblearn.over_sampling import KMeansSMOTE\n",
    "from sklearn.cluster import MiniBatchKMeans\n",
    "for label, count in zip(*np.unique(y_train, return_counts=True)):\n",
    "    print('Class {} has {} samples'.format(label, count))\n",
    "\n",
    "kmeans_smote = KMeansSMOTE(\n",
    "    sampling_strategy = 'not majority',\n",
    "    random_state = 42,\n",
    "    k_neighbors = 10,\n",
    "    cluster_balance_threshold = 0.1,\n",
    "    kmeans_estimator = MiniBatchKMeans(n_clusters=100, random_state=42)\n",
    ")\n",
    "X_train, y_train = kmeans_smote.fit_resample(X_train, y_train)\n",
    "\n",
    "for label, count in zip(*np.unique(y_train, return_counts=True)):\n",
    "    print('Class {} has {} samples after oversampling'.format(label, count))"
   ]
  },
  {
   "cell_type": "code",
   "execution_count": 17,
   "id": "4ea72514",
   "metadata": {},
   "outputs": [
    {
     "data": {
      "text/plain": [
       "1    4162\n",
       "0    4139\n",
       "Name: Churn, dtype: int64"
      ]
     },
     "execution_count": 17,
     "metadata": {},
     "output_type": "execute_result"
    }
   ],
   "source": [
    "# Check the target variable\n",
    "y_train.value_counts()"
   ]
  },
  {
   "cell_type": "code",
   "execution_count": 18,
   "id": "4ad9fb33",
   "metadata": {},
   "outputs": [
    {
     "name": "stdout",
     "output_type": "stream",
     "text": [
      "X_train shape :(8301, 26), y_train shape: (8301,)\n"
     ]
    }
   ],
   "source": [
    "print(f\"X_train shape :{X_train.shape}, y_train shape: {y_train.shape}\")"
   ]
  },
  {
   "cell_type": "code",
   "execution_count": 19,
   "id": "887e3fdb",
   "metadata": {},
   "outputs": [],
   "source": [
    "X_train = X_train.rename(columns={'InternetService_Fiber optic': 'InternetService_Fiber_optic', 'Contract_One year' : 'Contract_One_year', 'Contract_Two year': 'Contract_Two_year',\n",
    "                      'PaymentMethod_Bank transfer (automatic)':'PaymentMethod_Bank_transfer_automatic', 'PaymentMethod_Credit card (automatic)':'PaymentMethod_Creditcard_automatic)',\n",
    "                      'PaymentMethod_Electronic check': 'PaymentMethod_Electronic_check', 'PaymentMethod_Mailed check': 'PaymentMethod_Mailed_check'})"
   ]
  },
  {
   "cell_type": "code",
   "execution_count": 20,
   "id": "adac2a72",
   "metadata": {},
   "outputs": [],
   "source": [
    "X_test = X_test.rename(columns={'InternetService_Fiber optic': 'InternetService_Fiber_optic', 'Contract_One year' : 'Contract_One_year', 'Contract_Two year': 'Contract_Two_year',\n",
    "                      'PaymentMethod_Bank transfer (automatic)':'PaymentMethod_Bank_transfer_automatic', 'PaymentMethod_Credit card (automatic)':'PaymentMethod_Creditcard_automatic)',\n",
    "                      'PaymentMethod_Electronic check': 'PaymentMethod_Electronic_check', 'PaymentMethod_Mailed check': 'PaymentMethod_Mailed_check'})"
   ]
  },
  {
   "cell_type": "markdown",
   "id": "0fde4a70",
   "metadata": {},
   "source": [
    "# XGBOOST"
   ]
  },
  {
   "cell_type": "code",
   "execution_count": 81,
   "id": "2e4ce5f6",
   "metadata": {},
   "outputs": [],
   "source": [
    "import optuna\n",
    "def xgb_optimize(trial):\n",
    "    #split data for training and validation\n",
    "    X_tr, X_valid, y_tr, y_valid = train_test_split(X_train, y_train, stratify=y_train, test_size=0.2,random_state=42)\n",
    " \n",
    "    n_estimators = trial.suggest_int(\"n_estimators\",500,2500)\n",
    "    max_depth = trial.suggest_int(\"max_depth\",10,25)\n",
    "    learning_rate = trial.suggest_float(\"learning_rate\", 0.01, 0.5)\n",
    "    gamma = trial.suggest_float(\"gamma\", 0.05, 0.8)\n",
    "    subsample = trial.suggest_float(\"subsample\", 0.5, 0.8)\n",
    "    min_child_weight = trial.suggest_float(\"min_child_weight\", 0.5, 3)\n",
    "    reg_lambda = trial.suggest_float(\"reg_lambda\", 1.3, 2.3)\n",
    "    reg_alpha = trial.suggest_float(\"reg_alpha\", 1.5, 2.2)\n",
    "    colsample_bytree = trial.suggest_float(\"colsample_bytree\", 0.25, 0.8)\n",
    "    xgb_params = dict(use_label_encoder=False,\n",
    "                  n_estimators = n_estimators,\n",
    "                  max_depth = max_depth,\n",
    "                  learning_rate = learning_rate,\n",
    "                  gamma = gamma,\n",
    "                  subsample = subsample,\n",
    "                  min_child_weight = min_child_weight,\n",
    "                  reg_lambda = reg_lambda,\n",
    "                  reg_alpha = reg_alpha,                  \n",
    "                  colsample_bytree = colsample_bytree,\n",
    "                  random_state=42,\n",
    "                  verbosity=0,    \n",
    "                      )  \n",
    "    xgb_model = XGBClassifier(**xgb_params)\n",
    "    xgb_model.fit(X_tr, y_tr,\n",
    "                  eval_set=[(X_valid, y_valid)], verbose=0)\n",
    "    y_pred = xgb_model.predict(X_valid)\n",
    "    accuracy = accuracy_score(y_valid, y_pred)\n",
    "\n",
    "    return accuracy"
   ]
  },
  {
   "cell_type": "code",
   "execution_count": 82,
   "id": "b354bff9",
   "metadata": {},
   "outputs": [
    {
     "name": "stderr",
     "output_type": "stream",
     "text": [
      "\u001b[32m[I 2023-05-19 11:46:51,076]\u001b[0m A new study created in memory with name: XGB optimization\u001b[0m\n",
      "\u001b[32m[I 2023-05-19 11:47:02,744]\u001b[0m Trial 0 finished with value: 0.839855508729681 and parameters: {'n_estimators': 1357, 'max_depth': 14, 'learning_rate': 0.2725030718246668, 'gamma': 0.4642119456188759, 'subsample': 0.538366430844113, 'min_child_weight': 0.5950827794131035, 'reg_lambda': 2.0536861736474172, 'reg_alpha': 1.939428573667716, 'colsample_bytree': 0.3361207309401514}. Best is trial 0 with value: 0.839855508729681.\u001b[0m\n",
      "\u001b[32m[I 2023-05-19 11:47:21,827]\u001b[0m Trial 1 finished with value: 0.8452739313666466 and parameters: {'n_estimators': 1719, 'max_depth': 19, 'learning_rate': 0.4143338152561965, 'gamma': 0.23046068730153096, 'subsample': 0.5140786525671873, 'min_child_weight': 1.7960195826013974, 'reg_lambda': 1.7211256738600005, 'reg_alpha': 2.021192214566036, 'colsample_bytree': 0.7185499534174586}. Best is trial 1 with value: 0.8452739313666466.\u001b[0m\n",
      "\u001b[32m[I 2023-05-19 11:47:53,128]\u001b[0m Trial 2 finished with value: 0.8488862131246238 and parameters: {'n_estimators': 2114, 'max_depth': 20, 'learning_rate': 0.09256372949517842, 'gamma': 0.5862936637667401, 'subsample': 0.6767335087170867, 'min_child_weight': 2.69032043808469, 'reg_lambda': 1.719070195917621, 'reg_alpha': 1.8435013511814993, 'colsample_bytree': 0.7552987209116426}. Best is trial 2 with value: 0.8488862131246238.\u001b[0m\n",
      "\u001b[32m[I 2023-05-19 11:48:07,701]\u001b[0m Trial 3 finished with value: 0.8308248043347382 and parameters: {'n_estimators': 2110, 'max_depth': 20, 'learning_rate': 0.42056675522262016, 'gamma': 0.21985971505823726, 'subsample': 0.6811545223735828, 'min_child_weight': 1.6584464442786357, 'reg_lambda': 1.7658216977690313, 'reg_alpha': 1.9706796355383873, 'colsample_bytree': 0.2893338505409263}. Best is trial 2 with value: 0.8488862131246238.\u001b[0m\n",
      "\u001b[32m[I 2023-05-19 11:48:33,619]\u001b[0m Trial 4 finished with value: 0.8464780252859723 and parameters: {'n_estimators': 2171, 'max_depth': 15, 'learning_rate': 0.17537503386857492, 'gamma': 0.08579238434383644, 'subsample': 0.6793666462181345, 'min_child_weight': 0.9699044748828973, 'reg_lambda': 1.7688425577710285, 'reg_alpha': 1.8450874958901111, 'colsample_bytree': 0.6735833124384902}. Best is trial 2 with value: 0.8488862131246238.\u001b[0m\n",
      "\u001b[32m[I 2023-05-19 11:48:59,623]\u001b[0m Trial 5 finished with value: 0.8458759783263095 and parameters: {'n_estimators': 1835, 'max_depth': 24, 'learning_rate': 0.27346545507612313, 'gamma': 0.7704053922522835, 'subsample': 0.7559961707247507, 'min_child_weight': 1.5491719077999044, 'reg_lambda': 1.352188808773321, 'reg_alpha': 2.0488348968322327, 'colsample_bytree': 0.6252408668103406}. Best is trial 2 with value: 0.8488862131246238.\u001b[0m\n",
      "\u001b[32m[I 2023-05-19 11:49:15,477]\u001b[0m Trial 6 finished with value: 0.8470800722456352 and parameters: {'n_estimators': 1208, 'max_depth': 11, 'learning_rate': 0.02895418894449551, 'gamma': 0.6416407002024064, 'subsample': 0.6673182958832862, 'min_child_weight': 2.187789239972407, 'reg_lambda': 1.8477862779638574, 'reg_alpha': 1.9877881078234834, 'colsample_bytree': 0.5672917640638258}. Best is trial 2 with value: 0.8488862131246238.\u001b[0m\n",
      "\u001b[32m[I 2023-05-19 11:49:34,101]\u001b[0m Trial 7 finished with value: 0.8482841661649608 and parameters: {'n_estimators': 1811, 'max_depth': 10, 'learning_rate': 0.28628136474039406, 'gamma': 0.2220424704050608, 'subsample': 0.5314525146623051, 'min_child_weight': 2.9247982939206008, 'reg_lambda': 1.8680334285843905, 'reg_alpha': 1.7841315860819875, 'colsample_bytree': 0.6919805230474773}. Best is trial 2 with value: 0.8488862131246238.\u001b[0m\n",
      "\u001b[32m[I 2023-05-19 11:49:41,280]\u001b[0m Trial 8 finished with value: 0.8344370860927153 and parameters: {'n_estimators': 665, 'max_depth': 19, 'learning_rate': 0.40262373287505226, 'gamma': 0.6315204667896559, 'subsample': 0.630399024254434, 'min_child_weight': 0.7680492844590967, 'reg_lambda': 1.9360720039478108, 'reg_alpha': 1.6624604579134645, 'colsample_bytree': 0.43488830368021336}. Best is trial 2 with value: 0.8488862131246238.\u001b[0m\n",
      "\u001b[32m[I 2023-05-19 11:49:46,972]\u001b[0m Trial 9 finished with value: 0.8356411800120409 and parameters: {'n_estimators': 797, 'max_depth': 24, 'learning_rate': 0.49255562093058497, 'gamma': 0.1622992063546288, 'subsample': 0.6770869101900504, 'min_child_weight': 2.328994920088914, 'reg_lambda': 1.632695820740145, 'reg_alpha': 1.502780693016306, 'colsample_bytree': 0.25092185607275264}. Best is trial 2 with value: 0.8488862131246238.\u001b[0m\n",
      "\u001b[32m[I 2023-05-19 11:50:17,939]\u001b[0m Trial 10 finished with value: 0.8458759783263095 and parameters: {'n_estimators': 2498, 'max_depth': 21, 'learning_rate': 0.01188927502611438, 'gamma': 0.4283638853265856, 'subsample': 0.7983091687350194, 'min_child_weight': 2.9721450110902543, 'reg_lambda': 1.4308179113335684, 'reg_alpha': 2.1759958636577386, 'colsample_bytree': 0.4553720759679595}. Best is trial 2 with value: 0.8488862131246238.\u001b[0m\n",
      "\u001b[32m[I 2023-05-19 11:50:42,342]\u001b[0m Trial 11 finished with value: 0.851896447922938 and parameters: {'n_estimators': 2011, 'max_depth': 10, 'learning_rate': 0.15689694409065463, 'gamma': 0.34281039685786974, 'subsample': 0.5883039529632494, 'min_child_weight': 2.9581346270002604, 'reg_lambda': 2.143303811884214, 'reg_alpha': 1.752664003683718, 'colsample_bytree': 0.762540469652689}. Best is trial 11 with value: 0.851896447922938.\u001b[0m\n",
      "\u001b[32m[I 2023-05-19 11:51:20,305]\u001b[0m Trial 12 finished with value: 0.8470800722456352 and parameters: {'n_estimators': 2483, 'max_depth': 16, 'learning_rate': 0.13347215470250293, 'gamma': 0.5599243525659877, 'subsample': 0.6001492742016882, 'min_child_weight': 2.6000187287637115, 'reg_lambda': 2.2812003661659204, 'reg_alpha': 1.701543795753366, 'colsample_bytree': 0.781411704224907}. Best is trial 11 with value: 0.851896447922938.\u001b[0m\n",
      "\u001b[32m[I 2023-05-19 11:51:48,265]\u001b[0m Trial 13 finished with value: 0.8537025888019265 and parameters: {'n_estimators': 2149, 'max_depth': 13, 'learning_rate': 0.1185790156192002, 'gamma': 0.3290986163545474, 'subsample': 0.5854499266124411, 'min_child_weight': 2.5643950746454474, 'reg_lambda': 2.142076902698536, 'reg_alpha': 1.6561943865610749, 'colsample_bytree': 0.7598746893605485}. Best is trial 13 with value: 0.8537025888019265.\u001b[0m\n",
      "\u001b[32m[I 2023-05-19 11:52:09,233]\u001b[0m Trial 14 finished with value: 0.8464780252859723 and parameters: {'n_estimators': 1578, 'max_depth': 12, 'learning_rate': 0.1944599939770395, 'gamma': 0.3406270836157942, 'subsample': 0.5795959932784527, 'min_child_weight': 2.1896481576562286, 'reg_lambda': 2.245902898689361, 'reg_alpha': 1.5821522852903969, 'colsample_bytree': 0.7907809732559318}. Best is trial 13 with value: 0.8537025888019265.\u001b[0m\n",
      "\u001b[32m[I 2023-05-19 11:52:38,205]\u001b[0m Trial 15 finished with value: 0.8524984948826009 and parameters: {'n_estimators': 2249, 'max_depth': 13, 'learning_rate': 0.08700364255300166, 'gamma': 0.35677601206447945, 'subsample': 0.5781683407547701, 'min_child_weight': 2.531296250835853, 'reg_lambda': 2.0920923112597603, 'reg_alpha': 1.7056272095318876, 'colsample_bytree': 0.6045318848627609}. Best is trial 13 with value: 0.8537025888019265.\u001b[0m\n",
      "\u001b[32m[I 2023-05-19 11:52:52,257]\u001b[0m Trial 16 finished with value: 0.8446718844069837 and parameters: {'n_estimators': 1073, 'max_depth': 13, 'learning_rate': 0.0816088171077354, 'gamma': 0.344373584477797, 'subsample': 0.5584002004952202, 'min_child_weight': 1.937635886180313, 'reg_lambda': 2.0433998494360135, 'reg_alpha': 1.605696160248757, 'colsample_bytree': 0.5739587439947287}. Best is trial 13 with value: 0.8537025888019265.\u001b[0m\n",
      "\u001b[32m[I 2023-05-19 11:53:21,013]\u001b[0m Trial 17 finished with value: 0.8446718844069837 and parameters: {'n_estimators': 2305, 'max_depth': 16, 'learning_rate': 0.21817241750027544, 'gamma': 0.49376243240685913, 'subsample': 0.6142610105274751, 'min_child_weight': 2.522517357940578, 'reg_lambda': 2.1445493427086486, 'reg_alpha': 1.5283275887537917, 'colsample_bytree': 0.6304210950732845}. Best is trial 13 with value: 0.8537025888019265.\u001b[0m\n",
      "\u001b[32m[I 2023-05-19 11:53:46,499]\u001b[0m Trial 18 finished with value: 0.8428657435279951 and parameters: {'n_estimators': 2289, 'max_depth': 13, 'learning_rate': 0.07479235187347189, 'gamma': 0.29252396895193833, 'subsample': 0.6318020828476322, 'min_child_weight': 1.4327724582722037, 'reg_lambda': 1.9764317174305566, 'reg_alpha': 1.6688893225481602, 'colsample_bytree': 0.49531933483187335}. Best is trial 13 with value: 0.8537025888019265.\u001b[0m\n",
      "\u001b[32m[I 2023-05-19 11:54:07,731]\u001b[0m Trial 19 finished with value: 0.8416616496086695 and parameters: {'n_estimators': 1916, 'max_depth': 17, 'learning_rate': 0.3319815196960568, 'gamma': 0.06323172644148695, 'subsample': 0.5616359709556382, 'min_child_weight': 1.2204894908432666, 'reg_lambda': 2.1558785930334636, 'reg_alpha': 1.7562379733952473, 'colsample_bytree': 0.6292496670483154}. Best is trial 13 with value: 0.8537025888019265.\u001b[0m\n",
      "\u001b[32m[I 2023-05-19 11:54:25,927]\u001b[0m Trial 20 finished with value: 0.8512944009632751 and parameters: {'n_estimators': 1615, 'max_depth': 14, 'learning_rate': 0.1212585207392754, 'gamma': 0.40418682895629027, 'subsample': 0.7256742012577624, 'min_child_weight': 2.0229053764574356, 'reg_lambda': 1.553421140992274, 'reg_alpha': 1.6085848708762274, 'colsample_bytree': 0.5311517703612667}. Best is trial 13 with value: 0.8537025888019265.\u001b[0m\n",
      "\u001b[32m[I 2023-05-19 11:54:49,557]\u001b[0m Trial 21 finished with value: 0.8470800722456352 and parameters: {'n_estimators': 2038, 'max_depth': 10, 'learning_rate': 0.1541466291129572, 'gamma': 0.34541542697939054, 'subsample': 0.5776084153391023, 'min_child_weight': 2.7660027450294447, 'reg_lambda': 2.152318284631133, 'reg_alpha': 1.7457337455062563, 'colsample_bytree': 0.7300130297645061}. Best is trial 13 with value: 0.8537025888019265.\u001b[0m\n",
      "\u001b[32m[I 2023-05-19 11:55:15,710]\u001b[0m Trial 22 finished with value: 0.8488862131246238 and parameters: {'n_estimators': 2301, 'max_depth': 12, 'learning_rate': 0.21258860185449438, 'gamma': 0.2877817478341266, 'subsample': 0.5960818641720813, 'min_child_weight': 2.3994730970155094, 'reg_lambda': 2.0716484270736575, 'reg_alpha': 1.8947014878136417, 'colsample_bytree': 0.7992769944744973}. Best is trial 13 with value: 0.8537025888019265.\u001b[0m\n",
      "\u001b[32m[I 2023-05-19 11:55:38,309]\u001b[0m Trial 23 finished with value: 0.847682119205298 and parameters: {'n_estimators': 1946, 'max_depth': 11, 'learning_rate': 0.05678128473734401, 'gamma': 0.38692328708519946, 'subsample': 0.5042269060919642, 'min_child_weight': 2.7649891093318577, 'reg_lambda': 2.2256622670597586, 'reg_alpha': 1.7951380967579276, 'colsample_bytree': 0.6706056758322256}. Best is trial 13 with value: 0.8537025888019265.\u001b[0m\n",
      "\u001b[32m[I 2023-05-19 11:55:56,965]\u001b[0m Trial 24 finished with value: 0.8470800722456352 and parameters: {'n_estimators': 1432, 'max_depth': 12, 'learning_rate': 0.11503706784015894, 'gamma': 0.5038407080573948, 'subsample': 0.6449956904332214, 'min_child_weight': 2.9457543386428346, 'reg_lambda': 1.98051519245655, 'reg_alpha': 1.7047612978954494, 'colsample_bytree': 0.7359508644452091}. Best is trial 13 with value: 0.8537025888019265.\u001b[0m\n",
      "\u001b[32m[I 2023-05-19 11:56:13,787]\u001b[0m Trial 25 finished with value: 0.8440698374473209 and parameters: {'n_estimators': 2284, 'max_depth': 10, 'learning_rate': 0.15986574897497935, 'gamma': 0.15251873810375535, 'subsample': 0.5476649876375072, 'min_child_weight': 2.4452380373282834, 'reg_lambda': 2.1848383697570517, 'reg_alpha': 1.5727648828415515, 'colsample_bytree': 0.3787339213663353}. Best is trial 13 with value: 0.8537025888019265.\u001b[0m\n",
      "\u001b[32m[I 2023-05-19 11:56:37,866]\u001b[0m Trial 26 finished with value: 0.8549066827212523 and parameters: {'n_estimators': 1995, 'max_depth': 14, 'learning_rate': 0.041577193771545534, 'gamma': 0.27710834903492526, 'subsample': 0.5834159192713841, 'min_child_weight': 2.2228970498369542, 'reg_lambda': 2.1017837428593733, 'reg_alpha': 1.6676861631485373, 'colsample_bytree': 0.592375489661815}. Best is trial 26 with value: 0.8549066827212523.\u001b[0m\n",
      "\u001b[32m[I 2023-05-19 11:56:59,355]\u001b[0m Trial 27 finished with value: 0.8543046357615894 and parameters: {'n_estimators': 1767, 'max_depth': 15, 'learning_rate': 0.04606823712133053, 'gamma': 0.2858660564704926, 'subsample': 0.6248841950697719, 'min_child_weight': 2.242502353087758, 'reg_lambda': 1.8974367334411628, 'reg_alpha': 1.6448567263082041, 'colsample_bytree': 0.580221838381764}. Best is trial 26 with value: 0.8549066827212523.\u001b[0m\n",
      "\u001b[32m[I 2023-05-19 11:57:17,150]\u001b[0m Trial 28 finished with value: 0.8512944009632751 and parameters: {'n_estimators': 1693, 'max_depth': 15, 'learning_rate': 0.04377258923752726, 'gamma': 0.2743836227747318, 'subsample': 0.615980073789979, 'min_child_weight': 2.206428132738959, 'reg_lambda': 1.909908382717435, 'reg_alpha': 1.636661203852703, 'colsample_bytree': 0.4707623976989884}. Best is trial 26 with value: 0.8549066827212523.\u001b[0m\n",
      "\u001b[32m[I 2023-05-19 11:57:32,807]\u001b[0m Trial 29 finished with value: 0.8482841661649608 and parameters: {'n_estimators': 1380, 'max_depth': 17, 'learning_rate': 0.01023289051089079, 'gamma': 0.13021022427457327, 'subsample': 0.7080194006968762, 'min_child_weight': 1.9843708551711832, 'reg_lambda': 2.0249838051370013, 'reg_alpha': 1.550797227978927, 'colsample_bytree': 0.39865193076207295}. Best is trial 26 with value: 0.8549066827212523.\u001b[0m\n",
      "\u001b[32m[I 2023-05-19 11:57:47,422]\u001b[0m Trial 30 finished with value: 0.8506923540036123 and parameters: {'n_estimators': 1191, 'max_depth': 15, 'learning_rate': 0.051344970288056985, 'gamma': 0.4639041949863234, 'subsample': 0.6539340239776937, 'min_child_weight': 1.8306548941286707, 'reg_lambda': 1.8482955182916578, 'reg_alpha': 1.897096366217066, 'colsample_bytree': 0.5424699242048303}. Best is trial 26 with value: 0.8549066827212523.\u001b[0m\n",
      "\u001b[32m[I 2023-05-19 11:58:09,471]\u001b[0m Trial 31 finished with value: 0.8500903070439494 and parameters: {'n_estimators': 2173, 'max_depth': 14, 'learning_rate': 0.09831294456815745, 'gamma': 0.2799477504648036, 'subsample': 0.5316564576266493, 'min_child_weight': 2.3570356805440493, 'reg_lambda': 2.058292561836286, 'reg_alpha': 1.697705094381471, 'colsample_bytree': 0.6012650385801739}. Best is trial 26 with value: 0.8549066827212523.\u001b[0m\n",
      "\u001b[32m[I 2023-05-19 11:58:27,548]\u001b[0m Trial 32 finished with value: 0.8500903070439494 and parameters: {'n_estimators': 1807, 'max_depth': 13, 'learning_rate': 0.0667083572712658, 'gamma': 0.2040844104096971, 'subsample': 0.5634249359890257, 'min_child_weight': 2.5741725392840977, 'reg_lambda': 2.2948723373779507, 'reg_alpha': 1.6524285797835037, 'colsample_bytree': 0.5115644314987166}. Best is trial 26 with value: 0.8549066827212523.\u001b[0m\n",
      "\u001b[32m[I 2023-05-19 11:58:49,884]\u001b[0m Trial 33 finished with value: 0.851896447922938 and parameters: {'n_estimators': 1956, 'max_depth': 14, 'learning_rate': 0.10703678888440638, 'gamma': 0.25447087047874506, 'subsample': 0.6127321626369375, 'min_child_weight': 2.130999539255821, 'reg_lambda': 2.0664053343644513, 'reg_alpha': 1.61123729084477, 'colsample_bytree': 0.5909190294130634}. Best is trial 26 with value: 0.8549066827212523.\u001b[0m\n",
      "\u001b[32m[I 2023-05-19 11:59:16,393]\u001b[0m Trial 34 finished with value: 0.8512944009632751 and parameters: {'n_estimators': 2103, 'max_depth': 18, 'learning_rate': 0.03107134957988144, 'gamma': 0.3764689970050073, 'subsample': 0.5758422715904338, 'min_child_weight': 2.712425337283637, 'reg_lambda': 2.112432631095516, 'reg_alpha': 1.7220028417513842, 'colsample_bytree': 0.6598360252262219}. Best is trial 26 with value: 0.8549066827212523.\u001b[0m\n",
      "\u001b[32m[I 2023-05-19 11:59:44,263]\u001b[0m Trial 35 finished with value: 0.8488862131246238 and parameters: {'n_estimators': 2384, 'max_depth': 16, 'learning_rate': 0.08718353839474398, 'gamma': 0.1879453617648906, 'subsample': 0.5196948485790269, 'min_child_weight': 2.310417840645071, 'reg_lambda': 1.9927346077025059, 'reg_alpha': 1.8005647612537092, 'colsample_bytree': 0.702805525370202}. Best is trial 26 with value: 0.8549066827212523.\u001b[0m\n",
      "\u001b[32m[I 2023-05-19 12:00:02,489]\u001b[0m Trial 36 finished with value: 0.8434677904876581 and parameters: {'n_estimators': 1720, 'max_depth': 13, 'learning_rate': 0.23599756673820838, 'gamma': 0.44562256970284686, 'subsample': 0.6366148831902237, 'min_child_weight': 1.696846843892359, 'reg_lambda': 1.6814032050107572, 'reg_alpha': 1.6399431047781028, 'colsample_bytree': 0.5536843569947183}. Best is trial 26 with value: 0.8549066827212523.\u001b[0m\n",
      "\u001b[32m[I 2023-05-19 12:00:26,360]\u001b[0m Trial 37 finished with value: 0.8500903070439494 and parameters: {'n_estimators': 2109, 'max_depth': 15, 'learning_rate': 0.13334195558411308, 'gamma': 0.31478241144018015, 'subsample': 0.6017335552901851, 'min_child_weight': 2.4976394212718827, 'reg_lambda': 1.9201101687390638, 'reg_alpha': 1.8304118748641627, 'colsample_bytree': 0.6142504075501367}. Best is trial 26 with value: 0.8549066827212523.\u001b[0m\n",
      "\u001b[32m[I 2023-05-19 12:00:53,382]\u001b[0m Trial 38 finished with value: 0.8512944009632751 and parameters: {'n_estimators': 2199, 'max_depth': 11, 'learning_rate': 0.03870612242140833, 'gamma': 0.25128899252872583, 'subsample': 0.5439402235349304, 'min_child_weight': 1.855793183881974, 'reg_lambda': 2.206139823906672, 'reg_alpha': 1.6877325132501169, 'colsample_bytree': 0.6605388712348806}. Best is trial 26 with value: 0.8549066827212523.\u001b[0m\n",
      "\u001b[32m[I 2023-05-19 12:01:14,600]\u001b[0m Trial 39 finished with value: 0.8464780252859723 and parameters: {'n_estimators': 1871, 'max_depth': 15, 'learning_rate': 0.06817010290084408, 'gamma': 0.7953081182745521, 'subsample': 0.6587730405041582, 'min_child_weight': 2.054487222931875, 'reg_lambda': 1.8224499880219116, 'reg_alpha': 2.104393132143315, 'colsample_bytree': 0.5078788377707306}. Best is trial 26 with value: 0.8549066827212523.\u001b[0m\n",
      "\u001b[32m[I 2023-05-19 12:01:31,286]\u001b[0m Trial 40 finished with value: 0.8440698374473209 and parameters: {'n_estimators': 1752, 'max_depth': 14, 'learning_rate': 0.17931071554383798, 'gamma': 0.1103433722364767, 'subsample': 0.6138490875552369, 'min_child_weight': 2.649340526592911, 'reg_lambda': 2.1087470920756206, 'reg_alpha': 1.544904748133138, 'colsample_bytree': 0.5756249813136123}. Best is trial 26 with value: 0.8549066827212523.\u001b[0m\n",
      "\u001b[32m[I 2023-05-19 12:01:53,670]\u001b[0m Trial 41 finished with value: 0.8500903070439494 and parameters: {'n_estimators': 1985, 'max_depth': 14, 'learning_rate': 0.10246543901712474, 'gamma': 0.2525382053907139, 'subsample': 0.6190162330331335, 'min_child_weight': 2.118260536793814, 'reg_lambda': 2.0848618547745708, 'reg_alpha': 1.6160735538255615, 'colsample_bytree': 0.6082534687306069}. Best is trial 26 with value: 0.8549066827212523.\u001b[0m\n",
      "\u001b[32m[I 2023-05-19 12:02:16,321]\u001b[0m Trial 42 finished with value: 0.847682119205298 and parameters: {'n_estimators': 2041, 'max_depth': 12, 'learning_rate': 0.10353083327521198, 'gamma': 0.23716176226788171, 'subsample': 0.5911358096913448, 'min_child_weight': 2.2264509912909, 'reg_lambda': 2.009850402074953, 'reg_alpha': 1.5862496715775516, 'colsample_bytree': 0.5889820861029914}. Best is trial 26 with value: 0.8549066827212523.\u001b[0m\n",
      "\u001b[32m[I 2023-05-19 12:02:42,786]\u001b[0m Trial 43 finished with value: 0.8494882600842866 and parameters: {'n_estimators': 2395, 'max_depth': 11, 'learning_rate': 0.14622664431390475, 'gamma': 0.3207697695676356, 'subsample': 0.5832140360813364, 'min_child_weight': 2.8623510215369734, 'reg_lambda': 2.1830903566111157, 'reg_alpha': 1.7609316736072063, 'colsample_bytree': 0.7517728768314494}. Best is trial 26 with value: 0.8549066827212523.\u001b[0m\n",
      "\u001b[32m[I 2023-05-19 12:03:06,083]\u001b[0m Trial 44 finished with value: 0.8446718844069837 and parameters: {'n_estimators': 2194, 'max_depth': 25, 'learning_rate': 0.31388506384209763, 'gamma': 0.3671306149522553, 'subsample': 0.558926908408868, 'min_child_weight': 2.841562452117146, 'reg_lambda': 2.2430196154622903, 'reg_alpha': 1.7299885554233323, 'colsample_bytree': 0.7024387785054611}. Best is trial 26 with value: 0.8549066827212523.\u001b[0m\n",
      "\u001b[32m[I 2023-05-19 12:03:29,939]\u001b[0m Trial 45 finished with value: 0.8549066827212523 and parameters: {'n_estimators': 1889, 'max_depth': 14, 'learning_rate': 0.02605986936954447, 'gamma': 0.20358023563417124, 'subsample': 0.6041267441196224, 'min_child_weight': 2.310204144678159, 'reg_lambda': 1.922379911304627, 'reg_alpha': 1.6700621000284763, 'colsample_bytree': 0.6468556230122777}. Best is trial 26 with value: 0.8549066827212523.\u001b[0m\n",
      "\u001b[32m[I 2023-05-19 12:03:52,230]\u001b[0m Trial 46 finished with value: 0.8494882600842866 and parameters: {'n_estimators': 1573, 'max_depth': 16, 'learning_rate': 0.01863836574839347, 'gamma': 0.17514806575127934, 'subsample': 0.5698827618909069, 'min_child_weight': 2.31492504068886, 'reg_lambda': 1.7866036297628711, 'reg_alpha': 1.6792376098210433, 'colsample_bytree': 0.6519771280644783}. Best is trial 26 with value: 0.8549066827212523.\u001b[0m\n",
      "\u001b[32m[I 2023-05-19 12:04:14,958]\u001b[0m Trial 47 finished with value: 0.8494882600842866 and parameters: {'n_estimators': 1866, 'max_depth': 22, 'learning_rate': 0.04413739703944285, 'gamma': 0.21716715245492932, 'subsample': 0.6025247084681876, 'min_child_weight': 2.464869836588773, 'reg_lambda': 1.8760233931200914, 'reg_alpha': 1.6436217596148182, 'colsample_bytree': 0.6449473867883664}. Best is trial 26 with value: 0.8549066827212523.\u001b[0m\n",
      "\u001b[32m[I 2023-05-19 12:04:34,462]\u001b[0m Trial 48 finished with value: 0.8543046357615894 and parameters: {'n_estimators': 1484, 'max_depth': 13, 'learning_rate': 0.07884664543361372, 'gamma': 0.40494947178247737, 'subsample': 0.6305858683383784, 'min_child_weight': 1.472244169707969, 'reg_lambda': 1.9534323962969806, 'reg_alpha': 1.5152257960998696, 'colsample_bytree': 0.6911505692891182}. Best is trial 26 with value: 0.8549066827212523.\u001b[0m\n",
      "\u001b[32m[I 2023-05-19 12:04:58,004]\u001b[0m Trial 49 finished with value: 0.8500903070439494 and parameters: {'n_estimators': 1471, 'max_depth': 18, 'learning_rate': 0.027942572089511154, 'gamma': 0.4115553472411274, 'subsample': 0.6858856173746413, 'min_child_weight': 1.4849520402621785, 'reg_lambda': 1.7464923381347575, 'reg_alpha': 1.5023236179450528, 'colsample_bytree': 0.6854722480707818}. Best is trial 26 with value: 0.8549066827212523.\u001b[0m\n",
      "\u001b[32m[I 2023-05-19 12:05:14,411]\u001b[0m Trial 50 finished with value: 0.8428657435279951 and parameters: {'n_estimators': 1295, 'max_depth': 12, 'learning_rate': 0.38197822337497245, 'gamma': 0.30716732609663194, 'subsample': 0.6405288981740195, 'min_child_weight': 1.2248180623575546, 'reg_lambda': 1.9527903603808499, 'reg_alpha': 1.535349149194477, 'colsample_bytree': 0.7620735494134124}. Best is trial 26 with value: 0.8549066827212523.\u001b[0m\n",
      "\u001b[32m[I 2023-05-19 12:05:36,937]\u001b[0m Trial 51 finished with value: 0.8531005418422637 and parameters: {'n_estimators': 1635, 'max_depth': 13, 'learning_rate': 0.07900314320250304, 'gamma': 0.49730540357280145, 'subsample': 0.6288602640168364, 'min_child_weight': 1.3216515772121828, 'reg_lambda': 1.8836877425923924, 'reg_alpha': 1.575937132599328, 'colsample_bytree': 0.7220593837573953}. Best is trial 26 with value: 0.8549066827212523.\u001b[0m\n",
      "\u001b[32m[I 2023-05-19 12:06:01,639]\u001b[0m Trial 52 finished with value: 0.847682119205298 and parameters: {'n_estimators': 1622, 'max_depth': 13, 'learning_rate': 0.058338886154559816, 'gamma': 0.554077892507142, 'subsample': 0.6613727245857424, 'min_child_weight': 1.3558634221389745, 'reg_lambda': 1.8914047154187077, 'reg_alpha': 1.562304964145759, 'colsample_bytree': 0.7176162946584416}. Best is trial 26 with value: 0.8549066827212523.\u001b[0m\n",
      "\u001b[32m[I 2023-05-19 12:06:22,736]\u001b[0m Trial 53 finished with value: 0.8440698374473209 and parameters: {'n_estimators': 1523, 'max_depth': 14, 'learning_rate': 0.07261395492427317, 'gamma': 0.5217489246302591, 'subsample': 0.626447539501694, 'min_child_weight': 1.5918589951793432, 'reg_lambda': 1.7907714248866329, 'reg_alpha': 1.5743275463262603, 'colsample_bytree': 0.6808263476351358}. Best is trial 26 with value: 0.8549066827212523.\u001b[0m\n",
      "\u001b[32m[I 2023-05-19 12:06:43,192]\u001b[0m Trial 54 finished with value: 0.839855508729681 and parameters: {'n_estimators': 1712, 'max_depth': 15, 'learning_rate': 0.4780444684234794, 'gamma': 0.448825990869884, 'subsample': 0.6253453480480253, 'min_child_weight': 1.1846134421665468, 'reg_lambda': 1.9514426394529587, 'reg_alpha': 1.512143790377303, 'colsample_bytree': 0.7183274384695619}. Best is trial 26 with value: 0.8549066827212523.\u001b[0m\n",
      "\u001b[32m[I 2023-05-19 12:06:58,099]\u001b[0m Trial 55 finished with value: 0.8458759783263095 and parameters: {'n_estimators': 955, 'max_depth': 13, 'learning_rate': 0.12563306384394082, 'gamma': 0.6272133598152095, 'subsample': 0.6069538878215016, 'min_child_weight': 1.018892825993282, 'reg_lambda': 1.8286415507650065, 'reg_alpha': 1.601869735037543, 'colsample_bytree': 0.7779131764204661}. Best is trial 26 with value: 0.8549066827212523.\u001b[0m\n",
      "\u001b[32m[I 2023-05-19 12:07:27,399]\u001b[0m Trial 56 finished with value: 0.8464780252859723 and parameters: {'n_estimators': 1797, 'max_depth': 16, 'learning_rate': 0.08837886939809227, 'gamma': 0.7193368788046656, 'subsample': 0.6721063885101664, 'min_child_weight': 0.8082850403444668, 'reg_lambda': 1.8688947446437425, 'reg_alpha': 1.6305667635902914, 'colsample_bytree': 0.7543465325956473}. Best is trial 26 with value: 0.8549066827212523.\u001b[0m\n",
      "\u001b[32m[I 2023-05-19 12:07:51,016]\u001b[0m Trial 57 finished with value: 0.8524984948826009 and parameters: {'n_estimators': 1898, 'max_depth': 12, 'learning_rate': 0.023457294400219347, 'gamma': 0.42256369368162416, 'subsample': 0.6458722033174759, 'min_child_weight': 1.7242358755286649, 'reg_lambda': 1.7061346688705497, 'reg_alpha': 1.6656026698082003, 'colsample_bytree': 0.5598674983580585}. Best is trial 26 with value: 0.8549066827212523.\u001b[0m\n",
      "\u001b[32m[I 2023-05-19 12:08:07,862]\u001b[0m Trial 58 finished with value: 0.8488862131246238 and parameters: {'n_estimators': 1289, 'max_depth': 11, 'learning_rate': 0.05062822632930432, 'gamma': 0.320157379586738, 'subsample': 0.6951332318907268, 'min_child_weight': 1.411313219053437, 'reg_lambda': 1.9344242039484738, 'reg_alpha': 1.5977423359603005, 'colsample_bytree': 0.6325001118703685}. Best is trial 26 with value: 0.8549066827212523.\u001b[0m\n",
      "\u001b[32m[I 2023-05-19 12:08:30,636]\u001b[0m Trial 59 finished with value: 0.8531005418422637 and parameters: {'n_estimators': 1654, 'max_depth': 13, 'learning_rate': 0.08441329496413699, 'gamma': 0.489045922354388, 'subsample': 0.5894717141877956, 'min_child_weight': 1.5757970935866072, 'reg_lambda': 2.0308499026904103, 'reg_alpha': 1.551874547107289, 'colsample_bytree': 0.7423874514276028}. Best is trial 26 with value: 0.8549066827212523.\u001b[0m\n",
      "\u001b[32m[I 2023-05-19 12:08:38,695]\u001b[0m Trial 60 finished with value: 0.8494882600842866 and parameters: {'n_estimators': 529, 'max_depth': 17, 'learning_rate': 0.17705524979481554, 'gamma': 0.38842494488691165, 'subsample': 0.627998008362675, 'min_child_weight': 1.334228504415238, 'reg_lambda': 1.4862774113834074, 'reg_alpha': 1.6652570419123882, 'colsample_bytree': 0.7024212948597606}. Best is trial 26 with value: 0.8549066827212523.\u001b[0m\n",
      "\u001b[32m[I 2023-05-19 12:09:02,593]\u001b[0m Trial 61 finished with value: 0.8488862131246238 and parameters: {'n_estimators': 1639, 'max_depth': 13, 'learning_rate': 0.08058705975470096, 'gamma': 0.4819963903793912, 'subsample': 0.5925170091077343, 'min_child_weight': 1.5347149609594979, 'reg_lambda': 2.0294098182706994, 'reg_alpha': 1.5241135025596055, 'colsample_bytree': 0.7409770824550914}. Best is trial 26 with value: 0.8549066827212523.\u001b[0m\n",
      "\u001b[32m[I 2023-05-19 12:09:25,633]\u001b[0m Trial 62 finished with value: 0.847682119205298 and parameters: {'n_estimators': 1519, 'max_depth': 14, 'learning_rate': 0.060254714413174565, 'gamma': 0.5283905220532172, 'subsample': 0.5947007222544947, 'min_child_weight': 1.60420561170673, 'reg_lambda': 1.972604250895256, 'reg_alpha': 1.556543301934235, 'colsample_bytree': 0.7772208017477971}. Best is trial 26 with value: 0.8549066827212523.\u001b[0m\n",
      "\u001b[32m[I 2023-05-19 12:09:50,000]\u001b[0m Trial 63 finished with value: 0.8512944009632751 and parameters: {'n_estimators': 1666, 'max_depth': 12, 'learning_rate': 0.032326425403107185, 'gamma': 0.5691677080294728, 'subsample': 0.5838893966417571, 'min_child_weight': 1.0867090981815979, 'reg_lambda': 1.9096187384561807, 'reg_alpha': 1.5790490299191076, 'colsample_bytree': 0.7256869936752856}. Best is trial 26 with value: 0.8549066827212523.\u001b[0m\n",
      "\u001b[32m[I 2023-05-19 12:10:07,265]\u001b[0m Trial 64 finished with value: 0.847682119205298 and parameters: {'n_estimators': 1411, 'max_depth': 13, 'learning_rate': 0.11334011668420087, 'gamma': 0.605255024257259, 'subsample': 0.5512344642921375, 'min_child_weight': 1.889959781500478, 'reg_lambda': 2.0065152218132742, 'reg_alpha': 1.6268051412530444, 'colsample_bytree': 0.6412542813171597}. Best is trial 26 with value: 0.8549066827212523.\u001b[0m\n",
      "\u001b[32m[I 2023-05-19 12:10:34,968]\u001b[0m Trial 65 finished with value: 0.8512944009632751 and parameters: {'n_estimators': 1760, 'max_depth': 14, 'learning_rate': 0.012127768884340265, 'gamma': 0.4859165507492809, 'subsample': 0.7806988613597732, 'min_child_weight': 2.286893309645004, 'reg_lambda': 2.1429745455097953, 'reg_alpha': 1.5307047664018054, 'colsample_bytree': 0.6729905885887236}. Best is trial 26 with value: 0.8549066827212523.\u001b[0m\n",
      "\u001b[32m[I 2023-05-19 12:10:54,773]\u001b[0m Trial 66 finished with value: 0.8543046357615894 and parameters: {'n_estimators': 1556, 'max_depth': 15, 'learning_rate': 0.14416450683616075, 'gamma': 0.44154400388714465, 'subsample': 0.569399244134146, 'min_child_weight': 2.4121224629403937, 'reg_lambda': 1.3208557930990346, 'reg_alpha': 1.7243698692534601, 'colsample_bytree': 0.7006065278718929}. Best is trial 26 with value: 0.8549066827212523.\u001b[0m\n",
      "\u001b[32m[I 2023-05-19 12:11:18,731]\u001b[0m Trial 67 finished with value: 0.839253461770018 and parameters: {'n_estimators': 2043, 'max_depth': 15, 'learning_rate': 0.2589838792737018, 'gamma': 0.439369159940573, 'subsample': 0.5713117307994711, 'min_child_weight': 1.7901273504846908, 'reg_lambda': 1.3953904143899056, 'reg_alpha': 1.7285666332938083, 'colsample_bytree': 0.6199608422454623}. Best is trial 26 with value: 0.8549066827212523.\u001b[0m\n",
      "\u001b[32m[I 2023-05-19 12:11:35,647]\u001b[0m Trial 68 finished with value: 0.847682119205298 and parameters: {'n_estimators': 1329, 'max_depth': 15, 'learning_rate': 0.14858451205396006, 'gamma': 0.34718257392053964, 'subsample': 0.5677833326364109, 'min_child_weight': 2.405050343732823, 'reg_lambda': 1.3254475582275014, 'reg_alpha': 1.7150090630426715, 'colsample_bytree': 0.6880482088557575}. Best is trial 26 with value: 0.8549066827212523.\u001b[0m\n",
      "\u001b[32m[I 2023-05-19 12:11:48,501]\u001b[0m Trial 69 finished with value: 0.8428657435279951 and parameters: {'n_estimators': 1559, 'max_depth': 16, 'learning_rate': 0.12514600742520582, 'gamma': 0.19893755695930893, 'subsample': 0.604396412810982, 'min_child_weight': 2.641114911332399, 'reg_lambda': 1.557452890785213, 'reg_alpha': 1.6544038034065776, 'colsample_bytree': 0.29165733122079657}. Best is trial 26 with value: 0.8549066827212523.\u001b[0m\n",
      "\u001b[32m[I 2023-05-19 12:12:08,004]\u001b[0m Trial 70 finished with value: 0.8434677904876581 and parameters: {'n_estimators': 1476, 'max_depth': 15, 'learning_rate': 0.20002884498999848, 'gamma': 0.4022216654977886, 'subsample': 0.5394584644383942, 'min_child_weight': 1.9520567363100763, 'reg_lambda': 2.126163700234656, 'reg_alpha': 1.6911536933243736, 'colsample_bytree': 0.7428980082555404}. Best is trial 26 with value: 0.8549066827212523.\u001b[0m\n",
      "\u001b[32m[I 2023-05-19 12:12:33,225]\u001b[0m Trial 71 finished with value: 0.8512944009632751 and parameters: {'n_estimators': 1844, 'max_depth': 14, 'learning_rate': 0.09272869453675751, 'gamma': 0.46912139174954276, 'subsample': 0.6194038672194014, 'min_child_weight': 1.2916479956892426, 'reg_lambda': 2.0324329561911973, 'reg_alpha': 1.7777975436738833, 'colsample_bytree': 0.7117863350005672}. Best is trial 26 with value: 0.8549066827212523.\u001b[0m\n",
      "\u001b[32m[I 2023-05-19 12:13:03,350]\u001b[0m Trial 72 finished with value: 0.8494882600842866 and parameters: {'n_estimators': 1934, 'max_depth': 13, 'learning_rate': 0.07836059122786682, 'gamma': 0.5331027413474521, 'subsample': 0.636263364703033, 'min_child_weight': 2.553149436064243, 'reg_lambda': 1.8306954312127408, 'reg_alpha': 1.5932702191711305, 'colsample_bytree': 0.6936968887753274}. Best is trial 26 with value: 0.8549066827212523.\u001b[0m\n",
      "\u001b[32m[I 2023-05-19 12:13:38,848]\u001b[0m Trial 73 finished with value: 0.8537025888019265 and parameters: {'n_estimators': 1774, 'max_depth': 12, 'learning_rate': 0.040292272957781455, 'gamma': 0.27217004989320165, 'subsample': 0.5880869267943932, 'min_child_weight': 2.1025196507479103, 'reg_lambda': 1.9602038700798963, 'reg_alpha': 1.6262659558920936, 'colsample_bytree': 0.6647824933831061}. Best is trial 26 with value: 0.8549066827212523.\u001b[0m\n",
      "\u001b[32m[I 2023-05-19 12:14:07,077]\u001b[0m Trial 74 finished with value: 0.8506923540036123 and parameters: {'n_estimators': 1804, 'max_depth': 11, 'learning_rate': 0.035694295294877325, 'gamma': 0.27352822321783704, 'subsample': 0.609264352071526, 'min_child_weight': 2.25049475415231, 'reg_lambda': 1.8989070971323474, 'reg_alpha': 1.6224727066035785, 'colsample_bytree': 0.6649547298558751}. Best is trial 26 with value: 0.8549066827212523.\u001b[0m\n",
      "\u001b[32m[I 2023-05-19 12:14:28,420]\u001b[0m Trial 75 finished with value: 0.8506923540036123 and parameters: {'n_estimators': 1731, 'max_depth': 12, 'learning_rate': 0.050398433082166426, 'gamma': 0.3325370597944361, 'subsample': 0.5539418104071273, 'min_child_weight': 2.380330651645021, 'reg_lambda': 1.9584472917369835, 'reg_alpha': 1.673647529912256, 'colsample_bytree': 0.5877637938899162}. Best is trial 26 with value: 0.8549066827212523.\u001b[0m\n",
      "\u001b[32m[I 2023-05-19 12:14:59,256]\u001b[0m Trial 76 finished with value: 0.8512944009632751 and parameters: {'n_estimators': 1993, 'max_depth': 14, 'learning_rate': 0.06675957642594453, 'gamma': 0.2915719243671951, 'subsample': 0.5863076820146621, 'min_child_weight': 2.071405437688019, 'reg_lambda': 2.0534310057527763, 'reg_alpha': 1.648540603063537, 'colsample_bytree': 0.7999664343222432}. Best is trial 26 with value: 0.8549066827212523.\u001b[0m\n",
      "\u001b[32m[I 2023-05-19 12:15:22,672]\u001b[0m Trial 77 finished with value: 0.8494882600842866 and parameters: {'n_estimators': 2070, 'max_depth': 14, 'learning_rate': 0.13594824828289181, 'gamma': 0.23098671459345407, 'subsample': 0.574287506060616, 'min_child_weight': 2.165499582190618, 'reg_lambda': 2.0805877475965686, 'reg_alpha': 1.9445905935667924, 'colsample_bytree': 0.5408895752631301}. Best is trial 26 with value: 0.8549066827212523.\u001b[0m\n",
      "\u001b[32m[I 2023-05-19 12:15:38,765]\u001b[0m Trial 78 finished with value: 0.8512944009632751 and parameters: {'n_estimators': 1185, 'max_depth': 12, 'learning_rate': 0.04176164355391257, 'gamma': 0.15333923741322797, 'subsample': 0.5964278199051884, 'min_child_weight': 2.4649374151474417, 'reg_lambda': 1.9853366203522895, 'reg_alpha': 1.7413335421330667, 'colsample_bytree': 0.6365716590842408}. Best is trial 26 with value: 0.8549066827212523.\u001b[0m\n",
      "\u001b[32m[I 2023-05-19 12:15:59,439]\u001b[0m Trial 79 finished with value: 0.8464780252859723 and parameters: {'n_estimators': 1601, 'max_depth': 17, 'learning_rate': 0.09724233862840898, 'gamma': 0.26152859240353, 'subsample': 0.6530654636131986, 'min_child_weight': 2.1162827890259193, 'reg_lambda': 1.7624314605660483, 'reg_alpha': 1.7066674237043116, 'colsample_bytree': 0.6535626696324849}. Best is trial 26 with value: 0.8549066827212523.\u001b[0m\n",
      "\u001b[32m[I 2023-05-19 12:16:21,554]\u001b[0m Trial 80 finished with value: 0.8512944009632751 and parameters: {'n_estimators': 2144, 'max_depth': 10, 'learning_rate': 0.16543241856555077, 'gamma': 0.3637310048894889, 'subsample': 0.5801357334401185, 'min_child_weight': 2.2496323043638324, 'reg_lambda': 1.8558637681424637, 'reg_alpha': 1.6839710036615942, 'colsample_bytree': 0.6049357811926476}. Best is trial 26 with value: 0.8549066827212523.\u001b[0m\n",
      "\u001b[32m[I 2023-05-19 12:16:45,538]\u001b[0m Trial 81 finished with value: 0.8500903070439494 and parameters: {'n_estimators': 1668, 'max_depth': 13, 'learning_rate': 0.06625842502441182, 'gamma': 0.46065205409362864, 'subsample': 0.5906855306397474, 'min_child_weight': 1.6805495099575074, 'reg_lambda': 1.936564130951337, 'reg_alpha': 1.5634390201251243, 'colsample_bytree': 0.7355270314394041}. Best is trial 26 with value: 0.8549066827212523.\u001b[0m\n",
      "\u001b[32m[I 2023-05-19 12:17:07,773]\u001b[0m Trial 82 finished with value: 0.8494882600842866 and parameters: {'n_estimators': 1434, 'max_depth': 13, 'learning_rate': 0.02264419118395969, 'gamma': 0.5104426516131237, 'subsample': 0.6215628866960329, 'min_child_weight': 1.4641150477705525, 'reg_lambda': 2.012375377716194, 'reg_alpha': 1.6135456303671158, 'colsample_bytree': 0.764252554387292}. Best is trial 26 with value: 0.8549066827212523.\u001b[0m\n",
      "\u001b[32m[I 2023-05-19 12:17:29,216]\u001b[0m Trial 83 finished with value: 0.8506923540036123 and parameters: {'n_estimators': 1774, 'max_depth': 13, 'learning_rate': 0.11239380057381351, 'gamma': 0.300261279464713, 'subsample': 0.5645115844193219, 'min_child_weight': 2.402341645000695, 'reg_lambda': 1.631269347066466, 'reg_alpha': 1.5863304777343914, 'colsample_bytree': 0.674389013395676}. Best is trial 26 with value: 0.8549066827212523.\u001b[0m\n",
      "\u001b[32m[I 2023-05-19 12:17:53,620]\u001b[0m Trial 84 finished with value: 0.8488862131246238 and parameters: {'n_estimators': 1887, 'max_depth': 20, 'learning_rate': 0.0897821315988149, 'gamma': 0.22292463775281063, 'subsample': 0.6335400945538081, 'min_child_weight': 1.6160053864253796, 'reg_lambda': 2.1066249649336357, 'reg_alpha': 1.5496171955162428, 'colsample_bytree': 0.7043591290950565}. Best is trial 26 with value: 0.8549066827212523.\u001b[0m\n",
      "\u001b[32m[I 2023-05-19 12:18:17,109]\u001b[0m Trial 85 finished with value: 0.8482841661649608 and parameters: {'n_estimators': 1539, 'max_depth': 11, 'learning_rate': 0.058126243672649, 'gamma': 0.4237735055150645, 'subsample': 0.6005213493152488, 'min_child_weight': 2.734289351297814, 'reg_lambda': 1.9242199136503706, 'reg_alpha': 1.6353341443279639, 'colsample_bytree': 0.7284440864212948}. Best is trial 26 with value: 0.8549066827212523.\u001b[0m\n",
      "\u001b[32m[I 2023-05-19 12:18:46,297]\u001b[0m Trial 86 finished with value: 0.847682119205298 and parameters: {'n_estimators': 1667, 'max_depth': 12, 'learning_rate': 0.010720046624021443, 'gamma': 0.3812061604069411, 'subsample': 0.6110103067080943, 'min_child_weight': 2.0088751344916953, 'reg_lambda': 2.1918732118424678, 'reg_alpha': 1.8818423562902522, 'colsample_bytree': 0.771131731184074}. Best is trial 26 with value: 0.8549066827212523.\u001b[0m\n",
      "\u001b[32m[I 2023-05-19 12:19:10,806]\u001b[0m Trial 87 finished with value: 0.8500903070439494 and parameters: {'n_estimators': 1839, 'max_depth': 15, 'learning_rate': 0.07819256518886047, 'gamma': 0.12729674130240037, 'subsample': 0.6443457489318447, 'min_child_weight': 1.523011717273059, 'reg_lambda': 1.8869949670185386, 'reg_alpha': 1.6039118380809365, 'colsample_bytree': 0.5746260047934374}. Best is trial 26 with value: 0.8549066827212523.\u001b[0m\n",
      "\u001b[32m[I 2023-05-19 12:19:39,799]\u001b[0m Trial 88 finished with value: 0.8567128236002408 and parameters: {'n_estimators': 1986, 'max_depth': 13, 'learning_rate': 0.044627773598530054, 'gamma': 0.280206721005955, 'subsample': 0.58545974420027, 'min_child_weight': 2.3451283944922916, 'reg_lambda': 1.9688536003000663, 'reg_alpha': 1.6563747476472204, 'colsample_bytree': 0.7486193155195076}. Best is trial 88 with value: 0.8567128236002408.\u001b[0m\n",
      "\u001b[32m[I 2023-05-19 12:20:12,049]\u001b[0m Trial 89 finished with value: 0.8494882600842866 and parameters: {'n_estimators': 1972, 'max_depth': 19, 'learning_rate': 0.04617045039556585, 'gamma': 0.26967745474053983, 'subsample': 0.616996649058533, 'min_child_weight': 0.5142333289418399, 'reg_lambda': 1.9660079493323517, 'reg_alpha': 1.6547690068012406, 'colsample_bytree': 0.6250733040250702}. Best is trial 88 with value: 0.8567128236002408.\u001b[0m\n",
      "\u001b[32m[I 2023-05-19 12:20:44,100]\u001b[0m Trial 90 finished with value: 0.8482841661649608 and parameters: {'n_estimators': 2092, 'max_depth': 14, 'learning_rate': 0.03269462088258726, 'gamma': 0.24390696535712997, 'subsample': 0.5863570772307011, 'min_child_weight': 2.3407697953878186, 'reg_lambda': 2.166093296721211, 'reg_alpha': 2.0578150072366634, 'colsample_bytree': 0.7465578743295752}. Best is trial 88 with value: 0.8567128236002408.\u001b[0m\n",
      "\u001b[32m[I 2023-05-19 12:21:12,389]\u001b[0m Trial 91 finished with value: 0.8524984948826009 and parameters: {'n_estimators': 1927, 'max_depth': 13, 'learning_rate': 0.05717153842477717, 'gamma': 0.18212749144392185, 'subsample': 0.5776112543129679, 'min_child_weight': 2.5962033360046313, 'reg_lambda': 2.0463501766880716, 'reg_alpha': 1.6719511560741702, 'colsample_bytree': 0.7148842758118756}. Best is trial 88 with value: 0.8567128236002408.\u001b[0m\n",
      "\u001b[32m[I 2023-05-19 12:21:45,040]\u001b[0m Trial 92 finished with value: 0.8524984948826009 and parameters: {'n_estimators': 2236, 'max_depth': 14, 'learning_rate': 0.10483115171227936, 'gamma': 0.33004319400579896, 'subsample': 0.5574422273303818, 'min_child_weight': 2.511142537369512, 'reg_lambda': 1.9877994830791867, 'reg_alpha': 1.5219179737152861, 'colsample_bytree': 0.7569284236021345}. Best is trial 88 with value: 0.8567128236002408.\u001b[0m\n",
      "\u001b[32m[I 2023-05-19 12:22:09,229]\u001b[0m Trial 93 finished with value: 0.8488862131246238 and parameters: {'n_estimators': 1591, 'max_depth': 12, 'learning_rate': 0.07230469321388594, 'gamma': 0.30193814283600506, 'subsample': 0.5988284898541485, 'min_child_weight': 2.179424634583575, 'reg_lambda': 1.941748171270656, 'reg_alpha': 1.6213884658247044, 'colsample_bytree': 0.685739890236488}. Best is trial 88 with value: 0.8567128236002408.\u001b[0m\n",
      "\u001b[32m[I 2023-05-19 12:22:52,928]\u001b[0m Trial 94 finished with value: 0.8500903070439494 and parameters: {'n_estimators': 2018, 'max_depth': 12, 'learning_rate': 0.04005397171154585, 'gamma': 0.4988325574874044, 'subsample': 0.6068063592477353, 'min_child_weight': 2.306795954397627, 'reg_lambda': 1.8493283339184317, 'reg_alpha': 1.5718097837094398, 'colsample_bytree': 0.7894010268751299}. Best is trial 88 with value: 0.8567128236002408.\u001b[0m\n",
      "\u001b[32m[I 2023-05-19 12:23:24,636]\u001b[0m Trial 95 finished with value: 0.8524984948826009 and parameters: {'n_estimators': 1744, 'max_depth': 13, 'learning_rate': 0.022965771646973596, 'gamma': 0.28106554944578915, 'subsample': 0.6249458537674092, 'min_child_weight': 2.428514301974843, 'reg_lambda': 1.813938113694631, 'reg_alpha': 1.5444797517607585, 'colsample_bytree': 0.7312929991996754}. Best is trial 88 with value: 0.8567128236002408.\u001b[0m\n",
      "\u001b[32m[I 2023-05-19 12:23:52,147]\u001b[0m Trial 96 finished with value: 0.8494882600842866 and parameters: {'n_estimators': 2146, 'max_depth': 16, 'learning_rate': 0.08667216077876064, 'gamma': 0.40388211583282885, 'subsample': 0.5894145232646508, 'min_child_weight': 1.3692795766344625, 'reg_lambda': 2.0087597023757855, 'reg_alpha': 1.6891938272084346, 'colsample_bytree': 0.4851301061294896}. Best is trial 88 with value: 0.8567128236002408.\u001b[0m\n",
      "\u001b[32m[I 2023-05-19 12:24:29,504]\u001b[0m Trial 97 finished with value: 0.8500903070439494 and parameters: {'n_estimators': 1698, 'max_depth': 13, 'learning_rate': 0.050181111162927776, 'gamma': 0.3500655629901731, 'subsample': 0.5714898356270199, 'min_child_weight': 1.7807303725976475, 'reg_lambda': 2.0648700377723657, 'reg_alpha': 1.507851875086461, 'colsample_bytree': 0.6965146453245473}. Best is trial 88 with value: 0.8567128236002408.\u001b[0m\n",
      "\u001b[32m[I 2023-05-19 12:24:58,037]\u001b[0m Trial 98 finished with value: 0.8464780252859723 and parameters: {'n_estimators': 2359, 'max_depth': 14, 'learning_rate': 0.14097435752766385, 'gamma': 0.2205060306824537, 'subsample': 0.5303195431715227, 'min_child_weight': 2.651091250413089, 'reg_lambda': 1.8776037810249246, 'reg_alpha': 2.183740741747544, 'colsample_bytree': 0.6459299446707458}. Best is trial 88 with value: 0.8567128236002408.\u001b[0m\n",
      "\u001b[32m[I 2023-05-19 12:25:19,519]\u001b[0m Trial 99 finished with value: 0.8531005418422637 and parameters: {'n_estimators': 1627, 'max_depth': 16, 'learning_rate': 0.12409990324150233, 'gamma': 0.20775813406252963, 'subsample': 0.5619111909260283, 'min_child_weight': 2.2534211830562767, 'reg_lambda': 1.917494491989204, 'reg_alpha': 1.6369432109068793, 'colsample_bytree': 0.6624318119562431}. Best is trial 88 with value: 0.8567128236002408.\u001b[0m\n"
     ]
    }
   ],
   "source": [
    "study = optuna.create_study(direction=\"maximize\", study_name='XGB optimization')\n",
    "study.optimize(xgb_optimize, n_trials=100)"
   ]
  },
  {
   "cell_type": "code",
   "execution_count": 83,
   "id": "bf3a9c07",
   "metadata": {},
   "outputs": [
    {
     "name": "stdout",
     "output_type": "stream",
     "text": [
      "{'n_estimators': 1986, 'max_depth': 13, 'learning_rate': 0.044627773598530054, 'gamma': 0.280206721005955, 'subsample': 0.58545974420027, 'min_child_weight': 2.3451283944922916, 'reg_lambda': 1.9688536003000663, 'reg_alpha': 1.6563747476472204, 'colsample_bytree': 0.7486193155195076}\n"
     ]
    }
   ],
   "source": [
    "XGBoost_params = study.best_params\n",
    "print(XGBoost_params)"
   ]
  },
  {
   "cell_type": "code",
   "execution_count": 84,
   "id": "be8e36eb",
   "metadata": {},
   "outputs": [
    {
     "name": "stderr",
     "output_type": "stream",
     "text": [
      "[Parallel(n_jobs=1)]: Using backend SequentialBackend with 1 concurrent workers.\n"
     ]
    },
    {
     "name": "stdout",
     "output_type": "stream",
     "text": [
      "[0.85920578 0.82771084 0.85542169 0.84216867 0.86385542 0.84819277\n",
      " 0.87710843 0.86024096 0.84337349 0.82650602]\n",
      "0.85 accuracy with a standard deviation of 0.02\n"
     ]
    },
    {
     "name": "stderr",
     "output_type": "stream",
     "text": [
      "[Parallel(n_jobs=1)]: Done  10 out of  10 | elapsed:  5.0min finished\n"
     ]
    }
   ],
   "source": [
    "from sklearn.model_selection import KFold\n",
    "from sklearn.model_selection import cross_val_score\n",
    "XGBOOST_model = XGBClassifier(**XGBoost_params)\n",
    "kfold_val = KFold(10, shuffle=True, random_state=42)\n",
    "cv_score = cross_val_score(XGBOOST_model, X_train, y_train, cv=kfold_val, verbose=1)\n",
    "print(cv_score)\n",
    "print(\"%0.2f accuracy with a standard deviation of %0.2f\" % (cv_score.mean(), cv_score.std()))"
   ]
  },
  {
   "cell_type": "code",
   "execution_count": 85,
   "id": "39d5df2a",
   "metadata": {},
   "outputs": [
    {
     "name": "stdout",
     "output_type": "stream",
     "text": [
      "Time consumed for training: 40.69587049999973 seconds\n",
      "Time consumed for prediction: 0.11860039999010041 seconds\n"
     ]
    }
   ],
   "source": [
    "import time\n",
    "final_xgb_model = XGBClassifier(**XGBoost_params)\n",
    "xgb_train_start = time.perf_counter()\n",
    "final_xgb_model.fit(X_train, y_train)\n",
    "xgb_train_end = time.perf_counter()\n",
    "\n",
    "xgb_pred_start = time.perf_counter()\n",
    "final_xgb_preds = final_xgb_model.predict(X_test)\n",
    "xgb_pred_end = time.perf_counter()\n",
    "\n",
    "xgb_train_time = xgb_train_end-xgb_train_start\n",
    "xgb_pred_time = xgb_pred_end-xgb_pred_start\n",
    "\n",
    "print(\"Time consumed for training:\" ,xgb_train_time, \"seconds\")\n",
    "print(\"Time consumed for prediction:\" ,xgb_pred_time, \"seconds\")"
   ]
  },
  {
   "cell_type": "code",
   "execution_count": 86,
   "id": "5d8dd81c",
   "metadata": {},
   "outputs": [
    {
     "name": "stdout",
     "output_type": "stream",
     "text": [
      "              precision    recall  f1-score   support\n",
      "\n",
      "           0       0.89      0.76      0.82      1035\n",
      "           1       0.52      0.74      0.61       374\n",
      "\n",
      "    accuracy                           0.75      1409\n",
      "   macro avg       0.71      0.75      0.72      1409\n",
      "weighted avg       0.79      0.75      0.76      1409\n",
      "\n"
     ]
    }
   ],
   "source": [
    "from sklearn.metrics import classification_report\n",
    "print(classification_report(y_test, final_xgb_preds))"
   ]
  },
  {
   "cell_type": "code",
   "execution_count": 89,
   "id": "9944f824",
   "metadata": {},
   "outputs": [
    {
     "name": "stdout",
     "output_type": "stream",
     "text": [
      "Time consumed for training: 37.22600679998868 seconds\n",
      "Time consumed for prediction: 0.11597270000493154 seconds\n"
     ]
    }
   ],
   "source": [
    "final_xgb_model = XGBClassifier(**XGBoost_params)\n",
    "xgb_train_start = time.perf_counter()\n",
    "final_xgb_model.fit(X_train, y_train)\n",
    "xgb_train_end = time.perf_counter()\n",
    "\n",
    "xgb_pred_start = time.perf_counter()\n",
    "final_xgb_preds_proba = final_xgb_model.predict_proba(X_test)[:,1]\n",
    "xgb_pred_end = time.perf_counter()\n",
    "\n",
    "xgb_train_time = xgb_train_end-xgb_train_start\n",
    "xgb_pred_time = xgb_pred_end-xgb_pred_start\n",
    "\n",
    "print(\"Time consumed for training:\" ,xgb_train_time, \"seconds\")\n",
    "print(\"Time consumed for prediction:\" ,xgb_pred_time, \"seconds\")"
   ]
  },
  {
   "cell_type": "code",
   "execution_count": 92,
   "id": "39e2ac63",
   "metadata": {},
   "outputs": [
    {
     "name": "stdout",
     "output_type": "stream",
     "text": [
      "The ROC AUC score is 0.8232555736392054\n"
     ]
    }
   ],
   "source": [
    "xgb_score=roc_auc_score(y_test, final_xgb_preds_proba)\n",
    "print(\"The ROC AUC score is\" ,xgb_score)"
   ]
  },
  {
   "cell_type": "markdown",
   "id": "558fc040",
   "metadata": {},
   "source": [
    "# SVM CLASSIFIER"
   ]
  },
  {
   "cell_type": "code",
   "execution_count": 32,
   "id": "afc996f9",
   "metadata": {},
   "outputs": [],
   "source": [
    "def svm_optimize(trial):\n",
    "    \n",
    "    X_tr, X_test, y_tr, y_test = train_test_split(X_train, y_train, stratify=y_train, test_size=0.2,random_state=42)\n",
    "    \n",
    "    C = trial.suggest_categorical(\"C\",[0.1, 1, 10, 100])\n",
    "    gamma = trial.suggest_categorical(\"gamma\",[1, 0.1, 0.01, 0.001, 0.0001])\n",
    "    kernel = trial.suggest_categorical('kernel',['rbf','linear', 'poly'])\n",
    "    svm_params = dict(C = C,\n",
    "                  gamma = gamma,\n",
    "                  kernel = kernel,\n",
    "                  random_state=42,\n",
    "                  verbose=False,  \n",
    "                     )  \n",
    "    svm_model = SVC(**svm_params)\n",
    "    svm_model.fit(X_tr, y_tr)\n",
    "    y_pred = svm_model.predict(X_test)\n",
    "    accuracy = accuracy_score(y_test, y_pred)\n",
    "\n",
    "    return accuracy"
   ]
  },
  {
   "cell_type": "code",
   "execution_count": 33,
   "id": "8898532c",
   "metadata": {},
   "outputs": [
    {
     "name": "stderr",
     "output_type": "stream",
     "text": [
      "\u001b[32m[I 2023-05-17 18:04:27,108]\u001b[0m A new study created in memory with name: SVM optimization\u001b[0m\n",
      "\u001b[32m[I 2023-05-17 18:04:32,824]\u001b[0m Trial 0 finished with value: 0.8567128236002408 and parameters: {'C': 1, 'gamma': 1, 'kernel': 'rbf'}. Best is trial 0 with value: 0.8567128236002408.\u001b[0m\n",
      "\u001b[32m[I 2023-05-17 18:04:39,816]\u001b[0m Trial 1 finished with value: 0.8446718844069837 and parameters: {'C': 10, 'gamma': 1, 'kernel': 'rbf'}. Best is trial 0 with value: 0.8567128236002408.\u001b[0m\n",
      "\u001b[32m[I 2023-05-17 18:04:44,604]\u001b[0m Trial 2 finished with value: 0.5015051173991572 and parameters: {'C': 1, 'gamma': 0.001, 'kernel': 'poly'}. Best is trial 0 with value: 0.8567128236002408.\u001b[0m\n",
      "\u001b[32m[I 2023-05-17 18:04:48,441]\u001b[0m Trial 3 finished with value: 0.8061408789885611 and parameters: {'C': 0.1, 'gamma': 0.1, 'kernel': 'rbf'}. Best is trial 0 with value: 0.8567128236002408.\u001b[0m\n",
      "\u001b[32m[I 2023-05-17 18:04:54,267]\u001b[0m Trial 4 finished with value: 0.769416014449127 and parameters: {'C': 1, 'gamma': 0.0001, 'kernel': 'rbf'}. Best is trial 0 with value: 0.8567128236002408.\u001b[0m\n",
      "\u001b[32m[I 2023-05-17 18:04:57,476]\u001b[0m Trial 5 finished with value: 0.8211920529801324 and parameters: {'C': 10, 'gamma': 0.01, 'kernel': 'rbf'}. Best is trial 0 with value: 0.8567128236002408.\u001b[0m\n",
      "\u001b[32m[I 2023-05-17 18:04:59,969]\u001b[0m Trial 6 finished with value: 0.8356411800120409 and parameters: {'C': 1, 'gamma': 0.1, 'kernel': 'poly'}. Best is trial 0 with value: 0.8567128236002408.\u001b[0m\n",
      "\u001b[32m[I 2023-05-17 18:05:06,610]\u001b[0m Trial 7 finished with value: 0.8061408789885611 and parameters: {'C': 0.1, 'gamma': 1, 'kernel': 'rbf'}. Best is trial 0 with value: 0.8567128236002408.\u001b[0m\n",
      "\u001b[32m[I 2023-05-17 18:05:08,705]\u001b[0m Trial 8 finished with value: 0.8133654425045154 and parameters: {'C': 0.1, 'gamma': 0.0001, 'kernel': 'linear'}. Best is trial 0 with value: 0.8567128236002408.\u001b[0m\n",
      "\u001b[32m[I 2023-05-17 18:05:12,860]\u001b[0m Trial 9 finished with value: 0.5015051173991572 and parameters: {'C': 10, 'gamma': 0.001, 'kernel': 'poly'}. Best is trial 0 with value: 0.8567128236002408.\u001b[0m\n",
      "\u001b[32m[I 2023-05-17 18:05:30,517]\u001b[0m Trial 10 finished with value: 0.831426851294401 and parameters: {'C': 100, 'gamma': 1, 'kernel': 'linear'}. Best is trial 0 with value: 0.8567128236002408.\u001b[0m\n",
      "\u001b[32m[I 2023-05-17 18:05:37,695]\u001b[0m Trial 11 finished with value: 0.8446718844069837 and parameters: {'C': 10, 'gamma': 1, 'kernel': 'rbf'}. Best is trial 0 with value: 0.8567128236002408.\u001b[0m\n",
      "\u001b[32m[I 2023-05-17 18:05:45,230]\u001b[0m Trial 12 finished with value: 0.8374473208910295 and parameters: {'C': 100, 'gamma': 1, 'kernel': 'rbf'}. Best is trial 0 with value: 0.8567128236002408.\u001b[0m\n",
      "\u001b[32m[I 2023-05-17 18:05:52,410]\u001b[0m Trial 13 finished with value: 0.8446718844069837 and parameters: {'C': 10, 'gamma': 1, 'kernel': 'rbf'}. Best is trial 0 with value: 0.8567128236002408.\u001b[0m\n",
      "\u001b[32m[I 2023-05-17 18:05:55,734]\u001b[0m Trial 14 finished with value: 0.8031306441902468 and parameters: {'C': 1, 'gamma': 0.01, 'kernel': 'rbf'}. Best is trial 0 with value: 0.8567128236002408.\u001b[0m\n",
      "\u001b[32m[I 2023-05-17 18:05:57,960]\u001b[0m Trial 15 finished with value: 0.8260084286574353 and parameters: {'C': 1, 'gamma': 1, 'kernel': 'linear'}. Best is trial 0 with value: 0.8567128236002408.\u001b[0m\n",
      "\u001b[32m[I 2023-05-17 18:06:05,047]\u001b[0m Trial 16 finished with value: 0.8446718844069837 and parameters: {'C': 10, 'gamma': 1, 'kernel': 'rbf'}. Best is trial 0 with value: 0.8567128236002408.\u001b[0m\n",
      "\u001b[32m[I 2023-05-17 18:06:12,714]\u001b[0m Trial 17 finished with value: 0.8374473208910295 and parameters: {'C': 100, 'gamma': 1, 'kernel': 'rbf'}. Best is trial 0 with value: 0.8567128236002408.\u001b[0m\n",
      "\u001b[32m[I 2023-05-17 18:06:16,674]\u001b[0m Trial 18 finished with value: 0.5875978326309452 and parameters: {'C': 1, 'gamma': 0.01, 'kernel': 'poly'}. Best is trial 0 with value: 0.8567128236002408.\u001b[0m\n",
      "\u001b[32m[I 2023-05-17 18:06:21,401]\u001b[0m Trial 19 finished with value: 0.831426851294401 and parameters: {'C': 10, 'gamma': 0.001, 'kernel': 'linear'}. Best is trial 0 with value: 0.8567128236002408.\u001b[0m\n",
      "\u001b[32m[I 2023-05-17 18:06:24,499]\u001b[0m Trial 20 finished with value: 0.8326309452137267 and parameters: {'C': 1, 'gamma': 0.1, 'kernel': 'rbf'}. Best is trial 0 with value: 0.8567128236002408.\u001b[0m\n",
      "\u001b[32m[I 2023-05-17 18:06:31,254]\u001b[0m Trial 21 finished with value: 0.8446718844069837 and parameters: {'C': 10, 'gamma': 1, 'kernel': 'rbf'}. Best is trial 0 with value: 0.8567128236002408.\u001b[0m\n",
      "\u001b[32m[I 2023-05-17 18:06:38,517]\u001b[0m Trial 22 finished with value: 0.8446718844069837 and parameters: {'C': 10, 'gamma': 1, 'kernel': 'rbf'}. Best is trial 0 with value: 0.8567128236002408.\u001b[0m\n",
      "\u001b[32m[I 2023-05-17 18:06:45,268]\u001b[0m Trial 23 finished with value: 0.8446718844069837 and parameters: {'C': 10, 'gamma': 1, 'kernel': 'rbf'}. Best is trial 0 with value: 0.8567128236002408.\u001b[0m\n",
      "\u001b[32m[I 2023-05-17 18:06:52,171]\u001b[0m Trial 24 finished with value: 0.8446718844069837 and parameters: {'C': 10, 'gamma': 1, 'kernel': 'rbf'}. Best is trial 0 with value: 0.8567128236002408.\u001b[0m\n",
      "\u001b[32m[I 2023-05-17 18:06:56,606]\u001b[0m Trial 25 finished with value: 0.7934978928356412 and parameters: {'C': 10, 'gamma': 0.0001, 'kernel': 'rbf'}. Best is trial 0 with value: 0.8567128236002408.\u001b[0m\n",
      "\u001b[32m[I 2023-05-17 18:07:02,348]\u001b[0m Trial 26 finished with value: 0.8061408789885611 and parameters: {'C': 0.1, 'gamma': 1, 'kernel': 'rbf'}. Best is trial 0 with value: 0.8567128236002408.\u001b[0m\n",
      "\u001b[32m[I 2023-05-17 18:44:03,496]\u001b[0m Trial 27 finished with value: 0.8031306441902468 and parameters: {'C': 100, 'gamma': 1, 'kernel': 'poly'}. Best is trial 0 with value: 0.8567128236002408.\u001b[0m\n",
      "\u001b[32m[I 2023-05-17 18:44:10,178]\u001b[0m Trial 28 finished with value: 0.8446718844069837 and parameters: {'C': 10, 'gamma': 1, 'kernel': 'rbf'}. Best is trial 0 with value: 0.8567128236002408.\u001b[0m\n",
      "\u001b[32m[I 2023-05-17 18:44:15,081]\u001b[0m Trial 29 finished with value: 0.831426851294401 and parameters: {'C': 10, 'gamma': 1, 'kernel': 'linear'}. Best is trial 0 with value: 0.8567128236002408.\u001b[0m\n",
      "\u001b[32m[I 2023-05-17 18:44:19,152]\u001b[0m Trial 30 finished with value: 0.5015051173991572 and parameters: {'C': 1, 'gamma': 0.001, 'kernel': 'poly'}. Best is trial 0 with value: 0.8567128236002408.\u001b[0m\n",
      "\u001b[32m[I 2023-05-17 18:44:25,870]\u001b[0m Trial 31 finished with value: 0.8446718844069837 and parameters: {'C': 10, 'gamma': 1, 'kernel': 'rbf'}. Best is trial 0 with value: 0.8567128236002408.\u001b[0m\n",
      "\u001b[32m[I 2023-05-17 18:44:33,242]\u001b[0m Trial 32 finished with value: 0.8446718844069837 and parameters: {'C': 10, 'gamma': 1, 'kernel': 'rbf'}. Best is trial 0 with value: 0.8567128236002408.\u001b[0m\n",
      "\u001b[32m[I 2023-05-17 18:44:39,947]\u001b[0m Trial 33 finished with value: 0.8446718844069837 and parameters: {'C': 10, 'gamma': 1, 'kernel': 'rbf'}. Best is trial 0 with value: 0.8567128236002408.\u001b[0m\n",
      "\u001b[32m[I 2023-05-17 18:44:44,962]\u001b[0m Trial 34 finished with value: 0.7934978928356412 and parameters: {'C': 10, 'gamma': 0.0001, 'kernel': 'rbf'}. Best is trial 0 with value: 0.8567128236002408.\u001b[0m\n",
      "\u001b[32m[I 2023-05-17 18:44:48,134]\u001b[0m Trial 35 finished with value: 0.8326309452137267 and parameters: {'C': 1, 'gamma': 0.1, 'kernel': 'rbf'}. Best is trial 0 with value: 0.8567128236002408.\u001b[0m\n",
      "\u001b[32m[I 2023-05-17 18:44:52,325]\u001b[0m Trial 36 finished with value: 0.794099939795304 and parameters: {'C': 0.1, 'gamma': 0.01, 'kernel': 'rbf'}. Best is trial 0 with value: 0.8567128236002408.\u001b[0m\n",
      "\u001b[32m[I 2023-05-17 18:44:59,123]\u001b[0m Trial 37 finished with value: 0.8446718844069837 and parameters: {'C': 10, 'gamma': 1, 'kernel': 'rbf'}. Best is trial 0 with value: 0.8567128236002408.\u001b[0m\n",
      "\u001b[32m[I 2023-05-17 18:45:03,031]\u001b[0m Trial 38 finished with value: 0.8434677904876581 and parameters: {'C': 10, 'gamma': 0.1, 'kernel': 'rbf'}. Best is trial 0 with value: 0.8567128236002408.\u001b[0m\n",
      "\u001b[32m[I 2023-05-17 18:45:07,124]\u001b[0m Trial 39 finished with value: 0.5015051173991572 and parameters: {'C': 1, 'gamma': 0.001, 'kernel': 'poly'}. Best is trial 0 with value: 0.8567128236002408.\u001b[0m\n",
      "\u001b[32m[I 2023-05-17 18:45:12,879]\u001b[0m Trial 40 finished with value: 0.8061408789885611 and parameters: {'C': 0.1, 'gamma': 1, 'kernel': 'rbf'}. Best is trial 0 with value: 0.8567128236002408.\u001b[0m\n",
      "\u001b[32m[I 2023-05-17 18:45:20,073]\u001b[0m Trial 41 finished with value: 0.8446718844069837 and parameters: {'C': 10, 'gamma': 1, 'kernel': 'rbf'}. Best is trial 0 with value: 0.8567128236002408.\u001b[0m\n",
      "\u001b[32m[I 2023-05-17 18:45:26,796]\u001b[0m Trial 42 finished with value: 0.8446718844069837 and parameters: {'C': 10, 'gamma': 1, 'kernel': 'rbf'}. Best is trial 0 with value: 0.8567128236002408.\u001b[0m\n",
      "\u001b[32m[I 2023-05-17 18:45:33,947]\u001b[0m Trial 43 finished with value: 0.8446718844069837 and parameters: {'C': 10, 'gamma': 1, 'kernel': 'rbf'}. Best is trial 0 with value: 0.8567128236002408.\u001b[0m\n",
      "\u001b[32m[I 2023-05-17 18:45:40,614]\u001b[0m Trial 44 finished with value: 0.8446718844069837 and parameters: {'C': 10, 'gamma': 1, 'kernel': 'rbf'}. Best is trial 0 with value: 0.8567128236002408.\u001b[0m\n",
      "\u001b[32m[I 2023-05-17 18:45:44,826]\u001b[0m Trial 45 finished with value: 0.7934978928356412 and parameters: {'C': 10, 'gamma': 0.0001, 'kernel': 'rbf'}. Best is trial 0 with value: 0.8567128236002408.\u001b[0m\n",
      "\u001b[32m[I 2023-05-17 18:45:52,728]\u001b[0m Trial 46 finished with value: 0.8374473208910295 and parameters: {'C': 100, 'gamma': 1, 'kernel': 'rbf'}. Best is trial 0 with value: 0.8567128236002408.\u001b[0m\n",
      "\u001b[32m[I 2023-05-17 18:45:57,068]\u001b[0m Trial 47 finished with value: 0.831426851294401 and parameters: {'C': 10, 'gamma': 1, 'kernel': 'linear'}. Best is trial 0 with value: 0.8567128236002408.\u001b[0m\n",
      "\u001b[32m[I 2023-05-17 18:46:00,434]\u001b[0m Trial 48 finished with value: 0.8031306441902468 and parameters: {'C': 1, 'gamma': 0.01, 'kernel': 'rbf'}. Best is trial 0 with value: 0.8567128236002408.\u001b[0m\n",
      "\u001b[32m[I 2023-05-17 18:46:07,605]\u001b[0m Trial 49 finished with value: 0.8446718844069837 and parameters: {'C': 10, 'gamma': 1, 'kernel': 'rbf'}. Best is trial 0 with value: 0.8567128236002408.\u001b[0m\n",
      "\u001b[32m[I 2023-05-17 18:46:09,286]\u001b[0m Trial 50 finished with value: 0.8133654425045154 and parameters: {'C': 0.1, 'gamma': 1, 'kernel': 'linear'}. Best is trial 0 with value: 0.8567128236002408.\u001b[0m\n",
      "\u001b[32m[I 2023-05-17 18:46:16,006]\u001b[0m Trial 51 finished with value: 0.8446718844069837 and parameters: {'C': 10, 'gamma': 1, 'kernel': 'rbf'}. Best is trial 0 with value: 0.8567128236002408.\u001b[0m\n",
      "\u001b[32m[I 2023-05-17 18:46:23,161]\u001b[0m Trial 52 finished with value: 0.8446718844069837 and parameters: {'C': 10, 'gamma': 1, 'kernel': 'rbf'}. Best is trial 0 with value: 0.8567128236002408.\u001b[0m\n",
      "\u001b[32m[I 2023-05-17 18:46:29,926]\u001b[0m Trial 53 finished with value: 0.8446718844069837 and parameters: {'C': 10, 'gamma': 1, 'kernel': 'rbf'}. Best is trial 0 with value: 0.8567128236002408.\u001b[0m\n",
      "\u001b[32m[I 2023-05-17 18:46:36,958]\u001b[0m Trial 54 finished with value: 0.8446718844069837 and parameters: {'C': 10, 'gamma': 1, 'kernel': 'rbf'}. Best is trial 0 with value: 0.8567128236002408.\u001b[0m\n",
      "\u001b[32m[I 2023-05-17 18:46:40,515]\u001b[0m Trial 55 finished with value: 0.8434677904876581 and parameters: {'C': 10, 'gamma': 0.1, 'kernel': 'rbf'}. Best is trial 0 with value: 0.8567128236002408.\u001b[0m\n",
      "\u001b[32m[I 2023-05-17 18:46:45,823]\u001b[0m Trial 56 finished with value: 0.8567128236002408 and parameters: {'C': 1, 'gamma': 1, 'kernel': 'rbf'}. Best is trial 0 with value: 0.8567128236002408.\u001b[0m\n",
      "\u001b[32m[I 2023-05-17 18:46:50,005]\u001b[0m Trial 57 finished with value: 0.7928958458759783 and parameters: {'C': 1, 'gamma': 0.001, 'kernel': 'rbf'}. Best is trial 0 with value: 0.8567128236002408.\u001b[0m\n",
      "\u001b[32m[I 2023-05-17 18:48:08,810]\u001b[0m Trial 58 finished with value: 0.8151715833835039 and parameters: {'C': 1, 'gamma': 1, 'kernel': 'poly'}. Best is trial 0 with value: 0.8567128236002408.\u001b[0m\n",
      "\u001b[32m[I 2023-05-17 18:48:12,469]\u001b[0m Trial 59 finished with value: 0.8031306441902468 and parameters: {'C': 1, 'gamma': 0.01, 'kernel': 'rbf'}. Best is trial 0 with value: 0.8567128236002408.\u001b[0m\n",
      "\u001b[32m[I 2023-05-17 18:48:18,515]\u001b[0m Trial 60 finished with value: 0.769416014449127 and parameters: {'C': 1, 'gamma': 0.0001, 'kernel': 'rbf'}. Best is trial 0 with value: 0.8567128236002408.\u001b[0m\n",
      "\u001b[32m[I 2023-05-17 18:48:25,997]\u001b[0m Trial 61 finished with value: 0.8374473208910295 and parameters: {'C': 100, 'gamma': 1, 'kernel': 'rbf'}. Best is trial 0 with value: 0.8567128236002408.\u001b[0m\n",
      "\u001b[32m[I 2023-05-17 18:48:31,904]\u001b[0m Trial 62 finished with value: 0.8567128236002408 and parameters: {'C': 1, 'gamma': 1, 'kernel': 'rbf'}. Best is trial 0 with value: 0.8567128236002408.\u001b[0m\n",
      "\u001b[32m[I 2023-05-17 18:48:37,147]\u001b[0m Trial 63 finished with value: 0.8567128236002408 and parameters: {'C': 1, 'gamma': 1, 'kernel': 'rbf'}. Best is trial 0 with value: 0.8567128236002408.\u001b[0m\n",
      "\u001b[32m[I 2023-05-17 18:48:42,431]\u001b[0m Trial 64 finished with value: 0.8567128236002408 and parameters: {'C': 1, 'gamma': 1, 'kernel': 'rbf'}. Best is trial 0 with value: 0.8567128236002408.\u001b[0m\n",
      "\u001b[32m[I 2023-05-17 18:48:48,229]\u001b[0m Trial 65 finished with value: 0.8567128236002408 and parameters: {'C': 1, 'gamma': 1, 'kernel': 'rbf'}. Best is trial 0 with value: 0.8567128236002408.\u001b[0m\n",
      "\u001b[32m[I 2023-05-17 18:48:50,393]\u001b[0m Trial 66 finished with value: 0.8260084286574353 and parameters: {'C': 1, 'gamma': 1, 'kernel': 'linear'}. Best is trial 0 with value: 0.8567128236002408.\u001b[0m\n",
      "\u001b[32m[I 2023-05-17 18:48:55,787]\u001b[0m Trial 67 finished with value: 0.8567128236002408 and parameters: {'C': 1, 'gamma': 1, 'kernel': 'rbf'}. Best is trial 0 with value: 0.8567128236002408.\u001b[0m\n",
      "\u001b[32m[I 2023-05-17 18:49:01,562]\u001b[0m Trial 68 finished with value: 0.8567128236002408 and parameters: {'C': 1, 'gamma': 1, 'kernel': 'rbf'}. Best is trial 0 with value: 0.8567128236002408.\u001b[0m\n",
      "\u001b[32m[I 2023-05-17 18:50:20,267]\u001b[0m Trial 69 finished with value: 0.8151715833835039 and parameters: {'C': 1, 'gamma': 1, 'kernel': 'poly'}. Best is trial 0 with value: 0.8567128236002408.\u001b[0m\n",
      "\u001b[32m[I 2023-05-17 18:50:25,684]\u001b[0m Trial 70 finished with value: 0.8567128236002408 and parameters: {'C': 1, 'gamma': 1, 'kernel': 'rbf'}. Best is trial 0 with value: 0.8567128236002408.\u001b[0m\n",
      "\u001b[32m[I 2023-05-17 18:50:30,968]\u001b[0m Trial 71 finished with value: 0.8567128236002408 and parameters: {'C': 1, 'gamma': 1, 'kernel': 'rbf'}. Best is trial 0 with value: 0.8567128236002408.\u001b[0m\n",
      "\u001b[32m[I 2023-05-17 18:50:36,487]\u001b[0m Trial 72 finished with value: 0.8567128236002408 and parameters: {'C': 1, 'gamma': 1, 'kernel': 'rbf'}. Best is trial 0 with value: 0.8567128236002408.\u001b[0m\n",
      "\u001b[32m[I 2023-05-17 18:50:41,871]\u001b[0m Trial 73 finished with value: 0.8567128236002408 and parameters: {'C': 1, 'gamma': 1, 'kernel': 'rbf'}. Best is trial 0 with value: 0.8567128236002408.\u001b[0m\n",
      "\u001b[32m[I 2023-05-17 18:50:47,070]\u001b[0m Trial 74 finished with value: 0.8567128236002408 and parameters: {'C': 1, 'gamma': 1, 'kernel': 'rbf'}. Best is trial 0 with value: 0.8567128236002408.\u001b[0m\n",
      "\u001b[32m[I 2023-05-17 18:50:52,542]\u001b[0m Trial 75 finished with value: 0.8567128236002408 and parameters: {'C': 1, 'gamma': 1, 'kernel': 'rbf'}. Best is trial 0 with value: 0.8567128236002408.\u001b[0m\n",
      "\u001b[32m[I 2023-05-17 18:50:56,927]\u001b[0m Trial 76 finished with value: 0.7928958458759783 and parameters: {'C': 1, 'gamma': 0.001, 'kernel': 'rbf'}. Best is trial 0 with value: 0.8567128236002408.\u001b[0m\n",
      "\u001b[32m[I 2023-05-17 18:51:00,002]\u001b[0m Trial 77 finished with value: 0.8326309452137267 and parameters: {'C': 1, 'gamma': 0.1, 'kernel': 'rbf'}. Best is trial 0 with value: 0.8567128236002408.\u001b[0m\n",
      "\u001b[32m[I 2023-05-17 18:51:05,192]\u001b[0m Trial 78 finished with value: 0.8567128236002408 and parameters: {'C': 1, 'gamma': 1, 'kernel': 'rbf'}. Best is trial 0 with value: 0.8567128236002408.\u001b[0m\n",
      "\u001b[32m[I 2023-05-17 18:51:11,664]\u001b[0m Trial 79 finished with value: 0.769416014449127 and parameters: {'C': 1, 'gamma': 0.0001, 'kernel': 'rbf'}. Best is trial 0 with value: 0.8567128236002408.\u001b[0m\n",
      "\u001b[32m[I 2023-05-17 18:51:13,902]\u001b[0m Trial 80 finished with value: 0.8260084286574353 and parameters: {'C': 1, 'gamma': 1, 'kernel': 'linear'}. Best is trial 0 with value: 0.8567128236002408.\u001b[0m\n",
      "\u001b[32m[I 2023-05-17 18:51:19,059]\u001b[0m Trial 81 finished with value: 0.8567128236002408 and parameters: {'C': 1, 'gamma': 1, 'kernel': 'rbf'}. Best is trial 0 with value: 0.8567128236002408.\u001b[0m\n",
      "\u001b[32m[I 2023-05-17 18:51:24,454]\u001b[0m Trial 82 finished with value: 0.8567128236002408 and parameters: {'C': 1, 'gamma': 1, 'kernel': 'rbf'}. Best is trial 0 with value: 0.8567128236002408.\u001b[0m\n",
      "\u001b[32m[I 2023-05-17 18:51:29,839]\u001b[0m Trial 83 finished with value: 0.8567128236002408 and parameters: {'C': 1, 'gamma': 1, 'kernel': 'rbf'}. Best is trial 0 with value: 0.8567128236002408.\u001b[0m\n",
      "\u001b[32m[I 2023-05-17 18:51:35,042]\u001b[0m Trial 84 finished with value: 0.8567128236002408 and parameters: {'C': 1, 'gamma': 1, 'kernel': 'rbf'}. Best is trial 0 with value: 0.8567128236002408.\u001b[0m\n",
      "\u001b[32m[I 2023-05-17 18:51:38,373]\u001b[0m Trial 85 finished with value: 0.8031306441902468 and parameters: {'C': 1, 'gamma': 0.01, 'kernel': 'rbf'}. Best is trial 0 with value: 0.8567128236002408.\u001b[0m\n",
      "\u001b[32m[I 2023-05-17 18:51:44,117]\u001b[0m Trial 86 finished with value: 0.8567128236002408 and parameters: {'C': 1, 'gamma': 1, 'kernel': 'rbf'}. Best is trial 0 with value: 0.8567128236002408.\u001b[0m\n",
      "\u001b[32m[I 2023-05-17 18:53:02,745]\u001b[0m Trial 87 finished with value: 0.8151715833835039 and parameters: {'C': 1, 'gamma': 1, 'kernel': 'poly'}. Best is trial 0 with value: 0.8567128236002408.\u001b[0m\n",
      "\u001b[32m[I 2023-05-17 18:53:07,935]\u001b[0m Trial 88 finished with value: 0.8567128236002408 and parameters: {'C': 1, 'gamma': 1, 'kernel': 'rbf'}. Best is trial 0 with value: 0.8567128236002408.\u001b[0m\n",
      "\u001b[32m[I 2023-05-17 18:53:13,312]\u001b[0m Trial 89 finished with value: 0.8567128236002408 and parameters: {'C': 1, 'gamma': 1, 'kernel': 'rbf'}. Best is trial 0 with value: 0.8567128236002408.\u001b[0m\n",
      "\u001b[32m[I 2023-05-17 18:53:19,050]\u001b[0m Trial 90 finished with value: 0.8567128236002408 and parameters: {'C': 1, 'gamma': 1, 'kernel': 'rbf'}. Best is trial 0 with value: 0.8567128236002408.\u001b[0m\n",
      "\u001b[32m[I 2023-05-17 18:53:24,194]\u001b[0m Trial 91 finished with value: 0.8567128236002408 and parameters: {'C': 1, 'gamma': 1, 'kernel': 'rbf'}. Best is trial 0 with value: 0.8567128236002408.\u001b[0m\n",
      "\u001b[32m[I 2023-05-17 18:53:29,434]\u001b[0m Trial 92 finished with value: 0.8567128236002408 and parameters: {'C': 1, 'gamma': 1, 'kernel': 'rbf'}. Best is trial 0 with value: 0.8567128236002408.\u001b[0m\n",
      "\u001b[32m[I 2023-05-17 18:53:35,137]\u001b[0m Trial 93 finished with value: 0.8567128236002408 and parameters: {'C': 1, 'gamma': 1, 'kernel': 'rbf'}. Best is trial 0 with value: 0.8567128236002408.\u001b[0m\n",
      "\u001b[32m[I 2023-05-17 18:53:40,291]\u001b[0m Trial 94 finished with value: 0.8567128236002408 and parameters: {'C': 1, 'gamma': 1, 'kernel': 'rbf'}. Best is trial 0 with value: 0.8567128236002408.\u001b[0m\n",
      "\u001b[32m[I 2023-05-17 18:53:46,038]\u001b[0m Trial 95 finished with value: 0.8061408789885611 and parameters: {'C': 0.1, 'gamma': 1, 'kernel': 'rbf'}. Best is trial 0 with value: 0.8567128236002408.\u001b[0m\n",
      "\u001b[32m[I 2023-05-17 18:53:52,312]\u001b[0m Trial 96 finished with value: 0.8338350391330523 and parameters: {'C': 100, 'gamma': 0.1, 'kernel': 'rbf'}. Best is trial 0 with value: 0.8567128236002408.\u001b[0m\n",
      "\u001b[32m[I 2023-05-17 18:53:57,528]\u001b[0m Trial 97 finished with value: 0.8567128236002408 and parameters: {'C': 1, 'gamma': 1, 'kernel': 'rbf'}. Best is trial 0 with value: 0.8567128236002408.\u001b[0m\n",
      "\u001b[32m[I 2023-05-17 18:54:02,327]\u001b[0m Trial 98 finished with value: 0.7928958458759783 and parameters: {'C': 1, 'gamma': 0.001, 'kernel': 'rbf'}. Best is trial 0 with value: 0.8567128236002408.\u001b[0m\n",
      "\u001b[32m[I 2023-05-17 18:54:04,934]\u001b[0m Trial 99 finished with value: 0.8260084286574353 and parameters: {'C': 1, 'gamma': 1, 'kernel': 'linear'}. Best is trial 0 with value: 0.8567128236002408.\u001b[0m\n"
     ]
    }
   ],
   "source": [
    "svm_study = optuna.create_study(direction=\"maximize\", study_name='SVM optimization')\n",
    "svm_study.optimize(svm_optimize, n_trials=100)"
   ]
  },
  {
   "cell_type": "code",
   "execution_count": 35,
   "id": "48678692",
   "metadata": {},
   "outputs": [
    {
     "name": "stdout",
     "output_type": "stream",
     "text": [
      "{'C': 1, 'gamma': 1, 'kernel': 'rbf'}\n"
     ]
    }
   ],
   "source": [
    "SVC_params = svm_study.best_params\n",
    "print(SVC_params)"
   ]
  },
  {
   "cell_type": "code",
   "execution_count": 39,
   "id": "b0d0a654",
   "metadata": {},
   "outputs": [
    {
     "name": "stderr",
     "output_type": "stream",
     "text": [
      "[Parallel(n_jobs=1)]: Using backend SequentialBackend with 1 concurrent workers.\n"
     ]
    },
    {
     "name": "stdout",
     "output_type": "stream",
     "text": [
      "[0.86762936 0.83253012 0.85301205 0.8373494  0.8626506  0.84698795\n",
      " 0.88192771 0.86626506 0.84457831 0.82891566]\n",
      "0.85 accuracy with a standard deviation of 0.02\n"
     ]
    },
    {
     "name": "stderr",
     "output_type": "stream",
     "text": [
      "[Parallel(n_jobs=1)]: Done  10 out of  10 | elapsed:  1.5min finished\n"
     ]
    }
   ],
   "source": [
    "from sklearn.model_selection import KFold\n",
    "from sklearn.model_selection import cross_val_score\n",
    "SVM_model = SVC(**SVC_params)\n",
    "kfold_val = KFold(10, shuffle=True, random_state=42)\n",
    "cv_score = cross_val_score(SVM_model, X_train, y_train, cv=kfold_val, verbose=1)\n",
    "print(cv_score)\n",
    "print(\"%0.2f accuracy with a standard deviation of %0.2f\" % (cv_score.mean(), cv_score.std()))"
   ]
  },
  {
   "cell_type": "code",
   "execution_count": 40,
   "id": "45b90302",
   "metadata": {},
   "outputs": [
    {
     "name": "stdout",
     "output_type": "stream",
     "text": [
      "Time consumed for training: 8.903808300000037 seconds\n",
      "Time consumed for prediction: 2.1705918000002384 seconds\n"
     ]
    }
   ],
   "source": [
    "import time\n",
    "final_svm_model = SVC(**SVC_params)\n",
    "svm_train_start = time.perf_counter()\n",
    "final_svm_model.fit(X_train, y_train)\n",
    "svm_train_end = time.perf_counter()\n",
    "\n",
    "svm_pred_start = time.perf_counter()\n",
    "final_svm_preds = final_svm_model.predict(X_test)\n",
    "svm_pred_end = time.perf_counter()\n",
    "\n",
    "svm_train_time = svm_train_end-svm_train_start\n",
    "svm_pred_time = svm_pred_end-svm_pred_start\n",
    "\n",
    "print(\"Time consumed for training:\" ,svm_train_time, \"seconds\")\n",
    "print(\"Time consumed for prediction:\" ,svm_pred_time, \"seconds\")"
   ]
  },
  {
   "cell_type": "code",
   "execution_count": 41,
   "id": "95e03a33",
   "metadata": {},
   "outputs": [
    {
     "name": "stdout",
     "output_type": "stream",
     "text": [
      "              precision    recall  f1-score   support\n",
      "\n",
      "           0       0.85      0.85      0.85      1035\n",
      "           1       0.57      0.58      0.58       374\n",
      "\n",
      "    accuracy                           0.77      1409\n",
      "   macro avg       0.71      0.71      0.71      1409\n",
      "weighted avg       0.77      0.77      0.77      1409\n",
      "\n"
     ]
    }
   ],
   "source": [
    "from sklearn.metrics import classification_report\n",
    "print(classification_report(y_test, final_svm_preds))"
   ]
  },
  {
   "cell_type": "code",
   "execution_count": 94,
   "id": "b7f332c9",
   "metadata": {},
   "outputs": [
    {
     "name": "stdout",
     "output_type": "stream",
     "text": [
      "Time consumed for training: 37.57071880000876 seconds\n",
      "Time consumed for prediction: 1.4201552999729756 seconds\n"
     ]
    }
   ],
   "source": [
    "final_svm_model = SVC(**SVC_params, probability=True)\n",
    "svm_train_start = time.perf_counter()\n",
    "final_svm_model.fit(X_train, y_train)\n",
    "svm_train_end = time.perf_counter()\n",
    "\n",
    "svm_pred_start = time.perf_counter()\n",
    "final_svm_preds_proba = final_svm_model.predict_proba(X_test)[:,1]\n",
    "svm_pred_end = time.perf_counter()\n",
    "\n",
    "svm_train_time = svm_train_end-svm_train_start\n",
    "svm_pred_time = svm_pred_end-svm_pred_start\n",
    "\n",
    "print(\"Time consumed for training:\" ,svm_train_time, \"seconds\")\n",
    "print(\"Time consumed for prediction:\" ,svm_pred_time, \"seconds\")"
   ]
  },
  {
   "cell_type": "code",
   "execution_count": 95,
   "id": "ab114e71",
   "metadata": {},
   "outputs": [
    {
     "name": "stdout",
     "output_type": "stream",
     "text": [
      "The ROC AUC score is 0.7831783306207858\n"
     ]
    }
   ],
   "source": [
    "svm_score=roc_auc_score(y_test, final_svm_preds_proba)\n",
    "print(\"The ROC AUC score is\" ,svm_score)"
   ]
  },
  {
   "cell_type": "markdown",
   "id": "c2492507",
   "metadata": {},
   "source": [
    "# TabNet pre-trainer & classifier"
   ]
  },
  {
   "cell_type": "code",
   "execution_count": 51,
   "id": "752d8af4",
   "metadata": {},
   "outputs": [],
   "source": [
    "#transform data to numpy arrays for Pytorch (since it only deals with tensors)\n",
    "X_train_np = X_train.to_numpy()\n",
    "y_train_np = y_train.to_numpy().squeeze()\n",
    "X_test_np  = X_test.to_numpy()\n",
    "y_test_np = y_test.to_numpy().squeeze()"
   ]
  },
  {
   "cell_type": "code",
   "execution_count": 54,
   "id": "e1cbf24e",
   "metadata": {},
   "outputs": [],
   "source": [
    "# hyperparameter tuning for the TabNet classifier (without pre-training)\n",
    "def tabnetclf_optimize(trial):\n",
    "    #split data for training and validation\n",
    "    X_tr, X_valid, y_tr, y_valid = train_test_split(X_train_np, y_train_np, stratify=y_train_np, test_size=0.2,random_state=42)\n",
    " \n",
    "    mask_type = trial.suggest_categorical(\"mask_type\", [\"entmax\", \"sparsemax\"])\n",
    "    n_da = trial.suggest_int(\"n_da\", 56, 64, step=4)\n",
    "    n_steps = trial.suggest_int(\"n_steps\", 1, 3, step=1)\n",
    "    gamma = trial.suggest_float(\"gamma\", 1., 1.4, step=0.2)\n",
    "    n_shared = trial.suggest_int(\"n_shared\", 1, 3)\n",
    "    lambda_sparse = trial.suggest_float(\"lambda_sparse\", 1e-6, 1e-3, log=True)\n",
    "    tabnet_params = dict(n_d=n_da, n_a=n_da, n_steps=n_steps, gamma=gamma,\n",
    "                     lambda_sparse=lambda_sparse, optimizer_fn=torch.optim.Adam,\n",
    "                     optimizer_params=dict(lr=2e-2, weight_decay=1e-5),\n",
    "                     mask_type=mask_type, n_shared=n_shared,\n",
    "                     scheduler_params=dict(mode=\"min\",\n",
    "                                           patience=trial.suggest_int(\"patienceScheduler\",low=3,high=10), # changing sheduler patience to be lower than early stopping patience \n",
    "                                           min_lr=1e-5,\n",
    "                                           factor=0.5,),   \n",
    "                     scheduler_fn=torch.optim.lr_scheduler.ReduceLROnPlateau,\n",
    "                     verbose=0,\n",
    "                     ) #early stopping\n",
    "    tabnet_clf = TabNetClassifier(**tabnet_params)\n",
    "    tabnet_clf.fit(X_tr, y_tr,\n",
    "                  eval_set=[(X_valid, y_valid)], \n",
    "                  patience=trial.suggest_int(\"patience\",low=15,high=30), max_epochs=trial.suggest_int('epochs', 1, 100)\n",
    "                  )\n",
    "    y_pred = tabnet_clf.predict(X_valid)\n",
    "    accuracy = accuracy_score(y_valid, y_pred)\n",
    "\n",
    "    return accuracy"
   ]
  },
  {
   "cell_type": "code",
   "execution_count": 55,
   "id": "2afcca7b",
   "metadata": {},
   "outputs": [
    {
     "name": "stderr",
     "output_type": "stream",
     "text": [
      "\u001b[32m[I 2023-05-17 20:23:40,400]\u001b[0m A new study created in memory with name: TabNet Classifier optimization\u001b[0m\n"
     ]
    },
    {
     "name": "stdout",
     "output_type": "stream",
     "text": [
      "Stop training because you reached max_epochs = 65 with best_epoch = 61 and best_val_0_auc = 0.90028\n"
     ]
    },
    {
     "name": "stderr",
     "output_type": "stream",
     "text": [
      "\u001b[32m[I 2023-05-17 20:28:58,792]\u001b[0m Trial 0 finished with value: 0.8211920529801324 and parameters: {'mask_type': 'entmax', 'n_da': 60, 'n_steps': 2, 'gamma': 1.2, 'n_shared': 1, 'lambda_sparse': 0.0001102604429448004, 'patienceScheduler': 8, 'patience': 18, 'epochs': 65}. Best is trial 0 with value: 0.8211920529801324.\u001b[0m\n"
     ]
    },
    {
     "name": "stdout",
     "output_type": "stream",
     "text": [
      "\n",
      "Early stopping occurred at epoch 59 with best_epoch = 38 and best_val_0_auc = 0.89083\n"
     ]
    },
    {
     "name": "stderr",
     "output_type": "stream",
     "text": [
      "\u001b[32m[I 2023-05-17 20:35:46,798]\u001b[0m Trial 1 finished with value: 0.8133654425045154 and parameters: {'mask_type': 'entmax', 'n_da': 60, 'n_steps': 2, 'gamma': 1.2, 'n_shared': 2, 'lambda_sparse': 1.4916983515434773e-05, 'patienceScheduler': 6, 'patience': 21, 'epochs': 87}. Best is trial 0 with value: 0.8211920529801324.\u001b[0m\n"
     ]
    },
    {
     "name": "stdout",
     "output_type": "stream",
     "text": [
      "Stop training because you reached max_epochs = 53 with best_epoch = 36 and best_val_0_auc = 0.88227\n"
     ]
    },
    {
     "name": "stderr",
     "output_type": "stream",
     "text": [
      "\u001b[32m[I 2023-05-17 20:42:45,433]\u001b[0m Trial 2 finished with value: 0.8151715833835039 and parameters: {'mask_type': 'entmax', 'n_da': 56, 'n_steps': 3, 'gamma': 1.0, 'n_shared': 2, 'lambda_sparse': 3.8872519945327864e-06, 'patienceScheduler': 10, 'patience': 29, 'epochs': 53}. Best is trial 0 with value: 0.8211920529801324.\u001b[0m\n"
     ]
    },
    {
     "name": "stdout",
     "output_type": "stream",
     "text": [
      "Stop training because you reached max_epochs = 32 with best_epoch = 28 and best_val_0_auc = 0.8925\n"
     ]
    },
    {
     "name": "stderr",
     "output_type": "stream",
     "text": [
      "\u001b[32m[I 2023-05-17 20:46:23,118]\u001b[0m Trial 3 finished with value: 0.8217940999397954 and parameters: {'mask_type': 'entmax', 'n_da': 60, 'n_steps': 2, 'gamma': 1.4, 'n_shared': 2, 'lambda_sparse': 9.39991900897581e-05, 'patienceScheduler': 9, 'patience': 29, 'epochs': 32}. Best is trial 3 with value: 0.8217940999397954.\u001b[0m\n"
     ]
    },
    {
     "name": "stdout",
     "output_type": "stream",
     "text": [
      "Stop training because you reached max_epochs = 23 with best_epoch = 22 and best_val_0_auc = 0.88536\n"
     ]
    },
    {
     "name": "stderr",
     "output_type": "stream",
     "text": [
      "\u001b[32m[I 2023-05-17 20:48:13,993]\u001b[0m Trial 4 finished with value: 0.7591812161348586 and parameters: {'mask_type': 'entmax', 'n_da': 60, 'n_steps': 2, 'gamma': 1.4, 'n_shared': 1, 'lambda_sparse': 8.916917095277511e-06, 'patienceScheduler': 10, 'patience': 17, 'epochs': 23}. Best is trial 3 with value: 0.8217940999397954.\u001b[0m\n"
     ]
    },
    {
     "name": "stdout",
     "output_type": "stream",
     "text": [
      "Stop training because you reached max_epochs = 24 with best_epoch = 23 and best_val_0_auc = 0.87568\n"
     ]
    },
    {
     "name": "stderr",
     "output_type": "stream",
     "text": [
      "\u001b[32m[I 2023-05-17 20:49:57,086]\u001b[0m Trial 5 finished with value: 0.786273329319687 and parameters: {'mask_type': 'entmax', 'n_da': 56, 'n_steps': 2, 'gamma': 1.4, 'n_shared': 1, 'lambda_sparse': 0.00018237160112225656, 'patienceScheduler': 3, 'patience': 20, 'epochs': 24}. Best is trial 3 with value: 0.8217940999397954.\u001b[0m\n"
     ]
    },
    {
     "name": "stdout",
     "output_type": "stream",
     "text": [
      "Stop training because you reached max_epochs = 29 with best_epoch = 28 and best_val_0_auc = 0.89515\n"
     ]
    },
    {
     "name": "stderr",
     "output_type": "stream",
     "text": [
      "\u001b[32m[I 2023-05-17 20:53:19,788]\u001b[0m Trial 6 finished with value: 0.8097531607465382 and parameters: {'mask_type': 'entmax', 'n_da': 64, 'n_steps': 1, 'gamma': 1.4, 'n_shared': 3, 'lambda_sparse': 3.754977413270747e-06, 'patienceScheduler': 7, 'patience': 21, 'epochs': 29}. Best is trial 3 with value: 0.8217940999397954.\u001b[0m\n"
     ]
    },
    {
     "name": "stdout",
     "output_type": "stream",
     "text": [
      "Stop training because you reached max_epochs = 56 with best_epoch = 55 and best_val_0_auc = 0.89339\n"
     ]
    },
    {
     "name": "stderr",
     "output_type": "stream",
     "text": [
      "\u001b[32m[I 2023-05-17 21:00:35,497]\u001b[0m Trial 7 finished with value: 0.839855508729681 and parameters: {'mask_type': 'sparsemax', 'n_da': 56, 'n_steps': 2, 'gamma': 1.4, 'n_shared': 3, 'lambda_sparse': 1.0407738553391191e-06, 'patienceScheduler': 6, 'patience': 21, 'epochs': 56}. Best is trial 7 with value: 0.839855508729681.\u001b[0m\n"
     ]
    },
    {
     "name": "stdout",
     "output_type": "stream",
     "text": [
      "Stop training because you reached max_epochs = 12 with best_epoch = 11 and best_val_0_auc = 0.8756\n"
     ]
    },
    {
     "name": "stderr",
     "output_type": "stream",
     "text": [
      "\u001b[32m[I 2023-05-17 21:02:15,261]\u001b[0m Trial 8 finished with value: 0.7838651414810355 and parameters: {'mask_type': 'entmax', 'n_da': 64, 'n_steps': 3, 'gamma': 1.2, 'n_shared': 1, 'lambda_sparse': 2.5623227631264605e-05, 'patienceScheduler': 8, 'patience': 26, 'epochs': 12}. Best is trial 7 with value: 0.839855508729681.\u001b[0m\n"
     ]
    },
    {
     "name": "stdout",
     "output_type": "stream",
     "text": [
      "Stop training because you reached max_epochs = 11 with best_epoch = 10 and best_val_0_auc = 0.85407\n"
     ]
    },
    {
     "name": "stderr",
     "output_type": "stream",
     "text": [
      "\u001b[32m[I 2023-05-17 21:03:20,974]\u001b[0m Trial 9 finished with value: 0.7435279951836243 and parameters: {'mask_type': 'entmax', 'n_da': 56, 'n_steps': 3, 'gamma': 1.0, 'n_shared': 1, 'lambda_sparse': 0.00023109358880649063, 'patienceScheduler': 7, 'patience': 21, 'epochs': 11}. Best is trial 7 with value: 0.839855508729681.\u001b[0m\n"
     ]
    },
    {
     "name": "stdout",
     "output_type": "stream",
     "text": [
      "\n",
      "Early stopping occurred at epoch 66 with best_epoch = 42 and best_val_0_auc = 0.88335\n"
     ]
    },
    {
     "name": "stderr",
     "output_type": "stream",
     "text": [
      "\u001b[32m[I 2023-05-17 21:09:04,102]\u001b[0m Trial 10 finished with value: 0.8121613485851896 and parameters: {'mask_type': 'sparsemax', 'n_da': 56, 'n_steps': 1, 'gamma': 1.4, 'n_shared': 3, 'lambda_sparse': 1.45974590919587e-06, 'patienceScheduler': 4, 'patience': 24, 'epochs': 95}. Best is trial 7 with value: 0.839855508729681.\u001b[0m\n"
     ]
    },
    {
     "name": "stdout",
     "output_type": "stream",
     "text": [
      "Stop training because you reached max_epochs = 46 with best_epoch = 45 and best_val_0_auc = 0.8892\n"
     ]
    },
    {
     "name": "stderr",
     "output_type": "stream",
     "text": [
      "\u001b[32m[I 2023-05-17 21:13:47,780]\u001b[0m Trial 11 finished with value: 0.8223961468994582 and parameters: {'mask_type': 'sparsemax', 'n_da': 60, 'n_steps': 1, 'gamma': 1.4, 'n_shared': 3, 'lambda_sparse': 5.965307892496747e-05, 'patienceScheduler': 5, 'patience': 30, 'epochs': 46}. Best is trial 7 with value: 0.839855508729681.\u001b[0m\n"
     ]
    },
    {
     "name": "stdout",
     "output_type": "stream",
     "text": [
      "Stop training because you reached max_epochs = 63 with best_epoch = 55 and best_val_0_auc = 0.89934\n"
     ]
    },
    {
     "name": "stderr",
     "output_type": "stream",
     "text": [
      "\u001b[32m[I 2023-05-17 21:21:36,741]\u001b[0m Trial 12 finished with value: 0.8296207104154124 and parameters: {'mask_type': 'sparsemax', 'n_da': 64, 'n_steps': 1, 'gamma': 1.4, 'n_shared': 3, 'lambda_sparse': 0.0008450656123920122, 'patienceScheduler': 5, 'patience': 15, 'epochs': 63}. Best is trial 7 with value: 0.839855508729681.\u001b[0m\n"
     ]
    },
    {
     "name": "stdout",
     "output_type": "stream",
     "text": [
      "Stop training because you reached max_epochs = 72 with best_epoch = 69 and best_val_0_auc = 0.90555\n"
     ]
    },
    {
     "name": "stderr",
     "output_type": "stream",
     "text": [
      "\u001b[32m[I 2023-05-17 21:30:30,734]\u001b[0m Trial 13 finished with value: 0.839855508729681 and parameters: {'mask_type': 'sparsemax', 'n_da': 64, 'n_steps': 1, 'gamma': 1.2, 'n_shared': 3, 'lambda_sparse': 0.0008133167414508282, 'patienceScheduler': 5, 'patience': 16, 'epochs': 72}. Best is trial 7 with value: 0.839855508729681.\u001b[0m\n"
     ]
    },
    {
     "name": "stdout",
     "output_type": "stream",
     "text": [
      "Stop training because you reached max_epochs = 78 with best_epoch = 76 and best_val_0_auc = 0.89878\n"
     ]
    },
    {
     "name": "stderr",
     "output_type": "stream",
     "text": [
      "\u001b[32m[I 2023-05-17 21:39:39,354]\u001b[0m Trial 14 finished with value: 0.8266104756170981 and parameters: {'mask_type': 'sparsemax', 'n_da': 64, 'n_steps': 1, 'gamma': 1.2, 'n_shared': 3, 'lambda_sparse': 0.0008257042692257533, 'patienceScheduler': 5, 'patience': 15, 'epochs': 78}. Best is trial 7 with value: 0.839855508729681.\u001b[0m\n"
     ]
    },
    {
     "name": "stdout",
     "output_type": "stream",
     "text": [
      "Stop training because you reached max_epochs = 69 with best_epoch = 56 and best_val_0_auc = 0.8869\n"
     ]
    },
    {
     "name": "stderr",
     "output_type": "stream",
     "text": [
      "\u001b[32m[I 2023-05-17 21:45:31,179]\u001b[0m Trial 15 finished with value: 0.818783865141481 and parameters: {'mask_type': 'sparsemax', 'n_da': 56, 'n_steps': 1, 'gamma': 1.0, 'n_shared': 3, 'lambda_sparse': 1.5091666381748113e-06, 'patienceScheduler': 6, 'patience': 24, 'epochs': 69}. Best is trial 7 with value: 0.839855508729681.\u001b[0m\n"
     ]
    },
    {
     "name": "stdout",
     "output_type": "stream",
     "text": [
      "Stop training because you reached max_epochs = 48 with best_epoch = 39 and best_val_0_auc = 0.87794\n"
     ]
    },
    {
     "name": "stderr",
     "output_type": "stream",
     "text": [
      "\u001b[32m[I 2023-05-17 21:54:01,789]\u001b[0m Trial 16 finished with value: 0.8097531607465382 and parameters: {'mask_type': 'sparsemax', 'n_da': 64, 'n_steps': 3, 'gamma': 1.2, 'n_shared': 2, 'lambda_sparse': 0.00046138874967228564, 'patienceScheduler': 3, 'patience': 18, 'epochs': 48}. Best is trial 7 with value: 0.839855508729681.\u001b[0m\n"
     ]
    },
    {
     "name": "stdout",
     "output_type": "stream",
     "text": [
      "\n",
      "Early stopping occurred at epoch 66 with best_epoch = 49 and best_val_0_auc = 0.88746\n"
     ]
    },
    {
     "name": "stderr",
     "output_type": "stream",
     "text": [
      "\u001b[32m[I 2023-05-17 22:03:58,678]\u001b[0m Trial 17 finished with value: 0.8260084286574353 and parameters: {'mask_type': 'sparsemax', 'n_da': 60, 'n_steps': 2, 'gamma': 1.2, 'n_shared': 3, 'lambda_sparse': 3.4300136083954666e-05, 'patienceScheduler': 4, 'patience': 17, 'epochs': 82}. Best is trial 7 with value: 0.839855508729681.\u001b[0m\n"
     ]
    },
    {
     "name": "stdout",
     "output_type": "stream",
     "text": [
      "Stop training because you reached max_epochs = 98 with best_epoch = 75 and best_val_0_auc = 0.89868\n"
     ]
    },
    {
     "name": "stderr",
     "output_type": "stream",
     "text": [
      "\u001b[32m[I 2023-05-17 22:14:29,670]\u001b[0m Trial 18 finished with value: 0.8326309452137267 and parameters: {'mask_type': 'sparsemax', 'n_da': 56, 'n_steps': 2, 'gamma': 1.0, 'n_shared': 2, 'lambda_sparse': 5.230708616293855e-06, 'patienceScheduler': 6, 'patience': 24, 'epochs': 98}. Best is trial 7 with value: 0.839855508729681.\u001b[0m\n"
     ]
    },
    {
     "name": "stdout",
     "output_type": "stream",
     "text": [
      "Stop training because you reached max_epochs = 40 with best_epoch = 39 and best_val_0_auc = 0.90202\n"
     ]
    },
    {
     "name": "stderr",
     "output_type": "stream",
     "text": [
      "\u001b[32m[I 2023-05-17 22:19:26,522]\u001b[0m Trial 19 finished with value: 0.8254063816977725 and parameters: {'mask_type': 'sparsemax', 'n_da': 64, 'n_steps': 1, 'gamma': 1.2, 'n_shared': 3, 'lambda_sparse': 0.00035836171034973137, 'patienceScheduler': 4, 'patience': 19, 'epochs': 40}. Best is trial 7 with value: 0.839855508729681.\u001b[0m\n"
     ]
    },
    {
     "name": "stdout",
     "output_type": "stream",
     "text": [
      "Stop training because you reached max_epochs = 73 with best_epoch = 58 and best_val_0_auc = 0.89831\n"
     ]
    },
    {
     "name": "stderr",
     "output_type": "stream",
     "text": [
      "\u001b[32m[I 2023-05-17 22:31:01,937]\u001b[0m Trial 20 finished with value: 0.839253461770018 and parameters: {'mask_type': 'sparsemax', 'n_da': 60, 'n_steps': 3, 'gamma': 1.2, 'n_shared': 2, 'lambda_sparse': 1.078399944683293e-06, 'patienceScheduler': 8, 'patience': 26, 'epochs': 73}. Best is trial 7 with value: 0.839855508729681.\u001b[0m\n"
     ]
    },
    {
     "name": "stdout",
     "output_type": "stream",
     "text": [
      "Stop training because you reached max_epochs = 72 with best_epoch = 60 and best_val_0_auc = 0.90304\n"
     ]
    },
    {
     "name": "stderr",
     "output_type": "stream",
     "text": [
      "\u001b[32m[I 2023-05-17 22:42:28,074]\u001b[0m Trial 21 finished with value: 0.8350391330523781 and parameters: {'mask_type': 'sparsemax', 'n_da': 60, 'n_steps': 3, 'gamma': 1.2, 'n_shared': 2, 'lambda_sparse': 1.0182525191791336e-06, 'patienceScheduler': 8, 'patience': 27, 'epochs': 72}. Best is trial 7 with value: 0.839855508729681.\u001b[0m\n"
     ]
    },
    {
     "name": "stdout",
     "output_type": "stream",
     "text": [
      "Stop training because you reached max_epochs = 60 with best_epoch = 46 and best_val_0_auc = 0.892\n"
     ]
    },
    {
     "name": "stderr",
     "output_type": "stream",
     "text": [
      "\u001b[32m[I 2023-05-17 22:53:51,496]\u001b[0m Trial 22 finished with value: 0.8091511137868754 and parameters: {'mask_type': 'sparsemax', 'n_da': 64, 'n_steps': 3, 'gamma': 1.2, 'n_shared': 2, 'lambda_sparse': 2.306135961223143e-06, 'patienceScheduler': 7, 'patience': 26, 'epochs': 60}. Best is trial 7 with value: 0.839855508729681.\u001b[0m\n"
     ]
    },
    {
     "name": "stdout",
     "output_type": "stream",
     "text": [
      "Stop training because you reached max_epochs = 58 with best_epoch = 37 and best_val_0_auc = 0.88503\n"
     ]
    },
    {
     "name": "stderr",
     "output_type": "stream",
     "text": [
      "\u001b[32m[I 2023-05-17 23:02:08,581]\u001b[0m Trial 23 finished with value: 0.8181818181818182 and parameters: {'mask_type': 'sparsemax', 'n_da': 56, 'n_steps': 3, 'gamma': 1.2, 'n_shared': 2, 'lambda_sparse': 8.833359280131194e-06, 'patienceScheduler': 9, 'patience': 23, 'epochs': 58}. Best is trial 7 with value: 0.839855508729681.\u001b[0m\n"
     ]
    },
    {
     "name": "stdout",
     "output_type": "stream",
     "text": [
      "Stop training because you reached max_epochs = 75 with best_epoch = 67 and best_val_0_auc = 0.89034\n"
     ]
    },
    {
     "name": "stderr",
     "output_type": "stream",
     "text": [
      "\u001b[32m[I 2023-05-17 23:13:46,668]\u001b[0m Trial 24 finished with value: 0.8175797712221553 and parameters: {'mask_type': 'sparsemax', 'n_da': 60, 'n_steps': 2, 'gamma': 1.2, 'n_shared': 3, 'lambda_sparse': 2.326200950619963e-06, 'patienceScheduler': 5, 'patience': 26, 'epochs': 75}. Best is trial 7 with value: 0.839855508729681.\u001b[0m\n"
     ]
    },
    {
     "name": "stdout",
     "output_type": "stream",
     "text": [
      "\n",
      "Early stopping occurred at epoch 85 with best_epoch = 63 and best_val_0_auc = 0.88439\n"
     ]
    },
    {
     "name": "stderr",
     "output_type": "stream",
     "text": [
      "\u001b[32m[I 2023-05-17 23:24:02,741]\u001b[0m Trial 25 finished with value: 0.8193859121011439 and parameters: {'mask_type': 'sparsemax', 'n_da': 60, 'n_steps': 2, 'gamma': 1.0, 'n_shared': 2, 'lambda_sparse': 1.0947804984458268e-06, 'patienceScheduler': 6, 'patience': 22, 'epochs': 89}. Best is trial 7 with value: 0.839855508729681.\u001b[0m\n"
     ]
    },
    {
     "name": "stdout",
     "output_type": "stream",
     "text": [
      "Stop training because you reached max_epochs = 41 with best_epoch = 40 and best_val_0_auc = 0.87555\n"
     ]
    },
    {
     "name": "stderr",
     "output_type": "stream",
     "text": [
      "\u001b[32m[I 2023-05-17 23:28:08,968]\u001b[0m Trial 26 finished with value: 0.8037326911499096 and parameters: {'mask_type': 'sparsemax', 'n_da': 60, 'n_steps': 1, 'gamma': 1.2, 'n_shared': 3, 'lambda_sparse': 2.132826720187145e-06, 'patienceScheduler': 9, 'patience': 16, 'epochs': 41}. Best is trial 7 with value: 0.839855508729681.\u001b[0m\n"
     ]
    },
    {
     "name": "stdout",
     "output_type": "stream",
     "text": [
      "Stop training because you reached max_epochs = 53 with best_epoch = 52 and best_val_0_auc = 0.88791\n"
     ]
    },
    {
     "name": "stderr",
     "output_type": "stream",
     "text": [
      "\u001b[32m[I 2023-05-17 23:37:09,871]\u001b[0m Trial 27 finished with value: 0.8211920529801324 and parameters: {'mask_type': 'sparsemax', 'n_da': 56, 'n_steps': 3, 'gamma': 1.4, 'n_shared': 3, 'lambda_sparse': 1.7273922936727114e-05, 'patienceScheduler': 7, 'patience': 19, 'epochs': 53}. Best is trial 7 with value: 0.839855508729681.\u001b[0m\n"
     ]
    },
    {
     "name": "stdout",
     "output_type": "stream",
     "text": [
      "\n",
      "Early stopping occurred at epoch 73 with best_epoch = 45 and best_val_0_auc = 0.89736\n"
     ]
    },
    {
     "name": "stderr",
     "output_type": "stream",
     "text": [
      "\u001b[32m[I 2023-05-17 23:46:59,409]\u001b[0m Trial 28 finished with value: 0.8296207104154124 and parameters: {'mask_type': 'sparsemax', 'n_da': 64, 'n_steps': 2, 'gamma': 1.4, 'n_shared': 2, 'lambda_sparse': 6.273149103288931e-06, 'patienceScheduler': 8, 'patience': 28, 'epochs': 81}. Best is trial 7 with value: 0.839855508729681.\u001b[0m\n"
     ]
    },
    {
     "name": "stdout",
     "output_type": "stream",
     "text": [
      "Stop training because you reached max_epochs = 65 with best_epoch = 56 and best_val_0_auc = 0.89118\n"
     ]
    },
    {
     "name": "stderr",
     "output_type": "stream",
     "text": [
      "\u001b[32m[I 2023-05-17 23:56:18,401]\u001b[0m Trial 29 finished with value: 0.8302227573750752 and parameters: {'mask_type': 'sparsemax', 'n_da': 60, 'n_steps': 2, 'gamma': 1.2, 'n_shared': 3, 'lambda_sparse': 3.476762010511439e-05, 'patienceScheduler': 6, 'patience': 25, 'epochs': 65}. Best is trial 7 with value: 0.839855508729681.\u001b[0m\n"
     ]
    },
    {
     "name": "stdout",
     "output_type": "stream",
     "text": [
      "Stop training because you reached max_epochs = 68 with best_epoch = 66 and best_val_0_auc = 0.89631\n"
     ]
    },
    {
     "name": "stderr",
     "output_type": "stream",
     "text": [
      "\u001b[32m[I 2023-05-18 00:00:58,762]\u001b[0m Trial 30 finished with value: 0.8308248043347382 and parameters: {'mask_type': 'sparsemax', 'n_da': 56, 'n_steps': 1, 'gamma': 1.0, 'n_shared': 2, 'lambda_sparse': 6.184646019755498e-05, 'patienceScheduler': 4, 'patience': 23, 'epochs': 68}. Best is trial 7 with value: 0.839855508729681.\u001b[0m\n"
     ]
    },
    {
     "name": "stdout",
     "output_type": "stream",
     "text": [
      "Stop training because you reached max_epochs = 73 with best_epoch = 71 and best_val_0_auc = 0.89843\n"
     ]
    },
    {
     "name": "stderr",
     "output_type": "stream",
     "text": [
      "\u001b[32m[I 2023-05-18 00:11:54,101]\u001b[0m Trial 31 finished with value: 0.8266104756170981 and parameters: {'mask_type': 'sparsemax', 'n_da': 60, 'n_steps': 3, 'gamma': 1.2, 'n_shared': 2, 'lambda_sparse': 1.2706623747226062e-06, 'patienceScheduler': 8, 'patience': 27, 'epochs': 73}. Best is trial 7 with value: 0.839855508729681.\u001b[0m\n"
     ]
    },
    {
     "name": "stdout",
     "output_type": "stream",
     "text": [
      "Stop training because you reached max_epochs = 86 with best_epoch = 77 and best_val_0_auc = 0.89415\n"
     ]
    },
    {
     "name": "stderr",
     "output_type": "stream",
     "text": [
      "\u001b[32m[I 2023-05-18 00:24:36,440]\u001b[0m Trial 32 finished with value: 0.8248043347381095 and parameters: {'mask_type': 'sparsemax', 'n_da': 60, 'n_steps': 3, 'gamma': 1.2, 'n_shared': 2, 'lambda_sparse': 1.8349821826823557e-06, 'patienceScheduler': 8, 'patience': 27, 'epochs': 86}. Best is trial 7 with value: 0.839855508729681.\u001b[0m\n"
     ]
    },
    {
     "name": "stdout",
     "output_type": "stream",
     "text": [
      "Stop training because you reached max_epochs = 58 with best_epoch = 56 and best_val_0_auc = 0.89211\n"
     ]
    },
    {
     "name": "stderr",
     "output_type": "stream",
     "text": [
      "\u001b[32m[I 2023-05-18 00:33:26,634]\u001b[0m Trial 33 finished with value: 0.8205900060204696 and parameters: {'mask_type': 'sparsemax', 'n_da': 60, 'n_steps': 3, 'gamma': 1.2, 'n_shared': 2, 'lambda_sparse': 1.03418223820899e-06, 'patienceScheduler': 9, 'patience': 27, 'epochs': 58}. Best is trial 7 with value: 0.839855508729681.\u001b[0m\n"
     ]
    },
    {
     "name": "stdout",
     "output_type": "stream",
     "text": [
      "Stop training because you reached max_epochs = 71 with best_epoch = 50 and best_val_0_auc = 0.88783\n"
     ]
    },
    {
     "name": "stderr",
     "output_type": "stream",
     "text": [
      "\u001b[32m[I 2023-05-18 00:44:48,805]\u001b[0m Trial 34 finished with value: 0.8254063816977725 and parameters: {'mask_type': 'sparsemax', 'n_da': 60, 'n_steps': 3, 'gamma': 1.2, 'n_shared': 2, 'lambda_sparse': 3.335965113543701e-06, 'patienceScheduler': 7, 'patience': 29, 'epochs': 71}. Best is trial 7 with value: 0.839855508729681.\u001b[0m\n"
     ]
    },
    {
     "name": "stdout",
     "output_type": "stream",
     "text": [
      "\n",
      "Early stopping occurred at epoch 83 with best_epoch = 58 and best_val_0_auc = 0.91\n"
     ]
    },
    {
     "name": "stderr",
     "output_type": "stream",
     "text": [
      "\u001b[32m[I 2023-05-18 00:58:09,249]\u001b[0m Trial 35 finished with value: 0.8362432269717038 and parameters: {'mask_type': 'sparsemax', 'n_da': 60, 'n_steps': 3, 'gamma': 1.2, 'n_shared': 2, 'lambda_sparse': 1.1485041001785347e-05, 'patienceScheduler': 10, 'patience': 25, 'epochs': 92}. Best is trial 7 with value: 0.839855508729681.\u001b[0m\n"
     ]
    },
    {
     "name": "stdout",
     "output_type": "stream",
     "text": [
      "\n",
      "Early stopping occurred at epoch 89 with best_epoch = 64 and best_val_0_auc = 0.90869\n"
     ]
    },
    {
     "name": "stderr",
     "output_type": "stream",
     "text": [
      "\u001b[32m[I 2023-05-18 01:07:21,160]\u001b[0m Trial 36 finished with value: 0.8386514148103552 and parameters: {'mask_type': 'sparsemax', 'n_da': 64, 'n_steps': 2, 'gamma': 1.2, 'n_shared': 1, 'lambda_sparse': 1.1890538194376402e-05, 'patienceScheduler': 10, 'patience': 25, 'epochs': 90}. Best is trial 7 with value: 0.839855508729681.\u001b[0m\n"
     ]
    },
    {
     "name": "stdout",
     "output_type": "stream",
     "text": [
      "\n",
      "Early stopping occurred at epoch 80 with best_epoch = 58 and best_val_0_auc = 0.89015\n"
     ]
    },
    {
     "name": "stderr",
     "output_type": "stream",
     "text": [
      "\u001b[32m[I 2023-05-18 01:15:33,238]\u001b[0m Trial 37 finished with value: 0.8236002408187839 and parameters: {'mask_type': 'entmax', 'n_da': 64, 'n_steps': 2, 'gamma': 1.4, 'n_shared': 1, 'lambda_sparse': 3.0926539900396155e-06, 'patienceScheduler': 10, 'patience': 22, 'epochs': 85}. Best is trial 7 with value: 0.839855508729681.\u001b[0m\n"
     ]
    },
    {
     "name": "stdout",
     "output_type": "stream",
     "text": [
      "Stop training because you reached max_epochs = 55 with best_epoch = 54 and best_val_0_auc = 0.89397\n"
     ]
    },
    {
     "name": "stderr",
     "output_type": "stream",
     "text": [
      "\u001b[32m[I 2023-05-18 01:21:07,711]\u001b[0m Trial 38 finished with value: 0.8344370860927153 and parameters: {'mask_type': 'sparsemax', 'n_da': 64, 'n_steps': 2, 'gamma': 1.2, 'n_shared': 1, 'lambda_sparse': 8.667011107413986e-05, 'patienceScheduler': 9, 'patience': 25, 'epochs': 55}. Best is trial 7 with value: 0.839855508729681.\u001b[0m\n"
     ]
    },
    {
     "name": "stdout",
     "output_type": "stream",
     "text": [
      "Stop training because you reached max_epochs = 80 with best_epoch = 79 and best_val_0_auc = 0.90611\n"
     ]
    },
    {
     "name": "stderr",
     "output_type": "stream",
     "text": [
      "\u001b[32m[I 2023-05-18 01:29:21,140]\u001b[0m Trial 39 finished with value: 0.8326309452137267 and parameters: {'mask_type': 'entmax', 'n_da': 64, 'n_steps': 2, 'gamma': 1.0, 'n_shared': 1, 'lambda_sparse': 5.6213853229017995e-06, 'patienceScheduler': 5, 'patience': 20, 'epochs': 80}. Best is trial 7 with value: 0.839855508729681.\u001b[0m\n"
     ]
    },
    {
     "name": "stdout",
     "output_type": "stream",
     "text": [
      "\n",
      "Early stopping occurred at epoch 75 with best_epoch = 58 and best_val_0_auc = 0.89099\n"
     ]
    },
    {
     "name": "stderr",
     "output_type": "stream",
     "text": [
      "\u001b[32m[I 2023-05-18 01:37:05,126]\u001b[0m Trial 40 finished with value: 0.8193859121011439 and parameters: {'mask_type': 'entmax', 'n_da': 64, 'n_steps': 2, 'gamma': 1.4, 'n_shared': 1, 'lambda_sparse': 0.00015041366282618287, 'patienceScheduler': 10, 'patience': 17, 'epochs': 98}. Best is trial 7 with value: 0.839855508729681.\u001b[0m\n"
     ]
    },
    {
     "name": "stdout",
     "output_type": "stream",
     "text": [
      "\n",
      "Early stopping occurred at epoch 74 with best_epoch = 49 and best_val_0_auc = 0.89258\n"
     ]
    },
    {
     "name": "stderr",
     "output_type": "stream",
     "text": [
      "\u001b[32m[I 2023-05-18 01:43:23,550]\u001b[0m Trial 41 finished with value: 0.827212522576761 and parameters: {'mask_type': 'sparsemax', 'n_da': 60, 'n_steps': 2, 'gamma': 1.2, 'n_shared': 1, 'lambda_sparse': 1.3067030223568391e-05, 'patienceScheduler': 10, 'patience': 25, 'epochs': 92}. Best is trial 7 with value: 0.839855508729681.\u001b[0m\n"
     ]
    },
    {
     "name": "stdout",
     "output_type": "stream",
     "text": [
      "\n",
      "Early stopping occurred at epoch 62 with best_epoch = 39 and best_val_0_auc = 0.89101\n"
     ]
    },
    {
     "name": "stderr",
     "output_type": "stream",
     "text": [
      "\u001b[32m[I 2023-05-18 01:58:48,257]\u001b[0m Trial 42 finished with value: 0.8217940999397954 and parameters: {'mask_type': 'sparsemax', 'n_da': 64, 'n_steps': 3, 'gamma': 1.2, 'n_shared': 3, 'lambda_sparse': 2.0474434537611383e-05, 'patienceScheduler': 10, 'patience': 23, 'epochs': 91}. Best is trial 7 with value: 0.839855508729681.\u001b[0m\n"
     ]
    },
    {
     "name": "stdout",
     "output_type": "stream",
     "text": [
      "Stop training because you reached max_epochs = 77 with best_epoch = 61 and best_val_0_auc = 0.89077\n"
     ]
    },
    {
     "name": "stderr",
     "output_type": "stream",
     "text": [
      "\u001b[32m[I 2023-05-18 02:08:10,911]\u001b[0m Trial 43 finished with value: 0.8308248043347382 and parameters: {'mask_type': 'sparsemax', 'n_da': 60, 'n_steps': 2, 'gamma': 1.2, 'n_shared': 2, 'lambda_sparse': 1.081431153438746e-05, 'patienceScheduler': 9, 'patience': 28, 'epochs': 77}. Best is trial 7 with value: 0.839855508729681.\u001b[0m\n"
     ]
    },
    {
     "name": "stdout",
     "output_type": "stream",
     "text": [
      "Stop training because you reached max_epochs = 1 with best_epoch = 0 and best_val_0_auc = 0.71806\n"
     ]
    },
    {
     "name": "stderr",
     "output_type": "stream",
     "text": [
      "\u001b[32m[I 2023-05-18 02:08:34,036]\u001b[0m Trial 44 finished with value: 0.5701384708007224 and parameters: {'mask_type': 'sparsemax', 'n_da': 64, 'n_steps': 3, 'gamma': 1.2, 'n_shared': 3, 'lambda_sparse': 7.108959086713618e-06, 'patienceScheduler': 10, 'patience': 25, 'epochs': 1}. Best is trial 7 with value: 0.839855508729681.\u001b[0m\n"
     ]
    },
    {
     "name": "stdout",
     "output_type": "stream",
     "text": [
      "\n",
      "Early stopping occurred at epoch 74 with best_epoch = 53 and best_val_0_auc = 0.89586\n"
     ]
    },
    {
     "name": "stderr",
     "output_type": "stream",
     "text": [
      "\u001b[32m[I 2023-05-18 02:16:28,361]\u001b[0m Trial 45 finished with value: 0.8211920529801324 and parameters: {'mask_type': 'sparsemax', 'n_da': 56, 'n_steps': 2, 'gamma': 1.2, 'n_shared': 2, 'lambda_sparse': 5.370053487664146e-05, 'patienceScheduler': 9, 'patience': 21, 'epochs': 95}. Best is trial 7 with value: 0.839855508729681.\u001b[0m\n"
     ]
    },
    {
     "name": "stdout",
     "output_type": "stream",
     "text": [
      "Stop training because you reached max_epochs = 85 with best_epoch = 74 and best_val_0_auc = 0.89951\n"
     ]
    },
    {
     "name": "stderr",
     "output_type": "stream",
     "text": [
      "\u001b[32m[I 2023-05-18 02:24:56,580]\u001b[0m Trial 46 finished with value: 0.8223961468994582 and parameters: {'mask_type': 'sparsemax', 'n_da': 56, 'n_steps': 3, 'gamma': 1.4, 'n_shared': 1, 'lambda_sparse': 4.1164190789029685e-06, 'patienceScheduler': 7, 'patience': 24, 'epochs': 85}. Best is trial 7 with value: 0.839855508729681.\u001b[0m\n"
     ]
    },
    {
     "name": "stdout",
     "output_type": "stream",
     "text": [
      "Stop training because you reached max_epochs = 65 with best_epoch = 59 and best_val_0_auc = 0.89275\n"
     ]
    },
    {
     "name": "stderr",
     "output_type": "stream",
     "text": [
      "\u001b[32m[I 2023-05-18 02:31:35,270]\u001b[0m Trial 47 finished with value: 0.8332329921733895 and parameters: {'mask_type': 'entmax', 'n_da': 60, 'n_steps': 1, 'gamma': 1.2, 'n_shared': 3, 'lambda_sparse': 2.6385273264418572e-05, 'patienceScheduler': 5, 'patience': 26, 'epochs': 65}. Best is trial 7 with value: 0.839855508729681.\u001b[0m\n"
     ]
    },
    {
     "name": "stdout",
     "output_type": "stream",
     "text": [
      "\n",
      "Early stopping occurred at epoch 98 with best_epoch = 78 and best_val_0_auc = 0.90002\n"
     ]
    },
    {
     "name": "stderr",
     "output_type": "stream",
     "text": [
      "\u001b[32m[I 2023-05-18 02:41:42,412]\u001b[0m Trial 48 finished with value: 0.8362432269717038 and parameters: {'mask_type': 'sparsemax', 'n_da': 64, 'n_steps': 2, 'gamma': 1.2, 'n_shared': 1, 'lambda_sparse': 0.0003006970277373874, 'patienceScheduler': 6, 'patience': 20, 'epochs': 100}. Best is trial 7 with value: 0.839855508729681.\u001b[0m\n"
     ]
    },
    {
     "name": "stdout",
     "output_type": "stream",
     "text": [
      "\n",
      "Early stopping occurred at epoch 89 with best_epoch = 69 and best_val_0_auc = 0.90407\n"
     ]
    },
    {
     "name": "stderr",
     "output_type": "stream",
     "text": [
      "\u001b[32m[I 2023-05-18 02:50:49,139]\u001b[0m Trial 49 finished with value: 0.8344370860927153 and parameters: {'mask_type': 'sparsemax', 'n_da': 64, 'n_steps': 2, 'gamma': 1.2, 'n_shared': 1, 'lambda_sparse': 0.0005732427621909877, 'patienceScheduler': 6, 'patience': 20, 'epochs': 100}. Best is trial 7 with value: 0.839855508729681.\u001b[0m\n"
     ]
    },
    {
     "name": "stdout",
     "output_type": "stream",
     "text": [
      "Stop training because you reached max_epochs = 43 with best_epoch = 42 and best_val_0_auc = 0.90402\n"
     ]
    },
    {
     "name": "stderr",
     "output_type": "stream",
     "text": [
      "\u001b[32m[I 2023-05-18 02:55:12,195]\u001b[0m Trial 50 finished with value: 0.839253461770018 and parameters: {'mask_type': 'sparsemax', 'n_da': 64, 'n_steps': 2, 'gamma': 1.2, 'n_shared': 1, 'lambda_sparse': 0.0002112827813193501, 'patienceScheduler': 6, 'patience': 18, 'epochs': 43}. Best is trial 7 with value: 0.839855508729681.\u001b[0m\n"
     ]
    },
    {
     "name": "stdout",
     "output_type": "stream",
     "text": [
      "Stop training because you reached max_epochs = 37 with best_epoch = 34 and best_val_0_auc = 0.90173\n"
     ]
    },
    {
     "name": "stderr",
     "output_type": "stream",
     "text": [
      "\u001b[32m[I 2023-05-18 02:58:57,890]\u001b[0m Trial 51 finished with value: 0.827212522576761 and parameters: {'mask_type': 'sparsemax', 'n_da': 64, 'n_steps': 2, 'gamma': 1.2, 'n_shared': 1, 'lambda_sparse': 0.0002793320556346793, 'patienceScheduler': 6, 'patience': 18, 'epochs': 37}. Best is trial 7 with value: 0.839855508729681.\u001b[0m\n"
     ]
    },
    {
     "name": "stdout",
     "output_type": "stream",
     "text": [
      "Stop training because you reached max_epochs = 50 with best_epoch = 42 and best_val_0_auc = 0.90091\n"
     ]
    },
    {
     "name": "stderr",
     "output_type": "stream",
     "text": [
      "\u001b[32m[I 2023-05-18 03:04:06,792]\u001b[0m Trial 52 finished with value: 0.8332329921733895 and parameters: {'mask_type': 'sparsemax', 'n_da': 64, 'n_steps': 2, 'gamma': 1.2, 'n_shared': 1, 'lambda_sparse': 0.0005947068316651812, 'patienceScheduler': 6, 'patience': 19, 'epochs': 50}. Best is trial 7 with value: 0.839855508729681.\u001b[0m\n"
     ]
    },
    {
     "name": "stdout",
     "output_type": "stream",
     "text": [
      "Stop training because you reached max_epochs = 32 with best_epoch = 30 and best_val_0_auc = 0.89357\n"
     ]
    },
    {
     "name": "stderr",
     "output_type": "stream",
     "text": [
      "\u001b[32m[I 2023-05-18 03:06:17,461]\u001b[0m Trial 53 finished with value: 0.8049367850692354 and parameters: {'mask_type': 'sparsemax', 'n_da': 64, 'n_steps': 1, 'gamma': 1.2, 'n_shared': 1, 'lambda_sparse': 0.00019916884593972124, 'patienceScheduler': 5, 'patience': 16, 'epochs': 32}. Best is trial 7 with value: 0.839855508729681.\u001b[0m\n"
     ]
    },
    {
     "name": "stdout",
     "output_type": "stream",
     "text": [
      "Stop training because you reached max_epochs = 23 with best_epoch = 21 and best_val_0_auc = 0.86823\n"
     ]
    },
    {
     "name": "stderr",
     "output_type": "stream",
     "text": [
      "\u001b[32m[I 2023-05-18 03:09:03,257]\u001b[0m Trial 54 finished with value: 0.7627934978928357 and parameters: {'mask_type': 'sparsemax', 'n_da': 60, 'n_steps': 2, 'gamma': 1.2, 'n_shared': 2, 'lambda_sparse': 0.00011578120535268093, 'patienceScheduler': 10, 'patience': 16, 'epochs': 23}. Best is trial 7 with value: 0.839855508729681.\u001b[0m\n"
     ]
    },
    {
     "name": "stdout",
     "output_type": "stream",
     "text": [
      "Stop training because you reached max_epochs = 43 with best_epoch = 42 and best_val_0_auc = 0.90343\n"
     ]
    },
    {
     "name": "stderr",
     "output_type": "stream",
     "text": [
      "\u001b[32m[I 2023-05-18 03:16:59,162]\u001b[0m Trial 55 finished with value: 0.827212522576761 and parameters: {'mask_type': 'sparsemax', 'n_da': 64, 'n_steps': 2, 'gamma': 1.2, 'n_shared': 3, 'lambda_sparse': 0.0009757370130105574, 'patienceScheduler': 7, 'patience': 15, 'epochs': 43}. Best is trial 7 with value: 0.839855508729681.\u001b[0m\n"
     ]
    },
    {
     "name": "stdout",
     "output_type": "stream",
     "text": [
      "Stop training because you reached max_epochs = 62 with best_epoch = 46 and best_val_0_auc = 0.88703\n"
     ]
    },
    {
     "name": "stderr",
     "output_type": "stream",
     "text": [
      "\u001b[32m[I 2023-05-18 03:28:54,960]\u001b[0m Trial 56 finished with value: 0.8091511137868754 and parameters: {'mask_type': 'sparsemax', 'n_da': 64, 'n_steps': 3, 'gamma': 1.0, 'n_shared': 2, 'lambda_sparse': 0.000471846123353764, 'patienceScheduler': 5, 'patience': 18, 'epochs': 62}. Best is trial 7 with value: 0.839855508729681.\u001b[0m\n"
     ]
    },
    {
     "name": "stdout",
     "output_type": "stream",
     "text": [
      "Stop training because you reached max_epochs = 46 with best_epoch = 45 and best_val_0_auc = 0.88512\n"
     ]
    },
    {
     "name": "stderr",
     "output_type": "stream",
     "text": [
      "\u001b[32m[I 2023-05-18 03:33:07,364]\u001b[0m Trial 57 finished with value: 0.8181818181818182 and parameters: {'mask_type': 'sparsemax', 'n_da': 56, 'n_steps': 1, 'gamma': 1.2, 'n_shared': 3, 'lambda_sparse': 1.6236641972677158e-06, 'patienceScheduler': 7, 'patience': 22, 'epochs': 46}. Best is trial 7 with value: 0.839855508729681.\u001b[0m\n"
     ]
    },
    {
     "name": "stdout",
     "output_type": "stream",
     "text": [
      "Stop training because you reached max_epochs = 95 with best_epoch = 90 and best_val_0_auc = 0.90146\n"
     ]
    },
    {
     "name": "stderr",
     "output_type": "stream",
     "text": [
      "\u001b[32m[I 2023-05-18 03:42:45,813]\u001b[0m Trial 58 finished with value: 0.8434677904876581 and parameters: {'mask_type': 'entmax', 'n_da': 64, 'n_steps': 2, 'gamma': 1.4, 'n_shared': 1, 'lambda_sparse': 0.00032870342694971995, 'patienceScheduler': 6, 'patience': 17, 'epochs': 95}. Best is trial 58 with value: 0.8434677904876581.\u001b[0m\n"
     ]
    },
    {
     "name": "stdout",
     "output_type": "stream",
     "text": [
      "Stop training because you reached max_epochs = 37 with best_epoch = 36 and best_val_0_auc = 0.89144\n"
     ]
    },
    {
     "name": "stderr",
     "output_type": "stream",
     "text": [
      "\u001b[32m[I 2023-05-18 03:46:34,183]\u001b[0m Trial 59 finished with value: 0.8067429259482239 and parameters: {'mask_type': 'entmax', 'n_da': 64, 'n_steps': 2, 'gamma': 1.4, 'n_shared': 1, 'lambda_sparse': 0.00039944933511236095, 'patienceScheduler': 4, 'patience': 17, 'epochs': 37}. Best is trial 58 with value: 0.8434677904876581.\u001b[0m\n"
     ]
    },
    {
     "name": "stdout",
     "output_type": "stream",
     "text": [
      "Stop training because you reached max_epochs = 67 with best_epoch = 65 and best_val_0_auc = 0.90015\n"
     ]
    },
    {
     "name": "stderr",
     "output_type": "stream",
     "text": [
      "\u001b[32m[I 2023-05-18 03:53:22,900]\u001b[0m Trial 60 finished with value: 0.8332329921733895 and parameters: {'mask_type': 'entmax', 'n_da': 64, 'n_steps': 2, 'gamma': 1.4, 'n_shared': 1, 'lambda_sparse': 0.0006061109869213811, 'patienceScheduler': 5, 'patience': 18, 'epochs': 67}. Best is trial 58 with value: 0.8434677904876581.\u001b[0m\n"
     ]
    },
    {
     "name": "stdout",
     "output_type": "stream",
     "text": [
      "Stop training because you reached max_epochs = 94 with best_epoch = 92 and best_val_0_auc = 0.90709\n"
     ]
    },
    {
     "name": "stderr",
     "output_type": "stream",
     "text": [
      "\u001b[32m[I 2023-05-18 04:02:55,942]\u001b[0m Trial 61 finished with value: 0.8374473208910295 and parameters: {'mask_type': 'entmax', 'n_da': 64, 'n_steps': 2, 'gamma': 1.4, 'n_shared': 1, 'lambda_sparse': 0.0001785412228560418, 'patienceScheduler': 6, 'patience': 19, 'epochs': 94}. Best is trial 58 with value: 0.8434677904876581.\u001b[0m\n"
     ]
    },
    {
     "name": "stdout",
     "output_type": "stream",
     "text": [
      "Stop training because you reached max_epochs = 95 with best_epoch = 90 and best_val_0_auc = 0.90399\n"
     ]
    },
    {
     "name": "stderr",
     "output_type": "stream",
     "text": [
      "\u001b[32m[I 2023-05-18 04:12:49,450]\u001b[0m Trial 62 finished with value: 0.8356411800120409 and parameters: {'mask_type': 'entmax', 'n_da': 64, 'n_steps': 2, 'gamma': 1.4, 'n_shared': 1, 'lambda_sparse': 0.0001502328732307693, 'patienceScheduler': 6, 'patience': 19, 'epochs': 95}. Best is trial 58 with value: 0.8434677904876581.\u001b[0m\n"
     ]
    },
    {
     "name": "stdout",
     "output_type": "stream",
     "text": [
      "Stop training because you reached max_epochs = 89 with best_epoch = 86 and best_val_0_auc = 0.90649\n"
     ]
    },
    {
     "name": "stderr",
     "output_type": "stream",
     "text": [
      "\u001b[32m[I 2023-05-18 04:21:48,675]\u001b[0m Trial 63 finished with value: 0.8410596026490066 and parameters: {'mask_type': 'entmax', 'n_da': 64, 'n_steps': 2, 'gamma': 1.4, 'n_shared': 1, 'lambda_sparse': 0.00025843507948259564, 'patienceScheduler': 6, 'patience': 17, 'epochs': 89}. Best is trial 58 with value: 0.8434677904876581.\u001b[0m\n"
     ]
    },
    {
     "name": "stdout",
     "output_type": "stream",
     "text": [
      "Stop training because you reached max_epochs = 83 with best_epoch = 79 and best_val_0_auc = 0.90161\n"
     ]
    },
    {
     "name": "stderr",
     "output_type": "stream",
     "text": [
      "\u001b[32m[I 2023-05-18 04:30:14,111]\u001b[0m Trial 64 finished with value: 0.831426851294401 and parameters: {'mask_type': 'entmax', 'n_da': 64, 'n_steps': 2, 'gamma': 1.4, 'n_shared': 1, 'lambda_sparse': 0.00027619622439366775, 'patienceScheduler': 7, 'patience': 16, 'epochs': 83}. Best is trial 58 with value: 0.8434677904876581.\u001b[0m\n"
     ]
    },
    {
     "name": "stdout",
     "output_type": "stream",
     "text": [
      "Stop training because you reached max_epochs = 76 with best_epoch = 63 and best_val_0_auc = 0.90265\n"
     ]
    },
    {
     "name": "stderr",
     "output_type": "stream",
     "text": [
      "\u001b[32m[I 2023-05-18 04:37:57,059]\u001b[0m Trial 65 finished with value: 0.8284166164960867 and parameters: {'mask_type': 'entmax', 'n_da': 64, 'n_steps': 2, 'gamma': 1.4, 'n_shared': 1, 'lambda_sparse': 8.770386097364336e-05, 'patienceScheduler': 5, 'patience': 17, 'epochs': 76}. Best is trial 58 with value: 0.8434677904876581.\u001b[0m\n"
     ]
    },
    {
     "name": "stdout",
     "output_type": "stream",
     "text": [
      "Stop training because you reached max_epochs = 88 with best_epoch = 86 and best_val_0_auc = 0.90505\n"
     ]
    },
    {
     "name": "stderr",
     "output_type": "stream",
     "text": [
      "\u001b[32m[I 2023-05-18 04:46:53,467]\u001b[0m Trial 66 finished with value: 0.8374473208910295 and parameters: {'mask_type': 'entmax', 'n_da': 64, 'n_steps': 2, 'gamma': 1.4, 'n_shared': 1, 'lambda_sparse': 0.000657715382109663, 'patienceScheduler': 6, 'patience': 15, 'epochs': 88}. Best is trial 58 with value: 0.8434677904876581.\u001b[0m\n"
     ]
    },
    {
     "name": "stdout",
     "output_type": "stream",
     "text": [
      "Stop training because you reached max_epochs = 79 with best_epoch = 77 and best_val_0_auc = 0.9015\n"
     ]
    },
    {
     "name": "stderr",
     "output_type": "stream",
     "text": [
      "\u001b[32m[I 2023-05-18 04:52:21,561]\u001b[0m Trial 67 finished with value: 0.8308248043347382 and parameters: {'mask_type': 'entmax', 'n_da': 64, 'n_steps': 1, 'gamma': 1.4, 'n_shared': 1, 'lambda_sparse': 0.0007510543491825323, 'patienceScheduler': 6, 'patience': 16, 'epochs': 79}. Best is trial 58 with value: 0.8434677904876581.\u001b[0m\n"
     ]
    },
    {
     "name": "stdout",
     "output_type": "stream",
     "text": [
      "Stop training because you reached max_epochs = 54 with best_epoch = 51 and best_val_0_auc = 0.90055\n"
     ]
    },
    {
     "name": "stderr",
     "output_type": "stream",
     "text": [
      "\u001b[32m[I 2023-05-18 04:57:52,603]\u001b[0m Trial 68 finished with value: 0.831426851294401 and parameters: {'mask_type': 'entmax', 'n_da': 64, 'n_steps': 2, 'gamma': 1.4, 'n_shared': 1, 'lambda_sparse': 0.0003539295286854498, 'patienceScheduler': 3, 'patience': 17, 'epochs': 54}. Best is trial 58 with value: 0.8434677904876581.\u001b[0m\n"
     ]
    },
    {
     "name": "stdout",
     "output_type": "stream",
     "text": [
      "Stop training because you reached max_epochs = 29 with best_epoch = 10 and best_val_0_auc = 0.8778\n"
     ]
    },
    {
     "name": "stderr",
     "output_type": "stream",
     "text": [
      "\u001b[32m[I 2023-05-18 05:03:19,149]\u001b[0m Trial 69 finished with value: 0.7543648404575557 and parameters: {'mask_type': 'entmax', 'n_da': 64, 'n_steps': 2, 'gamma': 1.4, 'n_shared': 3, 'lambda_sparse': 4.5491603662057904e-05, 'patienceScheduler': 8, 'patience': 21, 'epochs': 29}. Best is trial 58 with value: 0.8434677904876581.\u001b[0m\n"
     ]
    },
    {
     "name": "stdout",
     "output_type": "stream",
     "text": [
      "\n",
      "Early stopping occurred at epoch 78 with best_epoch = 60 and best_val_0_auc = 0.8978\n"
     ]
    },
    {
     "name": "stderr",
     "output_type": "stream",
     "text": [
      "\u001b[32m[I 2023-05-18 05:08:40,711]\u001b[0m Trial 70 finished with value: 0.8254063816977725 and parameters: {'mask_type': 'entmax', 'n_da': 64, 'n_steps': 1, 'gamma': 1.4, 'n_shared': 1, 'lambda_sparse': 1.313033698940677e-06, 'patienceScheduler': 7, 'patience': 18, 'epochs': 89}. Best is trial 58 with value: 0.8434677904876581.\u001b[0m\n"
     ]
    },
    {
     "name": "stdout",
     "output_type": "stream",
     "text": [
      "Stop training because you reached max_epochs = 89 with best_epoch = 80 and best_val_0_auc = 0.90349\n"
     ]
    },
    {
     "name": "stderr",
     "output_type": "stream",
     "text": [
      "\u001b[32m[I 2023-05-18 05:17:40,326]\u001b[0m Trial 71 finished with value: 0.839855508729681 and parameters: {'mask_type': 'entmax', 'n_da': 64, 'n_steps': 2, 'gamma': 1.4, 'n_shared': 1, 'lambda_sparse': 0.0007326568515701654, 'patienceScheduler': 6, 'patience': 15, 'epochs': 89}. Best is trial 58 with value: 0.8434677904876581.\u001b[0m\n"
     ]
    },
    {
     "name": "stdout",
     "output_type": "stream",
     "text": [
      "Stop training because you reached max_epochs = 89 with best_epoch = 86 and best_val_0_auc = 0.9048\n"
     ]
    },
    {
     "name": "stderr",
     "output_type": "stream",
     "text": [
      "\u001b[32m[I 2023-05-18 05:26:42,152]\u001b[0m Trial 72 finished with value: 0.839253461770018 and parameters: {'mask_type': 'entmax', 'n_da': 64, 'n_steps': 2, 'gamma': 1.4, 'n_shared': 1, 'lambda_sparse': 0.00046854410660139426, 'patienceScheduler': 6, 'patience': 15, 'epochs': 89}. Best is trial 58 with value: 0.8434677904876581.\u001b[0m\n"
     ]
    },
    {
     "name": "stdout",
     "output_type": "stream",
     "text": [
      "Stop training because you reached max_epochs = 84 with best_epoch = 81 and best_val_0_auc = 0.90499\n"
     ]
    },
    {
     "name": "stderr",
     "output_type": "stream",
     "text": [
      "\u001b[32m[I 2023-05-18 05:35:13,157]\u001b[0m Trial 73 finished with value: 0.8338350391330523 and parameters: {'mask_type': 'entmax', 'n_da': 64, 'n_steps': 2, 'gamma': 1.4, 'n_shared': 1, 'lambda_sparse': 0.00022097845085631648, 'patienceScheduler': 6, 'patience': 15, 'epochs': 84}. Best is trial 58 with value: 0.8434677904876581.\u001b[0m\n"
     ]
    },
    {
     "name": "stdout",
     "output_type": "stream",
     "text": [
      "Stop training because you reached max_epochs = 74 with best_epoch = 70 and best_val_0_auc = 0.90432\n"
     ]
    },
    {
     "name": "stderr",
     "output_type": "stream",
     "text": [
      "\u001b[32m[I 2023-05-18 05:42:43,101]\u001b[0m Trial 74 finished with value: 0.8422636965683323 and parameters: {'mask_type': 'entmax', 'n_da': 64, 'n_steps': 2, 'gamma': 1.4, 'n_shared': 1, 'lambda_sparse': 0.00046498609210638965, 'patienceScheduler': 6, 'patience': 16, 'epochs': 74}. Best is trial 58 with value: 0.8434677904876581.\u001b[0m\n"
     ]
    },
    {
     "name": "stdout",
     "output_type": "stream",
     "text": [
      "Stop training because you reached max_epochs = 87 with best_epoch = 80 and best_val_0_auc = 0.90353\n"
     ]
    },
    {
     "name": "stderr",
     "output_type": "stream",
     "text": [
      "\u001b[32m[I 2023-05-18 05:51:31,639]\u001b[0m Trial 75 finished with value: 0.8344370860927153 and parameters: {'mask_type': 'entmax', 'n_da': 64, 'n_steps': 2, 'gamma': 1.4, 'n_shared': 1, 'lambda_sparse': 0.00048790107665806255, 'patienceScheduler': 6, 'patience': 16, 'epochs': 87}. Best is trial 58 with value: 0.8434677904876581.\u001b[0m\n"
     ]
    },
    {
     "name": "stdout",
     "output_type": "stream",
     "text": [
      "Stop training because you reached max_epochs = 73 with best_epoch = 64 and best_val_0_auc = 0.90254\n"
     ]
    },
    {
     "name": "stderr",
     "output_type": "stream",
     "text": [
      "\u001b[32m[I 2023-05-18 06:05:26,354]\u001b[0m Trial 76 finished with value: 0.8284166164960867 and parameters: {'mask_type': 'entmax', 'n_da': 64, 'n_steps': 2, 'gamma': 1.4, 'n_shared': 3, 'lambda_sparse': 0.0008621194455119526, 'patienceScheduler': 5, 'patience': 15, 'epochs': 73}. Best is trial 58 with value: 0.8434677904876581.\u001b[0m\n"
     ]
    },
    {
     "name": "stdout",
     "output_type": "stream",
     "text": [
      "Stop training because you reached max_epochs = 70 with best_epoch = 69 and best_val_0_auc = 0.90081\n"
     ]
    },
    {
     "name": "stderr",
     "output_type": "stream",
     "text": [
      "\u001b[32m[I 2023-05-18 06:12:24,338]\u001b[0m Trial 77 finished with value: 0.8344370860927153 and parameters: {'mask_type': 'entmax', 'n_da': 64, 'n_steps': 2, 'gamma': 1.4, 'n_shared': 1, 'lambda_sparse': 0.000359745973180513, 'patienceScheduler': 6, 'patience': 15, 'epochs': 70}. Best is trial 58 with value: 0.8434677904876581.\u001b[0m\n"
     ]
    },
    {
     "name": "stdout",
     "output_type": "stream",
     "text": [
      "\n",
      "Early stopping occurred at epoch 68 with best_epoch = 52 and best_val_0_auc = 0.89116\n"
     ]
    },
    {
     "name": "stderr",
     "output_type": "stream",
     "text": [
      "\u001b[32m[I 2023-05-18 06:17:23,848]\u001b[0m Trial 78 finished with value: 0.8181818181818182 and parameters: {'mask_type': 'entmax', 'n_da': 56, 'n_steps': 2, 'gamma': 1.4, 'n_shared': 1, 'lambda_sparse': 0.0004999655767414506, 'patienceScheduler': 7, 'patience': 16, 'epochs': 82}. Best is trial 58 with value: 0.8434677904876581.\u001b[0m\n"
     ]
    },
    {
     "name": "stdout",
     "output_type": "stream",
     "text": [
      "Stop training because you reached max_epochs = 93 with best_epoch = 90 and best_val_0_auc = 0.90684\n"
     ]
    },
    {
     "name": "stderr",
     "output_type": "stream",
     "text": [
      "\u001b[32m[I 2023-05-18 06:26:18,672]\u001b[0m Trial 79 finished with value: 0.8410596026490066 and parameters: {'mask_type': 'entmax', 'n_da': 64, 'n_steps': 2, 'gamma': 1.4, 'n_shared': 1, 'lambda_sparse': 0.0007430191872442948, 'patienceScheduler': 5, 'patience': 17, 'epochs': 93}. Best is trial 58 with value: 0.8434677904876581.\u001b[0m\n"
     ]
    },
    {
     "name": "stdout",
     "output_type": "stream",
     "text": [
      "Stop training because you reached max_epochs = 58 with best_epoch = 56 and best_val_0_auc = 0.90522\n"
     ]
    },
    {
     "name": "stderr",
     "output_type": "stream",
     "text": [
      "\u001b[32m[I 2023-05-18 06:36:30,389]\u001b[0m Trial 80 finished with value: 0.831426851294401 and parameters: {'mask_type': 'entmax', 'n_da': 64, 'n_steps': 2, 'gamma': 1.4, 'n_shared': 3, 'lambda_sparse': 0.0007566528974756693, 'patienceScheduler': 4, 'patience': 17, 'epochs': 58}. Best is trial 58 with value: 0.8434677904876581.\u001b[0m\n"
     ]
    },
    {
     "name": "stdout",
     "output_type": "stream",
     "text": [
      "Stop training because you reached max_epochs = 92 with best_epoch = 90 and best_val_0_auc = 0.9029\n"
     ]
    },
    {
     "name": "stderr",
     "output_type": "stream",
     "text": [
      "\u001b[32m[I 2023-05-18 06:45:45,195]\u001b[0m Trial 81 finished with value: 0.8344370860927153 and parameters: {'mask_type': 'entmax', 'n_da': 64, 'n_steps': 2, 'gamma': 1.4, 'n_shared': 1, 'lambda_sparse': 0.0009560463936019423, 'patienceScheduler': 5, 'patience': 18, 'epochs': 92}. Best is trial 58 with value: 0.8434677904876581.\u001b[0m\n"
     ]
    },
    {
     "name": "stdout",
     "output_type": "stream",
     "text": [
      "Stop training because you reached max_epochs = 93 with best_epoch = 90 and best_val_0_auc = 0.90599\n"
     ]
    },
    {
     "name": "stderr",
     "output_type": "stream",
     "text": [
      "\u001b[32m[I 2023-05-18 06:55:13,052]\u001b[0m Trial 82 finished with value: 0.8332329921733895 and parameters: {'mask_type': 'entmax', 'n_da': 64, 'n_steps': 2, 'gamma': 1.4, 'n_shared': 1, 'lambda_sparse': 0.00041380554452333316, 'patienceScheduler': 6, 'patience': 17, 'epochs': 93}. Best is trial 58 with value: 0.8434677904876581.\u001b[0m\n"
     ]
    },
    {
     "name": "stdout",
     "output_type": "stream",
     "text": [
      "Stop training because you reached max_epochs = 75 with best_epoch = 74 and best_val_0_auc = 0.90829\n"
     ]
    },
    {
     "name": "stderr",
     "output_type": "stream",
     "text": [
      "\u001b[32m[I 2023-05-18 07:02:50,646]\u001b[0m Trial 83 finished with value: 0.8380493678506924 and parameters: {'mask_type': 'entmax', 'n_da': 64, 'n_steps': 2, 'gamma': 1.4, 'n_shared': 1, 'lambda_sparse': 0.0002571505774955301, 'patienceScheduler': 5, 'patience': 16, 'epochs': 75}. Best is trial 58 with value: 0.8434677904876581.\u001b[0m\n"
     ]
    },
    {
     "name": "stdout",
     "output_type": "stream",
     "text": [
      "Stop training because you reached max_epochs = 98 with best_epoch = 90 and best_val_0_auc = 0.9041\n"
     ]
    },
    {
     "name": "stderr",
     "output_type": "stream",
     "text": [
      "\u001b[32m[I 2023-05-18 07:12:25,883]\u001b[0m Trial 84 finished with value: 0.8446718844069837 and parameters: {'mask_type': 'entmax', 'n_da': 64, 'n_steps': 2, 'gamma': 1.4, 'n_shared': 1, 'lambda_sparse': 0.00031036823420268035, 'patienceScheduler': 5, 'patience': 17, 'epochs': 98}. Best is trial 84 with value: 0.8446718844069837.\u001b[0m\n"
     ]
    },
    {
     "name": "stdout",
     "output_type": "stream",
     "text": [
      "Stop training because you reached max_epochs = 98 with best_epoch = 90 and best_val_0_auc = 0.90573\n"
     ]
    },
    {
     "name": "stderr",
     "output_type": "stream",
     "text": [
      "\u001b[32m[I 2023-05-18 07:21:50,445]\u001b[0m Trial 85 finished with value: 0.8452739313666466 and parameters: {'mask_type': 'entmax', 'n_da': 64, 'n_steps': 2, 'gamma': 1.4, 'n_shared': 1, 'lambda_sparse': 0.0006993121698622598, 'patienceScheduler': 5, 'patience': 16, 'epochs': 98}. Best is trial 85 with value: 0.8452739313666466.\u001b[0m\n"
     ]
    },
    {
     "name": "stdout",
     "output_type": "stream",
     "text": [
      "Stop training because you reached max_epochs = 99 with best_epoch = 90 and best_val_0_auc = 0.90526\n"
     ]
    },
    {
     "name": "stderr",
     "output_type": "stream",
     "text": [
      "\u001b[32m[I 2023-05-18 07:31:29,289]\u001b[0m Trial 86 finished with value: 0.8362432269717038 and parameters: {'mask_type': 'entmax', 'n_da': 64, 'n_steps': 2, 'gamma': 1.4, 'n_shared': 1, 'lambda_sparse': 0.0007062119906386374, 'patienceScheduler': 4, 'patience': 17, 'epochs': 99}. Best is trial 85 with value: 0.8452739313666466.\u001b[0m\n"
     ]
    },
    {
     "name": "stdout",
     "output_type": "stream",
     "text": [
      "Stop training because you reached max_epochs = 97 with best_epoch = 90 and best_val_0_auc = 0.90249\n"
     ]
    },
    {
     "name": "stderr",
     "output_type": "stream",
     "text": [
      "\u001b[32m[I 2023-05-18 07:40:46,137]\u001b[0m Trial 87 finished with value: 0.8350391330523781 and parameters: {'mask_type': 'entmax', 'n_da': 64, 'n_steps': 2, 'gamma': 1.4, 'n_shared': 1, 'lambda_sparse': 0.0003375902342718871, 'patienceScheduler': 5, 'patience': 16, 'epochs': 97}. Best is trial 85 with value: 0.8452739313666466.\u001b[0m\n"
     ]
    },
    {
     "name": "stdout",
     "output_type": "stream",
     "text": [
      "Stop training because you reached max_epochs = 97 with best_epoch = 90 and best_val_0_auc = 0.89987\n"
     ]
    },
    {
     "name": "stderr",
     "output_type": "stream",
     "text": [
      "\u001b[32m[I 2023-05-18 07:50:03,866]\u001b[0m Trial 88 finished with value: 0.8350391330523781 and parameters: {'mask_type': 'entmax', 'n_da': 64, 'n_steps': 2, 'gamma': 1.4, 'n_shared': 1, 'lambda_sparse': 0.0005155834839762382, 'patienceScheduler': 5, 'patience': 17, 'epochs': 97}. Best is trial 85 with value: 0.8452739313666466.\u001b[0m\n"
     ]
    },
    {
     "name": "stdout",
     "output_type": "stream",
     "text": [
      "Stop training because you reached max_epochs = 96 with best_epoch = 91 and best_val_0_auc = 0.90489\n"
     ]
    },
    {
     "name": "stderr",
     "output_type": "stream",
     "text": [
      "\u001b[32m[I 2023-05-18 07:59:27,522]\u001b[0m Trial 89 finished with value: 0.8332329921733895 and parameters: {'mask_type': 'entmax', 'n_da': 64, 'n_steps': 2, 'gamma': 1.4, 'n_shared': 1, 'lambda_sparse': 0.0008275081290921996, 'patienceScheduler': 4, 'patience': 16, 'epochs': 96}. Best is trial 85 with value: 0.8452739313666466.\u001b[0m\n"
     ]
    },
    {
     "name": "stdout",
     "output_type": "stream",
     "text": [
      "Stop training because you reached max_epochs = 87 with best_epoch = 77 and best_val_0_auc = 0.9011\n"
     ]
    },
    {
     "name": "stderr",
     "output_type": "stream",
     "text": [
      "\u001b[32m[I 2023-05-18 08:08:20,434]\u001b[0m Trial 90 finished with value: 0.8350391330523781 and parameters: {'mask_type': 'entmax', 'n_da': 64, 'n_steps': 2, 'gamma': 1.4, 'n_shared': 1, 'lambda_sparse': 0.0005833916308019561, 'patienceScheduler': 5, 'patience': 15, 'epochs': 87}. Best is trial 85 with value: 0.8452739313666466.\u001b[0m\n"
     ]
    },
    {
     "name": "stdout",
     "output_type": "stream",
     "text": [
      "Stop training because you reached max_epochs = 79 with best_epoch = 78 and best_val_0_auc = 0.90653\n"
     ]
    },
    {
     "name": "stderr",
     "output_type": "stream",
     "text": [
      "\u001b[32m[I 2023-05-18 08:16:28,238]\u001b[0m Trial 91 finished with value: 0.839855508729681 and parameters: {'mask_type': 'entmax', 'n_da': 64, 'n_steps': 2, 'gamma': 1.4, 'n_shared': 1, 'lambda_sparse': 0.00041002778284105314, 'patienceScheduler': 5, 'patience': 16, 'epochs': 79}. Best is trial 85 with value: 0.8452739313666466.\u001b[0m\n"
     ]
    },
    {
     "name": "stdout",
     "output_type": "stream",
     "text": [
      "Stop training because you reached max_epochs = 80 with best_epoch = 78 and best_val_0_auc = 0.90719\n"
     ]
    },
    {
     "name": "stderr",
     "output_type": "stream",
     "text": [
      "\u001b[32m[I 2023-05-18 08:24:30,644]\u001b[0m Trial 92 finished with value: 0.839855508729681 and parameters: {'mask_type': 'entmax', 'n_da': 64, 'n_steps': 2, 'gamma': 1.4, 'n_shared': 1, 'lambda_sparse': 0.0004098679698466055, 'patienceScheduler': 5, 'patience': 17, 'epochs': 80}. Best is trial 85 with value: 0.8452739313666466.\u001b[0m\n"
     ]
    },
    {
     "name": "stdout",
     "output_type": "stream",
     "text": [
      "Stop training because you reached max_epochs = 81 with best_epoch = 80 and best_val_0_auc = 0.90836\n"
     ]
    },
    {
     "name": "stderr",
     "output_type": "stream",
     "text": [
      "\u001b[32m[I 2023-05-18 08:32:17,421]\u001b[0m Trial 93 finished with value: 0.8416616496086695 and parameters: {'mask_type': 'entmax', 'n_da': 64, 'n_steps': 2, 'gamma': 1.4, 'n_shared': 1, 'lambda_sparse': 0.0003230123757076891, 'patienceScheduler': 5, 'patience': 17, 'epochs': 81}. Best is trial 85 with value: 0.8452739313666466.\u001b[0m\n"
     ]
    },
    {
     "name": "stdout",
     "output_type": "stream",
     "text": [
      "Stop training because you reached max_epochs = 91 with best_epoch = 90 and best_val_0_auc = 0.90649\n"
     ]
    },
    {
     "name": "stderr",
     "output_type": "stream",
     "text": [
      "\u001b[32m[I 2023-05-18 08:40:59,421]\u001b[0m Trial 94 finished with value: 0.8470800722456352 and parameters: {'mask_type': 'entmax', 'n_da': 64, 'n_steps': 2, 'gamma': 1.4, 'n_shared': 1, 'lambda_sparse': 0.00031950274925103057, 'patienceScheduler': 5, 'patience': 18, 'epochs': 91}. Best is trial 94 with value: 0.8470800722456352.\u001b[0m\n"
     ]
    },
    {
     "name": "stdout",
     "output_type": "stream",
     "text": [
      "Stop training because you reached max_epochs = 85 with best_epoch = 77 and best_val_0_auc = 0.90404\n"
     ]
    },
    {
     "name": "stderr",
     "output_type": "stream",
     "text": [
      "\u001b[32m[I 2023-05-18 08:49:07,134]\u001b[0m Trial 95 finished with value: 0.8338350391330523 and parameters: {'mask_type': 'entmax', 'n_da': 64, 'n_steps': 2, 'gamma': 1.4, 'n_shared': 1, 'lambda_sparse': 0.0003147809481636905, 'patienceScheduler': 5, 'patience': 18, 'epochs': 85}. Best is trial 94 with value: 0.8470800722456352.\u001b[0m\n"
     ]
    },
    {
     "name": "stdout",
     "output_type": "stream",
     "text": [
      "Stop training because you reached max_epochs = 80 with best_epoch = 78 and best_val_0_auc = 0.90668\n"
     ]
    },
    {
     "name": "stderr",
     "output_type": "stream",
     "text": [
      "\u001b[32m[I 2023-05-18 08:56:58,728]\u001b[0m Trial 96 finished with value: 0.8374473208910295 and parameters: {'mask_type': 'entmax', 'n_da': 64, 'n_steps': 2, 'gamma': 1.4, 'n_shared': 1, 'lambda_sparse': 0.0004088741962488447, 'patienceScheduler': 4, 'patience': 17, 'epochs': 80}. Best is trial 94 with value: 0.8470800722456352.\u001b[0m\n"
     ]
    },
    {
     "name": "stdout",
     "output_type": "stream",
     "text": [
      "Stop training because you reached max_epochs = 91 with best_epoch = 90 and best_val_0_auc = 0.90335\n"
     ]
    },
    {
     "name": "stderr",
     "output_type": "stream",
     "text": [
      "\u001b[32m[I 2023-05-18 09:06:19,432]\u001b[0m Trial 97 finished with value: 0.8338350391330523 and parameters: {'mask_type': 'entmax', 'n_da': 64, 'n_steps': 2, 'gamma': 1.4, 'n_shared': 1, 'lambda_sparse': 0.00025026050204775236, 'patienceScheduler': 5, 'patience': 19, 'epochs': 91}. Best is trial 94 with value: 0.8470800722456352.\u001b[0m\n"
     ]
    },
    {
     "name": "stdout",
     "output_type": "stream",
     "text": [
      "Stop training because you reached max_epochs = 95 with best_epoch = 90 and best_val_0_auc = 0.9088\n"
     ]
    },
    {
     "name": "stderr",
     "output_type": "stream",
     "text": [
      "\u001b[32m[I 2023-05-18 09:15:42,715]\u001b[0m Trial 98 finished with value: 0.8434677904876581 and parameters: {'mask_type': 'entmax', 'n_da': 64, 'n_steps': 2, 'gamma': 1.4, 'n_shared': 1, 'lambda_sparse': 0.00016378637147835168, 'patienceScheduler': 5, 'patience': 17, 'epochs': 95}. Best is trial 94 with value: 0.8470800722456352.\u001b[0m\n"
     ]
    },
    {
     "name": "stdout",
     "output_type": "stream",
     "text": [
      "Stop training because you reached max_epochs = 94 with best_epoch = 90 and best_val_0_auc = 0.90303\n"
     ]
    },
    {
     "name": "stderr",
     "output_type": "stream",
     "text": [
      "\u001b[32m[I 2023-05-18 09:24:55,727]\u001b[0m Trial 99 finished with value: 0.839855508729681 and parameters: {'mask_type': 'entmax', 'n_da': 64, 'n_steps': 2, 'gamma': 1.4, 'n_shared': 1, 'lambda_sparse': 0.0001334072609946471, 'patienceScheduler': 5, 'patience': 17, 'epochs': 94}. Best is trial 94 with value: 0.8470800722456352.\u001b[0m\n"
     ]
    }
   ],
   "source": [
    "tabnetclf_study = optuna.create_study(direction=\"maximize\", study_name='TabNet Classifier optimization')\n",
    "tabnetclf_study.optimize(tabnetclf_optimize, n_trials=100)"
   ]
  },
  {
   "cell_type": "code",
   "execution_count": 56,
   "id": "d8789684",
   "metadata": {},
   "outputs": [
    {
     "name": "stdout",
     "output_type": "stream",
     "text": [
      "{'mask_type': 'entmax', 'n_da': 64, 'n_steps': 2, 'gamma': 1.4, 'n_shared': 1, 'lambda_sparse': 0.00031950274925103057, 'patienceScheduler': 5, 'patience': 18, 'epochs': 91}\n"
     ]
    }
   ],
   "source": [
    "TabNet_params = tabnetclf_study.best_params\n",
    "print(TabNet_params)"
   ]
  },
  {
   "cell_type": "code",
   "execution_count": 58,
   "id": "b901ce7f",
   "metadata": {},
   "outputs": [],
   "source": [
    "final_TabNet_params = dict(n_d=TabNet_params['n_da'], n_a=TabNet_params['n_da'], n_steps=TabNet_params['n_steps'], gamma=TabNet_params['gamma'],\n",
    "                     lambda_sparse=TabNet_params['lambda_sparse'], optimizer_fn=torch.optim.Adam,\n",
    "                     optimizer_params=dict(lr=2e-2, weight_decay=1e-5),\n",
    "                     mask_type=TabNet_params['mask_type'], n_shared=TabNet_params['n_shared'],\n",
    "                     scheduler_params=dict(mode=\"min\",\n",
    "                                           patience=TabNet_params['patienceScheduler'],\n",
    "                                           min_lr=1e-5,\n",
    "                                           factor=0.5,),\n",
    "                     scheduler_fn=torch.optim.lr_scheduler.ReduceLROnPlateau,\n",
    "                     verbose=0,\n",
    "                     )\n",
    "epochs = TabNet_params['epochs']"
   ]
  },
  {
   "cell_type": "code",
   "execution_count": 63,
   "id": "38e2b52e",
   "metadata": {},
   "outputs": [
    {
     "name": "stderr",
     "output_type": "stream",
     "text": [
      "[Parallel(n_jobs=1)]: Using backend SequentialBackend with 1 concurrent workers.\n"
     ]
    },
    {
     "name": "stdout",
     "output_type": "stream",
     "text": [
      "[0.84115523 0.80722892 0.83493976 0.82650602 0.8626506  0.82650602\n",
      " 0.83253012 0.8313253  0.82048193 0.80722892]\n",
      "0.83 accuracy with a standard deviation of 0.02\n"
     ]
    },
    {
     "name": "stderr",
     "output_type": "stream",
     "text": [
      "[Parallel(n_jobs=1)]: Done  10 out of  10 | elapsed: 98.2min finished\n"
     ]
    }
   ],
   "source": [
    "TabNetclf_model = TabNetClassifier(**final_TabNet_params)\n",
    "kfold_val = KFold(10, shuffle=True, random_state=42)\n",
    "cv_score = cross_val_score(TabNetclf_model, X_train_np, y_train_np, cv=kfold_val, verbose=1, scoring='accuracy')\n",
    "print(cv_score)\n",
    "print(\"%0.2f accuracy with a standard deviation of %0.2f\" % (cv_score.mean(), cv_score.std()))"
   ]
  },
  {
   "cell_type": "code",
   "execution_count": 65,
   "id": "d791f0b1",
   "metadata": {},
   "outputs": [
    {
     "name": "stdout",
     "output_type": "stream",
     "text": [
      "Time consumed for training: 614.2607609000042 seconds\n",
      "Time consumed for prediction: 0.44257459999789717 seconds\n"
     ]
    }
   ],
   "source": [
    "import time\n",
    "TabNet_clf = TabNetClassifier(**final_TabNet_params)\n",
    "clf_train_start = time.perf_counter()\n",
    "TabNet_clf.fit(X_train_np, y_train_np, patience=TabNet_params['patience'], max_epochs=epochs)\n",
    "clf_train_end = time.perf_counter()\n",
    "\n",
    "clf_pred_start = time.perf_counter()\n",
    "clf_preds = TabNet_clf.predict(X_test_np)\n",
    "clf_pred_end = time.perf_counter()\n",
    "\n",
    "clf_train_time = clf_train_end-clf_train_start\n",
    "clf_pred_time = clf_pred_end-clf_pred_start\n",
    "\n",
    "print(\"Time consumed for training:\" ,clf_train_time, \"seconds\")\n",
    "print(\"Time consumed for prediction:\" ,clf_pred_time, \"seconds\")"
   ]
  },
  {
   "cell_type": "code",
   "execution_count": 66,
   "id": "32d2183e",
   "metadata": {},
   "outputs": [
    {
     "name": "stdout",
     "output_type": "stream",
     "text": [
      "              precision    recall  f1-score   support\n",
      "\n",
      "           0       0.83      0.80      0.82      1035\n",
      "           1       0.50      0.55      0.52       374\n",
      "\n",
      "    accuracy                           0.73      1409\n",
      "   macro avg       0.67      0.67      0.67      1409\n",
      "weighted avg       0.74      0.73      0.74      1409\n",
      "\n"
     ]
    }
   ],
   "source": [
    "print(classification_report(y_test_np, clf_preds))"
   ]
  },
  {
   "cell_type": "code",
   "execution_count": 101,
   "id": "9788c44a",
   "metadata": {},
   "outputs": [
    {
     "name": "stdout",
     "output_type": "stream",
     "text": [
      "Time consumed for training: 644.360654899996 seconds\n",
      "Time consumed for prediction: 0.48848739999812096 seconds\n"
     ]
    }
   ],
   "source": [
    "TabNet_clf = TabNetClassifier(**final_TabNet_params)\n",
    "clf_train_start = time.perf_counter()\n",
    "TabNet_clf.fit(X_train_np, y_train_np, patience=TabNet_params['patience'], max_epochs=epochs)\n",
    "clf_train_end = time.perf_counter()\n",
    "\n",
    "clf_pred_start = time.perf_counter()\n",
    "clf_preds_proba = TabNet_clf.predict_proba(X_test_np)[:,1]\n",
    "clf_pred_end = time.perf_counter()\n",
    "\n",
    "clf_train_time = clf_train_end-clf_train_start\n",
    "clf_pred_time = clf_pred_end-clf_pred_start\n",
    "\n",
    "print(\"Time consumed for training:\" ,clf_train_time, \"seconds\")\n",
    "print(\"Time consumed for prediction:\" ,clf_pred_time, \"seconds\")"
   ]
  },
  {
   "cell_type": "code",
   "execution_count": 102,
   "id": "4df9a88b",
   "metadata": {},
   "outputs": [
    {
     "name": "stdout",
     "output_type": "stream",
     "text": [
      "The ROC AUC score is 0.763734532020977\n"
     ]
    }
   ],
   "source": [
    "clf_score=roc_auc_score(y_test, clf_preds_proba)\n",
    "print(\"The ROC AUC score is\" ,clf_score)"
   ]
  },
  {
   "cell_type": "code",
   "execution_count": 67,
   "id": "ee10fac8",
   "metadata": {},
   "outputs": [
    {
     "name": "stdout",
     "output_type": "stream",
     "text": [
      "epoch 0  | loss: 9.72764 |  0:00:01s\n",
      "epoch 1  | loss: 2.51224 |  0:00:02s\n",
      "epoch 2  | loss: 1.2975  |  0:00:03s\n",
      "epoch 3  | loss: 1.05941 |  0:00:04s\n",
      "epoch 4  | loss: 1.01068 |  0:00:05s\n",
      "epoch 5  | loss: 0.99454 |  0:00:06s\n",
      "epoch 6  | loss: 0.98306 |  0:00:08s\n",
      "epoch 7  | loss: 0.97809 |  0:00:09s\n",
      "epoch 8  | loss: 0.96541 |  0:00:11s\n",
      "epoch 9  | loss: 0.95513 |  0:00:12s\n",
      "epoch 10 | loss: 0.94671 |  0:00:13s\n",
      "epoch 11 | loss: 0.93974 |  0:00:14s\n",
      "epoch 12 | loss: 0.93337 |  0:00:15s\n",
      "epoch 13 | loss: 0.92183 |  0:00:16s\n",
      "epoch 14 | loss: 0.9184  |  0:00:18s\n",
      "epoch 15 | loss: 0.91302 |  0:00:19s\n",
      "epoch 16 | loss: 0.90998 |  0:00:20s\n",
      "epoch 17 | loss: 0.91092 |  0:00:21s\n",
      "epoch 18 | loss: 0.90849 |  0:00:24s\n",
      "epoch 19 | loss: 0.90018 |  0:00:26s\n",
      "epoch 20 | loss: 0.8931  |  0:00:27s\n",
      "epoch 21 | loss: 0.89594 |  0:00:28s\n",
      "epoch 22 | loss: 0.89285 |  0:00:29s\n",
      "epoch 23 | loss: 0.89122 |  0:00:31s\n",
      "epoch 24 | loss: 0.88841 |  0:00:32s\n",
      "epoch 25 | loss: 0.88206 |  0:00:33s\n",
      "epoch 26 | loss: 0.88285 |  0:00:34s\n",
      "epoch 27 | loss: 0.88015 |  0:00:35s\n",
      "epoch 28 | loss: 0.87452 |  0:00:36s\n",
      "epoch 29 | loss: 0.87623 |  0:00:38s\n",
      "epoch 30 | loss: 0.87644 |  0:00:40s\n",
      "epoch 31 | loss: 0.87455 |  0:00:42s\n",
      "epoch 32 | loss: 0.86926 |  0:00:43s\n",
      "epoch 33 | loss: 0.86849 |  0:00:44s\n",
      "epoch 34 | loss: 0.86609 |  0:00:45s\n",
      "epoch 35 | loss: 0.8621  |  0:00:46s\n",
      "epoch 36 | loss: 0.85775 |  0:00:47s\n",
      "epoch 37 | loss: 0.86162 |  0:00:49s\n",
      "epoch 38 | loss: 0.85867 |  0:00:50s\n",
      "epoch 39 | loss: 0.85604 |  0:00:51s\n",
      "epoch 40 | loss: 0.85859 |  0:00:52s\n",
      "epoch 41 | loss: 0.85636 |  0:00:53s\n",
      "epoch 42 | loss: 0.8542  |  0:00:55s\n",
      "epoch 43 | loss: 0.85121 |  0:00:56s\n",
      "epoch 44 | loss: 0.85219 |  0:00:58s\n",
      "epoch 45 | loss: 0.85125 |  0:00:59s\n",
      "epoch 46 | loss: 0.85268 |  0:01:00s\n",
      "epoch 47 | loss: 0.8507  |  0:01:01s\n",
      "epoch 48 | loss: 0.85509 |  0:01:02s\n",
      "epoch 49 | loss: 0.85032 |  0:01:03s\n",
      "epoch 50 | loss: 0.84855 |  0:01:04s\n",
      "epoch 51 | loss: 0.84548 |  0:01:05s\n",
      "epoch 52 | loss: 0.84609 |  0:01:07s\n",
      "epoch 53 | loss: 0.84441 |  0:01:08s\n",
      "epoch 54 | loss: 0.84184 |  0:01:09s\n",
      "epoch 55 | loss: 0.84217 |  0:01:11s\n",
      "epoch 56 | loss: 0.84629 |  0:01:12s\n",
      "epoch 57 | loss: 0.83955 |  0:01:14s\n",
      "epoch 58 | loss: 0.83649 |  0:01:15s\n",
      "epoch 59 | loss: 0.83712 |  0:01:16s\n",
      "epoch 60 | loss: 0.84023 |  0:01:17s\n",
      "epoch 61 | loss: 0.84078 |  0:01:18s\n",
      "epoch 62 | loss: 0.83755 |  0:01:19s\n",
      "epoch 63 | loss: 0.83399 |  0:01:20s\n",
      "epoch 64 | loss: 0.83533 |  0:01:21s\n",
      "epoch 65 | loss: 0.83179 |  0:01:22s\n",
      "epoch 66 | loss: 0.83433 |  0:01:23s\n",
      "epoch 67 | loss: 0.82685 |  0:01:24s\n",
      "epoch 68 | loss: 0.82758 |  0:01:25s\n",
      "epoch 69 | loss: 0.83111 |  0:01:26s\n",
      "epoch 70 | loss: 0.83054 |  0:01:28s\n",
      "epoch 71 | loss: 0.82345 |  0:01:30s\n",
      "epoch 72 | loss: 0.82998 |  0:01:31s\n",
      "epoch 73 | loss: 0.82602 |  0:01:32s\n",
      "epoch 74 | loss: 0.82456 |  0:01:33s\n",
      "epoch 75 | loss: 0.8272  |  0:01:34s\n",
      "epoch 76 | loss: 0.82574 |  0:01:35s\n",
      "epoch 77 | loss: 0.82813 |  0:01:36s\n",
      "epoch 78 | loss: 0.82193 |  0:01:37s\n",
      "epoch 79 | loss: 0.82298 |  0:01:38s\n",
      "epoch 80 | loss: 0.82495 |  0:01:39s\n",
      "epoch 81 | loss: 0.82415 |  0:01:40s\n",
      "epoch 82 | loss: 0.82319 |  0:01:41s\n",
      "epoch 83 | loss: 0.82441 |  0:01:42s\n",
      "epoch 84 | loss: 0.82262 |  0:01:44s\n",
      "epoch 85 | loss: 0.81951 |  0:01:45s\n",
      "epoch 86 | loss: 0.81892 |  0:01:46s\n",
      "epoch 87 | loss: 0.82135 |  0:01:47s\n",
      "epoch 88 | loss: 0.81644 |  0:01:48s\n",
      "epoch 89 | loss: 0.81655 |  0:01:49s\n",
      "epoch 90 | loss: 0.81674 |  0:01:50s\n",
      "epoch 91 | loss: 0.82144 |  0:01:51s\n",
      "epoch 92 | loss: 0.81964 |  0:01:52s\n",
      "epoch 93 | loss: 0.81518 |  0:01:53s\n",
      "epoch 94 | loss: 0.81755 |  0:01:54s\n",
      "epoch 95 | loss: 0.81675 |  0:01:55s\n",
      "epoch 96 | loss: 0.81666 |  0:01:56s\n",
      "epoch 97 | loss: 0.81625 |  0:01:58s\n",
      "epoch 98 | loss: 0.81533 |  0:01:59s\n",
      "epoch 99 | loss: 0.81236 |  0:02:01s\n"
     ]
    }
   ],
   "source": [
    "# Build self-supervised model and train on training data WITHOUT target\n",
    "pre_trainer = TabNetPretrainer()\n",
    "\n",
    "pre_trainer.fit(\n",
    "    X_train=X_train_np,\n",
    "    pretraining_ratio=0.8,\n",
    ")"
   ]
  },
  {
   "cell_type": "code",
   "execution_count": 69,
   "id": "af7226f7",
   "metadata": {},
   "outputs": [
    {
     "name": "stdout",
     "output_type": "stream",
     "text": [
      "(8301, 26)\n",
      "(8301,)\n"
     ]
    }
   ],
   "source": [
    "print(X_train.shape)\n",
    "print(y_train.shape)"
   ]
  },
  {
   "cell_type": "code",
   "execution_count": 70,
   "id": "faaf413b",
   "metadata": {},
   "outputs": [],
   "source": [
    "# Subset 30 percent of the training data\n",
    "X_train_part = X_train.head(2490)\n",
    "y_train_part = y_train.head(2490)"
   ]
  },
  {
   "cell_type": "code",
   "execution_count": 71,
   "id": "402b7303",
   "metadata": {},
   "outputs": [],
   "source": [
    "# convert to numpy array\n",
    "X_train_part = X_train_part.to_numpy()\n",
    "y_train_part = y_train_part.to_numpy().squeeze()"
   ]
  },
  {
   "cell_type": "code",
   "execution_count": 74,
   "id": "5fc3705c",
   "metadata": {},
   "outputs": [
    {
     "name": "stdout",
     "output_type": "stream",
     "text": [
      "Time consumed for training: 25.2563181000005 seconds\n",
      "Time consumed for prediction: 0.12142370000947267 seconds\n"
     ]
    }
   ],
   "source": [
    "# Build self-supervised learning model and train on 30 percent of training data\n",
    "ssl_model = TabNetClassifier(**final_TabNet_params)\n",
    "ssl_train_start = time.perf_counter()\n",
    "ssl_model.fit(X_train_part, y_train_part, patience=TabNet_params['patience'], \n",
    "               max_epochs=epochs, from_unsupervised = pre_trainer)\n",
    "ssl_train_end = time.perf_counter()\n",
    "\n",
    "ssl_pred_start = time.perf_counter()\n",
    "ssl_preds = ssl_model.predict(X_test_np)\n",
    "ssl_pred_end = time.perf_counter()\n",
    "\n",
    "ssl_train_time = ssl_train_end-ssl_train_start\n",
    "ssl_pred_time = ssl_pred_end-ssl_pred_start\n",
    "\n",
    "print(\"Time consumed for training:\" ,ssl_train_time, \"seconds\")\n",
    "print(\"Time consumed for prediction:\" ,ssl_pred_time, \"seconds\")"
   ]
  },
  {
   "cell_type": "code",
   "execution_count": 76,
   "id": "6d9a1349",
   "metadata": {},
   "outputs": [
    {
     "name": "stdout",
     "output_type": "stream",
     "text": [
      "              precision    recall  f1-score   support\n",
      "\n",
      "           0       0.86      0.84      0.85      1035\n",
      "           1       0.58      0.61      0.59       374\n",
      "\n",
      "    accuracy                           0.78      1409\n",
      "   macro avg       0.72      0.72      0.72      1409\n",
      "weighted avg       0.78      0.78      0.78      1409\n",
      "\n"
     ]
    }
   ],
   "source": [
    "print(classification_report(y_test_np, ssl_preds))"
   ]
  },
  {
   "cell_type": "code",
   "execution_count": 98,
   "id": "5d094b5d",
   "metadata": {},
   "outputs": [
    {
     "name": "stdout",
     "output_type": "stream",
     "text": [
      "Time consumed for training: 25.678526300005615 seconds\n",
      "Time consumed for prediction: 0.10190189999411814 seconds\n"
     ]
    }
   ],
   "source": [
    "ssl_model = TabNetClassifier(**final_TabNet_params)\n",
    "ssl_train_start = time.perf_counter()\n",
    "ssl_model.fit(X_train_part, y_train_part, patience=TabNet_params['patience'], \n",
    "               max_epochs=epochs, from_unsupervised = pre_trainer)\n",
    "ssl_train_end = time.perf_counter()\n",
    "\n",
    "ssl_pred_start = time.perf_counter()\n",
    "ssl_preds_proba = ssl_model.predict_proba(X_test_np)[:,1]\n",
    "ssl_pred_end = time.perf_counter()\n",
    "\n",
    "ssl_train_time = ssl_train_end-ssl_train_start\n",
    "ssl_pred_time = ssl_pred_end-ssl_pred_start\n",
    "\n",
    "print(\"Time consumed for training:\" ,ssl_train_time, \"seconds\")\n",
    "print(\"Time consumed for prediction:\" ,ssl_pred_time, \"seconds\")"
   ]
  },
  {
   "cell_type": "code",
   "execution_count": 99,
   "id": "bfea0cd1",
   "metadata": {},
   "outputs": [
    {
     "name": "stdout",
     "output_type": "stream",
     "text": [
      "The ROC AUC score is 0.8180164819551008\n"
     ]
    }
   ],
   "source": [
    "ssl_score=roc_auc_score(y_test, ssl_preds_proba)\n",
    "print(\"The ROC AUC score is\" ,ssl_score)"
   ]
  },
  {
   "cell_type": "code",
   "execution_count": 78,
   "id": "8ae2b635",
   "metadata": {},
   "outputs": [
    {
     "data": {
      "application/vnd.plotly.v1+json": {
       "config": {
        "plotlyServerURL": "https://plot.ly"
       },
       "data": [
        {
         "mode": "markers",
         "name": "Objective Value",
         "type": "scatter",
         "x": [
          0,
          1,
          2,
          3,
          4,
          5,
          6,
          7,
          8,
          9,
          10,
          11,
          12,
          13,
          14,
          15,
          16,
          17,
          18,
          19,
          20,
          21,
          22,
          23,
          24,
          25,
          26,
          27,
          28,
          29,
          30,
          31,
          32,
          33,
          34,
          35,
          36,
          37,
          38,
          39,
          40,
          41,
          42,
          43,
          44,
          45,
          46,
          47,
          48,
          49,
          50,
          51,
          52,
          53,
          54,
          55,
          56,
          57,
          58,
          59,
          60,
          61,
          62,
          63,
          64,
          65,
          66,
          67,
          68,
          69,
          70,
          71,
          72,
          73,
          74,
          75,
          76,
          77,
          78,
          79,
          80,
          81,
          82,
          83,
          84,
          85,
          86,
          87,
          88,
          89,
          90,
          91,
          92,
          93,
          94,
          95,
          96,
          97,
          98,
          99
         ],
         "y": [
          0.8211920529801324,
          0.8133654425045154,
          0.8151715833835039,
          0.8217940999397954,
          0.7591812161348586,
          0.786273329319687,
          0.8097531607465382,
          0.839855508729681,
          0.7838651414810355,
          0.7435279951836243,
          0.8121613485851896,
          0.8223961468994582,
          0.8296207104154124,
          0.839855508729681,
          0.8266104756170981,
          0.818783865141481,
          0.8097531607465382,
          0.8260084286574353,
          0.8326309452137267,
          0.8254063816977725,
          0.839253461770018,
          0.8350391330523781,
          0.8091511137868754,
          0.8181818181818182,
          0.8175797712221553,
          0.8193859121011439,
          0.8037326911499096,
          0.8211920529801324,
          0.8296207104154124,
          0.8302227573750752,
          0.8308248043347382,
          0.8266104756170981,
          0.8248043347381095,
          0.8205900060204696,
          0.8254063816977725,
          0.8362432269717038,
          0.8386514148103552,
          0.8236002408187839,
          0.8344370860927153,
          0.8326309452137267,
          0.8193859121011439,
          0.827212522576761,
          0.8217940999397954,
          0.8308248043347382,
          0.5701384708007224,
          0.8211920529801324,
          0.8223961468994582,
          0.8332329921733895,
          0.8362432269717038,
          0.8344370860927153,
          0.839253461770018,
          0.827212522576761,
          0.8332329921733895,
          0.8049367850692354,
          0.7627934978928357,
          0.827212522576761,
          0.8091511137868754,
          0.8181818181818182,
          0.8434677904876581,
          0.8067429259482239,
          0.8332329921733895,
          0.8374473208910295,
          0.8356411800120409,
          0.8410596026490066,
          0.831426851294401,
          0.8284166164960867,
          0.8374473208910295,
          0.8308248043347382,
          0.831426851294401,
          0.7543648404575557,
          0.8254063816977725,
          0.839855508729681,
          0.839253461770018,
          0.8338350391330523,
          0.8422636965683323,
          0.8344370860927153,
          0.8284166164960867,
          0.8344370860927153,
          0.8181818181818182,
          0.8410596026490066,
          0.831426851294401,
          0.8344370860927153,
          0.8332329921733895,
          0.8380493678506924,
          0.8446718844069837,
          0.8452739313666466,
          0.8362432269717038,
          0.8350391330523781,
          0.8350391330523781,
          0.8332329921733895,
          0.8350391330523781,
          0.839855508729681,
          0.839855508729681,
          0.8416616496086695,
          0.8470800722456352,
          0.8338350391330523,
          0.8374473208910295,
          0.8338350391330523,
          0.8434677904876581,
          0.839855508729681
         ]
        },
        {
         "name": "Best Value",
         "type": "scatter",
         "x": [
          0,
          1,
          2,
          3,
          4,
          5,
          6,
          7,
          8,
          9,
          10,
          11,
          12,
          13,
          14,
          15,
          16,
          17,
          18,
          19,
          20,
          21,
          22,
          23,
          24,
          25,
          26,
          27,
          28,
          29,
          30,
          31,
          32,
          33,
          34,
          35,
          36,
          37,
          38,
          39,
          40,
          41,
          42,
          43,
          44,
          45,
          46,
          47,
          48,
          49,
          50,
          51,
          52,
          53,
          54,
          55,
          56,
          57,
          58,
          59,
          60,
          61,
          62,
          63,
          64,
          65,
          66,
          67,
          68,
          69,
          70,
          71,
          72,
          73,
          74,
          75,
          76,
          77,
          78,
          79,
          80,
          81,
          82,
          83,
          84,
          85,
          86,
          87,
          88,
          89,
          90,
          91,
          92,
          93,
          94,
          95,
          96,
          97,
          98,
          99
         ],
         "y": [
          0.8211920529801324,
          0.8211920529801324,
          0.8211920529801324,
          0.8217940999397954,
          0.8217940999397954,
          0.8217940999397954,
          0.8217940999397954,
          0.839855508729681,
          0.839855508729681,
          0.839855508729681,
          0.839855508729681,
          0.839855508729681,
          0.839855508729681,
          0.839855508729681,
          0.839855508729681,
          0.839855508729681,
          0.839855508729681,
          0.839855508729681,
          0.839855508729681,
          0.839855508729681,
          0.839855508729681,
          0.839855508729681,
          0.839855508729681,
          0.839855508729681,
          0.839855508729681,
          0.839855508729681,
          0.839855508729681,
          0.839855508729681,
          0.839855508729681,
          0.839855508729681,
          0.839855508729681,
          0.839855508729681,
          0.839855508729681,
          0.839855508729681,
          0.839855508729681,
          0.839855508729681,
          0.839855508729681,
          0.839855508729681,
          0.839855508729681,
          0.839855508729681,
          0.839855508729681,
          0.839855508729681,
          0.839855508729681,
          0.839855508729681,
          0.839855508729681,
          0.839855508729681,
          0.839855508729681,
          0.839855508729681,
          0.839855508729681,
          0.839855508729681,
          0.839855508729681,
          0.839855508729681,
          0.839855508729681,
          0.839855508729681,
          0.839855508729681,
          0.839855508729681,
          0.839855508729681,
          0.839855508729681,
          0.8434677904876581,
          0.8434677904876581,
          0.8434677904876581,
          0.8434677904876581,
          0.8434677904876581,
          0.8434677904876581,
          0.8434677904876581,
          0.8434677904876581,
          0.8434677904876581,
          0.8434677904876581,
          0.8434677904876581,
          0.8434677904876581,
          0.8434677904876581,
          0.8434677904876581,
          0.8434677904876581,
          0.8434677904876581,
          0.8434677904876581,
          0.8434677904876581,
          0.8434677904876581,
          0.8434677904876581,
          0.8434677904876581,
          0.8434677904876581,
          0.8434677904876581,
          0.8434677904876581,
          0.8434677904876581,
          0.8434677904876581,
          0.8446718844069837,
          0.8452739313666466,
          0.8452739313666466,
          0.8452739313666466,
          0.8452739313666466,
          0.8452739313666466,
          0.8452739313666466,
          0.8452739313666466,
          0.8452739313666466,
          0.8452739313666466,
          0.8470800722456352,
          0.8470800722456352,
          0.8470800722456352,
          0.8470800722456352,
          0.8470800722456352,
          0.8470800722456352
         ]
        }
       ],
       "layout": {
        "template": {
         "data": {
          "bar": [
           {
            "error_x": {
             "color": "#2a3f5f"
            },
            "error_y": {
             "color": "#2a3f5f"
            },
            "marker": {
             "line": {
              "color": "#E5ECF6",
              "width": 0.5
             },
             "pattern": {
              "fillmode": "overlay",
              "size": 10,
              "solidity": 0.2
             }
            },
            "type": "bar"
           }
          ],
          "barpolar": [
           {
            "marker": {
             "line": {
              "color": "#E5ECF6",
              "width": 0.5
             },
             "pattern": {
              "fillmode": "overlay",
              "size": 10,
              "solidity": 0.2
             }
            },
            "type": "barpolar"
           }
          ],
          "carpet": [
           {
            "aaxis": {
             "endlinecolor": "#2a3f5f",
             "gridcolor": "white",
             "linecolor": "white",
             "minorgridcolor": "white",
             "startlinecolor": "#2a3f5f"
            },
            "baxis": {
             "endlinecolor": "#2a3f5f",
             "gridcolor": "white",
             "linecolor": "white",
             "minorgridcolor": "white",
             "startlinecolor": "#2a3f5f"
            },
            "type": "carpet"
           }
          ],
          "choropleth": [
           {
            "colorbar": {
             "outlinewidth": 0,
             "ticks": ""
            },
            "type": "choropleth"
           }
          ],
          "contour": [
           {
            "colorbar": {
             "outlinewidth": 0,
             "ticks": ""
            },
            "colorscale": [
             [
              0,
              "#0d0887"
             ],
             [
              0.1111111111111111,
              "#46039f"
             ],
             [
              0.2222222222222222,
              "#7201a8"
             ],
             [
              0.3333333333333333,
              "#9c179e"
             ],
             [
              0.4444444444444444,
              "#bd3786"
             ],
             [
              0.5555555555555556,
              "#d8576b"
             ],
             [
              0.6666666666666666,
              "#ed7953"
             ],
             [
              0.7777777777777778,
              "#fb9f3a"
             ],
             [
              0.8888888888888888,
              "#fdca26"
             ],
             [
              1,
              "#f0f921"
             ]
            ],
            "type": "contour"
           }
          ],
          "contourcarpet": [
           {
            "colorbar": {
             "outlinewidth": 0,
             "ticks": ""
            },
            "type": "contourcarpet"
           }
          ],
          "heatmap": [
           {
            "colorbar": {
             "outlinewidth": 0,
             "ticks": ""
            },
            "colorscale": [
             [
              0,
              "#0d0887"
             ],
             [
              0.1111111111111111,
              "#46039f"
             ],
             [
              0.2222222222222222,
              "#7201a8"
             ],
             [
              0.3333333333333333,
              "#9c179e"
             ],
             [
              0.4444444444444444,
              "#bd3786"
             ],
             [
              0.5555555555555556,
              "#d8576b"
             ],
             [
              0.6666666666666666,
              "#ed7953"
             ],
             [
              0.7777777777777778,
              "#fb9f3a"
             ],
             [
              0.8888888888888888,
              "#fdca26"
             ],
             [
              1,
              "#f0f921"
             ]
            ],
            "type": "heatmap"
           }
          ],
          "heatmapgl": [
           {
            "colorbar": {
             "outlinewidth": 0,
             "ticks": ""
            },
            "colorscale": [
             [
              0,
              "#0d0887"
             ],
             [
              0.1111111111111111,
              "#46039f"
             ],
             [
              0.2222222222222222,
              "#7201a8"
             ],
             [
              0.3333333333333333,
              "#9c179e"
             ],
             [
              0.4444444444444444,
              "#bd3786"
             ],
             [
              0.5555555555555556,
              "#d8576b"
             ],
             [
              0.6666666666666666,
              "#ed7953"
             ],
             [
              0.7777777777777778,
              "#fb9f3a"
             ],
             [
              0.8888888888888888,
              "#fdca26"
             ],
             [
              1,
              "#f0f921"
             ]
            ],
            "type": "heatmapgl"
           }
          ],
          "histogram": [
           {
            "marker": {
             "pattern": {
              "fillmode": "overlay",
              "size": 10,
              "solidity": 0.2
             }
            },
            "type": "histogram"
           }
          ],
          "histogram2d": [
           {
            "colorbar": {
             "outlinewidth": 0,
             "ticks": ""
            },
            "colorscale": [
             [
              0,
              "#0d0887"
             ],
             [
              0.1111111111111111,
              "#46039f"
             ],
             [
              0.2222222222222222,
              "#7201a8"
             ],
             [
              0.3333333333333333,
              "#9c179e"
             ],
             [
              0.4444444444444444,
              "#bd3786"
             ],
             [
              0.5555555555555556,
              "#d8576b"
             ],
             [
              0.6666666666666666,
              "#ed7953"
             ],
             [
              0.7777777777777778,
              "#fb9f3a"
             ],
             [
              0.8888888888888888,
              "#fdca26"
             ],
             [
              1,
              "#f0f921"
             ]
            ],
            "type": "histogram2d"
           }
          ],
          "histogram2dcontour": [
           {
            "colorbar": {
             "outlinewidth": 0,
             "ticks": ""
            },
            "colorscale": [
             [
              0,
              "#0d0887"
             ],
             [
              0.1111111111111111,
              "#46039f"
             ],
             [
              0.2222222222222222,
              "#7201a8"
             ],
             [
              0.3333333333333333,
              "#9c179e"
             ],
             [
              0.4444444444444444,
              "#bd3786"
             ],
             [
              0.5555555555555556,
              "#d8576b"
             ],
             [
              0.6666666666666666,
              "#ed7953"
             ],
             [
              0.7777777777777778,
              "#fb9f3a"
             ],
             [
              0.8888888888888888,
              "#fdca26"
             ],
             [
              1,
              "#f0f921"
             ]
            ],
            "type": "histogram2dcontour"
           }
          ],
          "mesh3d": [
           {
            "colorbar": {
             "outlinewidth": 0,
             "ticks": ""
            },
            "type": "mesh3d"
           }
          ],
          "parcoords": [
           {
            "line": {
             "colorbar": {
              "outlinewidth": 0,
              "ticks": ""
             }
            },
            "type": "parcoords"
           }
          ],
          "pie": [
           {
            "automargin": true,
            "type": "pie"
           }
          ],
          "scatter": [
           {
            "fillpattern": {
             "fillmode": "overlay",
             "size": 10,
             "solidity": 0.2
            },
            "type": "scatter"
           }
          ],
          "scatter3d": [
           {
            "line": {
             "colorbar": {
              "outlinewidth": 0,
              "ticks": ""
             }
            },
            "marker": {
             "colorbar": {
              "outlinewidth": 0,
              "ticks": ""
             }
            },
            "type": "scatter3d"
           }
          ],
          "scattercarpet": [
           {
            "marker": {
             "colorbar": {
              "outlinewidth": 0,
              "ticks": ""
             }
            },
            "type": "scattercarpet"
           }
          ],
          "scattergeo": [
           {
            "marker": {
             "colorbar": {
              "outlinewidth": 0,
              "ticks": ""
             }
            },
            "type": "scattergeo"
           }
          ],
          "scattergl": [
           {
            "marker": {
             "colorbar": {
              "outlinewidth": 0,
              "ticks": ""
             }
            },
            "type": "scattergl"
           }
          ],
          "scattermapbox": [
           {
            "marker": {
             "colorbar": {
              "outlinewidth": 0,
              "ticks": ""
             }
            },
            "type": "scattermapbox"
           }
          ],
          "scatterpolar": [
           {
            "marker": {
             "colorbar": {
              "outlinewidth": 0,
              "ticks": ""
             }
            },
            "type": "scatterpolar"
           }
          ],
          "scatterpolargl": [
           {
            "marker": {
             "colorbar": {
              "outlinewidth": 0,
              "ticks": ""
             }
            },
            "type": "scatterpolargl"
           }
          ],
          "scatterternary": [
           {
            "marker": {
             "colorbar": {
              "outlinewidth": 0,
              "ticks": ""
             }
            },
            "type": "scatterternary"
           }
          ],
          "surface": [
           {
            "colorbar": {
             "outlinewidth": 0,
             "ticks": ""
            },
            "colorscale": [
             [
              0,
              "#0d0887"
             ],
             [
              0.1111111111111111,
              "#46039f"
             ],
             [
              0.2222222222222222,
              "#7201a8"
             ],
             [
              0.3333333333333333,
              "#9c179e"
             ],
             [
              0.4444444444444444,
              "#bd3786"
             ],
             [
              0.5555555555555556,
              "#d8576b"
             ],
             [
              0.6666666666666666,
              "#ed7953"
             ],
             [
              0.7777777777777778,
              "#fb9f3a"
             ],
             [
              0.8888888888888888,
              "#fdca26"
             ],
             [
              1,
              "#f0f921"
             ]
            ],
            "type": "surface"
           }
          ],
          "table": [
           {
            "cells": {
             "fill": {
              "color": "#EBF0F8"
             },
             "line": {
              "color": "white"
             }
            },
            "header": {
             "fill": {
              "color": "#C8D4E3"
             },
             "line": {
              "color": "white"
             }
            },
            "type": "table"
           }
          ]
         },
         "layout": {
          "annotationdefaults": {
           "arrowcolor": "#2a3f5f",
           "arrowhead": 0,
           "arrowwidth": 1
          },
          "autotypenumbers": "strict",
          "coloraxis": {
           "colorbar": {
            "outlinewidth": 0,
            "ticks": ""
           }
          },
          "colorscale": {
           "diverging": [
            [
             0,
             "#8e0152"
            ],
            [
             0.1,
             "#c51b7d"
            ],
            [
             0.2,
             "#de77ae"
            ],
            [
             0.3,
             "#f1b6da"
            ],
            [
             0.4,
             "#fde0ef"
            ],
            [
             0.5,
             "#f7f7f7"
            ],
            [
             0.6,
             "#e6f5d0"
            ],
            [
             0.7,
             "#b8e186"
            ],
            [
             0.8,
             "#7fbc41"
            ],
            [
             0.9,
             "#4d9221"
            ],
            [
             1,
             "#276419"
            ]
           ],
           "sequential": [
            [
             0,
             "#0d0887"
            ],
            [
             0.1111111111111111,
             "#46039f"
            ],
            [
             0.2222222222222222,
             "#7201a8"
            ],
            [
             0.3333333333333333,
             "#9c179e"
            ],
            [
             0.4444444444444444,
             "#bd3786"
            ],
            [
             0.5555555555555556,
             "#d8576b"
            ],
            [
             0.6666666666666666,
             "#ed7953"
            ],
            [
             0.7777777777777778,
             "#fb9f3a"
            ],
            [
             0.8888888888888888,
             "#fdca26"
            ],
            [
             1,
             "#f0f921"
            ]
           ],
           "sequentialminus": [
            [
             0,
             "#0d0887"
            ],
            [
             0.1111111111111111,
             "#46039f"
            ],
            [
             0.2222222222222222,
             "#7201a8"
            ],
            [
             0.3333333333333333,
             "#9c179e"
            ],
            [
             0.4444444444444444,
             "#bd3786"
            ],
            [
             0.5555555555555556,
             "#d8576b"
            ],
            [
             0.6666666666666666,
             "#ed7953"
            ],
            [
             0.7777777777777778,
             "#fb9f3a"
            ],
            [
             0.8888888888888888,
             "#fdca26"
            ],
            [
             1,
             "#f0f921"
            ]
           ]
          },
          "colorway": [
           "#636efa",
           "#EF553B",
           "#00cc96",
           "#ab63fa",
           "#FFA15A",
           "#19d3f3",
           "#FF6692",
           "#B6E880",
           "#FF97FF",
           "#FECB52"
          ],
          "font": {
           "color": "#2a3f5f"
          },
          "geo": {
           "bgcolor": "white",
           "lakecolor": "white",
           "landcolor": "#E5ECF6",
           "showlakes": true,
           "showland": true,
           "subunitcolor": "white"
          },
          "hoverlabel": {
           "align": "left"
          },
          "hovermode": "closest",
          "mapbox": {
           "style": "light"
          },
          "paper_bgcolor": "white",
          "plot_bgcolor": "#E5ECF6",
          "polar": {
           "angularaxis": {
            "gridcolor": "white",
            "linecolor": "white",
            "ticks": ""
           },
           "bgcolor": "#E5ECF6",
           "radialaxis": {
            "gridcolor": "white",
            "linecolor": "white",
            "ticks": ""
           }
          },
          "scene": {
           "xaxis": {
            "backgroundcolor": "#E5ECF6",
            "gridcolor": "white",
            "gridwidth": 2,
            "linecolor": "white",
            "showbackground": true,
            "ticks": "",
            "zerolinecolor": "white"
           },
           "yaxis": {
            "backgroundcolor": "#E5ECF6",
            "gridcolor": "white",
            "gridwidth": 2,
            "linecolor": "white",
            "showbackground": true,
            "ticks": "",
            "zerolinecolor": "white"
           },
           "zaxis": {
            "backgroundcolor": "#E5ECF6",
            "gridcolor": "white",
            "gridwidth": 2,
            "linecolor": "white",
            "showbackground": true,
            "ticks": "",
            "zerolinecolor": "white"
           }
          },
          "shapedefaults": {
           "line": {
            "color": "#2a3f5f"
           }
          },
          "ternary": {
           "aaxis": {
            "gridcolor": "white",
            "linecolor": "white",
            "ticks": ""
           },
           "baxis": {
            "gridcolor": "white",
            "linecolor": "white",
            "ticks": ""
           },
           "bgcolor": "#E5ECF6",
           "caxis": {
            "gridcolor": "white",
            "linecolor": "white",
            "ticks": ""
           }
          },
          "title": {
           "x": 0.05
          },
          "xaxis": {
           "automargin": true,
           "gridcolor": "white",
           "linecolor": "white",
           "ticks": "",
           "title": {
            "standoff": 15
           },
           "zerolinecolor": "white",
           "zerolinewidth": 2
          },
          "yaxis": {
           "automargin": true,
           "gridcolor": "white",
           "linecolor": "white",
           "ticks": "",
           "title": {
            "standoff": 15
           },
           "zerolinecolor": "white",
           "zerolinewidth": 2
          }
         }
        },
        "title": {
         "text": "Optimization History Plot"
        },
        "xaxis": {
         "title": {
          "text": "Trial"
         }
        },
        "yaxis": {
         "title": {
          "text": "Objective Value"
         }
        }
       }
      },
      "text/html": [
       "<div>                            <div id=\"e26d39a9-59ad-4b75-99f4-b14ab0ba0699\" class=\"plotly-graph-div\" style=\"height:525px; width:100%;\"></div>            <script type=\"text/javascript\">                require([\"plotly\"], function(Plotly) {                    window.PLOTLYENV=window.PLOTLYENV || {};                                    if (document.getElementById(\"e26d39a9-59ad-4b75-99f4-b14ab0ba0699\")) {                    Plotly.newPlot(                        \"e26d39a9-59ad-4b75-99f4-b14ab0ba0699\",                        [{\"mode\":\"markers\",\"name\":\"Objective Value\",\"x\":[0,1,2,3,4,5,6,7,8,9,10,11,12,13,14,15,16,17,18,19,20,21,22,23,24,25,26,27,28,29,30,31,32,33,34,35,36,37,38,39,40,41,42,43,44,45,46,47,48,49,50,51,52,53,54,55,56,57,58,59,60,61,62,63,64,65,66,67,68,69,70,71,72,73,74,75,76,77,78,79,80,81,82,83,84,85,86,87,88,89,90,91,92,93,94,95,96,97,98,99],\"y\":[0.8211920529801324,0.8133654425045154,0.8151715833835039,0.8217940999397954,0.7591812161348586,0.786273329319687,0.8097531607465382,0.839855508729681,0.7838651414810355,0.7435279951836243,0.8121613485851896,0.8223961468994582,0.8296207104154124,0.839855508729681,0.8266104756170981,0.818783865141481,0.8097531607465382,0.8260084286574353,0.8326309452137267,0.8254063816977725,0.839253461770018,0.8350391330523781,0.8091511137868754,0.8181818181818182,0.8175797712221553,0.8193859121011439,0.8037326911499096,0.8211920529801324,0.8296207104154124,0.8302227573750752,0.8308248043347382,0.8266104756170981,0.8248043347381095,0.8205900060204696,0.8254063816977725,0.8362432269717038,0.8386514148103552,0.8236002408187839,0.8344370860927153,0.8326309452137267,0.8193859121011439,0.827212522576761,0.8217940999397954,0.8308248043347382,0.5701384708007224,0.8211920529801324,0.8223961468994582,0.8332329921733895,0.8362432269717038,0.8344370860927153,0.839253461770018,0.827212522576761,0.8332329921733895,0.8049367850692354,0.7627934978928357,0.827212522576761,0.8091511137868754,0.8181818181818182,0.8434677904876581,0.8067429259482239,0.8332329921733895,0.8374473208910295,0.8356411800120409,0.8410596026490066,0.831426851294401,0.8284166164960867,0.8374473208910295,0.8308248043347382,0.831426851294401,0.7543648404575557,0.8254063816977725,0.839855508729681,0.839253461770018,0.8338350391330523,0.8422636965683323,0.8344370860927153,0.8284166164960867,0.8344370860927153,0.8181818181818182,0.8410596026490066,0.831426851294401,0.8344370860927153,0.8332329921733895,0.8380493678506924,0.8446718844069837,0.8452739313666466,0.8362432269717038,0.8350391330523781,0.8350391330523781,0.8332329921733895,0.8350391330523781,0.839855508729681,0.839855508729681,0.8416616496086695,0.8470800722456352,0.8338350391330523,0.8374473208910295,0.8338350391330523,0.8434677904876581,0.839855508729681],\"type\":\"scatter\"},{\"name\":\"Best Value\",\"x\":[0,1,2,3,4,5,6,7,8,9,10,11,12,13,14,15,16,17,18,19,20,21,22,23,24,25,26,27,28,29,30,31,32,33,34,35,36,37,38,39,40,41,42,43,44,45,46,47,48,49,50,51,52,53,54,55,56,57,58,59,60,61,62,63,64,65,66,67,68,69,70,71,72,73,74,75,76,77,78,79,80,81,82,83,84,85,86,87,88,89,90,91,92,93,94,95,96,97,98,99],\"y\":[0.8211920529801324,0.8211920529801324,0.8211920529801324,0.8217940999397954,0.8217940999397954,0.8217940999397954,0.8217940999397954,0.839855508729681,0.839855508729681,0.839855508729681,0.839855508729681,0.839855508729681,0.839855508729681,0.839855508729681,0.839855508729681,0.839855508729681,0.839855508729681,0.839855508729681,0.839855508729681,0.839855508729681,0.839855508729681,0.839855508729681,0.839855508729681,0.839855508729681,0.839855508729681,0.839855508729681,0.839855508729681,0.839855508729681,0.839855508729681,0.839855508729681,0.839855508729681,0.839855508729681,0.839855508729681,0.839855508729681,0.839855508729681,0.839855508729681,0.839855508729681,0.839855508729681,0.839855508729681,0.839855508729681,0.839855508729681,0.839855508729681,0.839855508729681,0.839855508729681,0.839855508729681,0.839855508729681,0.839855508729681,0.839855508729681,0.839855508729681,0.839855508729681,0.839855508729681,0.839855508729681,0.839855508729681,0.839855508729681,0.839855508729681,0.839855508729681,0.839855508729681,0.839855508729681,0.8434677904876581,0.8434677904876581,0.8434677904876581,0.8434677904876581,0.8434677904876581,0.8434677904876581,0.8434677904876581,0.8434677904876581,0.8434677904876581,0.8434677904876581,0.8434677904876581,0.8434677904876581,0.8434677904876581,0.8434677904876581,0.8434677904876581,0.8434677904876581,0.8434677904876581,0.8434677904876581,0.8434677904876581,0.8434677904876581,0.8434677904876581,0.8434677904876581,0.8434677904876581,0.8434677904876581,0.8434677904876581,0.8434677904876581,0.8446718844069837,0.8452739313666466,0.8452739313666466,0.8452739313666466,0.8452739313666466,0.8452739313666466,0.8452739313666466,0.8452739313666466,0.8452739313666466,0.8452739313666466,0.8470800722456352,0.8470800722456352,0.8470800722456352,0.8470800722456352,0.8470800722456352,0.8470800722456352],\"type\":\"scatter\"}],                        {\"title\":{\"text\":\"Optimization History Plot\"},\"xaxis\":{\"title\":{\"text\":\"Trial\"}},\"yaxis\":{\"title\":{\"text\":\"Objective Value\"}},\"template\":{\"data\":{\"histogram2dcontour\":[{\"type\":\"histogram2dcontour\",\"colorbar\":{\"outlinewidth\":0,\"ticks\":\"\"},\"colorscale\":[[0.0,\"#0d0887\"],[0.1111111111111111,\"#46039f\"],[0.2222222222222222,\"#7201a8\"],[0.3333333333333333,\"#9c179e\"],[0.4444444444444444,\"#bd3786\"],[0.5555555555555556,\"#d8576b\"],[0.6666666666666666,\"#ed7953\"],[0.7777777777777778,\"#fb9f3a\"],[0.8888888888888888,\"#fdca26\"],[1.0,\"#f0f921\"]]}],\"choropleth\":[{\"type\":\"choropleth\",\"colorbar\":{\"outlinewidth\":0,\"ticks\":\"\"}}],\"histogram2d\":[{\"type\":\"histogram2d\",\"colorbar\":{\"outlinewidth\":0,\"ticks\":\"\"},\"colorscale\":[[0.0,\"#0d0887\"],[0.1111111111111111,\"#46039f\"],[0.2222222222222222,\"#7201a8\"],[0.3333333333333333,\"#9c179e\"],[0.4444444444444444,\"#bd3786\"],[0.5555555555555556,\"#d8576b\"],[0.6666666666666666,\"#ed7953\"],[0.7777777777777778,\"#fb9f3a\"],[0.8888888888888888,\"#fdca26\"],[1.0,\"#f0f921\"]]}],\"heatmap\":[{\"type\":\"heatmap\",\"colorbar\":{\"outlinewidth\":0,\"ticks\":\"\"},\"colorscale\":[[0.0,\"#0d0887\"],[0.1111111111111111,\"#46039f\"],[0.2222222222222222,\"#7201a8\"],[0.3333333333333333,\"#9c179e\"],[0.4444444444444444,\"#bd3786\"],[0.5555555555555556,\"#d8576b\"],[0.6666666666666666,\"#ed7953\"],[0.7777777777777778,\"#fb9f3a\"],[0.8888888888888888,\"#fdca26\"],[1.0,\"#f0f921\"]]}],\"heatmapgl\":[{\"type\":\"heatmapgl\",\"colorbar\":{\"outlinewidth\":0,\"ticks\":\"\"},\"colorscale\":[[0.0,\"#0d0887\"],[0.1111111111111111,\"#46039f\"],[0.2222222222222222,\"#7201a8\"],[0.3333333333333333,\"#9c179e\"],[0.4444444444444444,\"#bd3786\"],[0.5555555555555556,\"#d8576b\"],[0.6666666666666666,\"#ed7953\"],[0.7777777777777778,\"#fb9f3a\"],[0.8888888888888888,\"#fdca26\"],[1.0,\"#f0f921\"]]}],\"contourcarpet\":[{\"type\":\"contourcarpet\",\"colorbar\":{\"outlinewidth\":0,\"ticks\":\"\"}}],\"contour\":[{\"type\":\"contour\",\"colorbar\":{\"outlinewidth\":0,\"ticks\":\"\"},\"colorscale\":[[0.0,\"#0d0887\"],[0.1111111111111111,\"#46039f\"],[0.2222222222222222,\"#7201a8\"],[0.3333333333333333,\"#9c179e\"],[0.4444444444444444,\"#bd3786\"],[0.5555555555555556,\"#d8576b\"],[0.6666666666666666,\"#ed7953\"],[0.7777777777777778,\"#fb9f3a\"],[0.8888888888888888,\"#fdca26\"],[1.0,\"#f0f921\"]]}],\"surface\":[{\"type\":\"surface\",\"colorbar\":{\"outlinewidth\":0,\"ticks\":\"\"},\"colorscale\":[[0.0,\"#0d0887\"],[0.1111111111111111,\"#46039f\"],[0.2222222222222222,\"#7201a8\"],[0.3333333333333333,\"#9c179e\"],[0.4444444444444444,\"#bd3786\"],[0.5555555555555556,\"#d8576b\"],[0.6666666666666666,\"#ed7953\"],[0.7777777777777778,\"#fb9f3a\"],[0.8888888888888888,\"#fdca26\"],[1.0,\"#f0f921\"]]}],\"mesh3d\":[{\"type\":\"mesh3d\",\"colorbar\":{\"outlinewidth\":0,\"ticks\":\"\"}}],\"scatter\":[{\"fillpattern\":{\"fillmode\":\"overlay\",\"size\":10,\"solidity\":0.2},\"type\":\"scatter\"}],\"parcoords\":[{\"type\":\"parcoords\",\"line\":{\"colorbar\":{\"outlinewidth\":0,\"ticks\":\"\"}}}],\"scatterpolargl\":[{\"type\":\"scatterpolargl\",\"marker\":{\"colorbar\":{\"outlinewidth\":0,\"ticks\":\"\"}}}],\"bar\":[{\"error_x\":{\"color\":\"#2a3f5f\"},\"error_y\":{\"color\":\"#2a3f5f\"},\"marker\":{\"line\":{\"color\":\"#E5ECF6\",\"width\":0.5},\"pattern\":{\"fillmode\":\"overlay\",\"size\":10,\"solidity\":0.2}},\"type\":\"bar\"}],\"scattergeo\":[{\"type\":\"scattergeo\",\"marker\":{\"colorbar\":{\"outlinewidth\":0,\"ticks\":\"\"}}}],\"scatterpolar\":[{\"type\":\"scatterpolar\",\"marker\":{\"colorbar\":{\"outlinewidth\":0,\"ticks\":\"\"}}}],\"histogram\":[{\"marker\":{\"pattern\":{\"fillmode\":\"overlay\",\"size\":10,\"solidity\":0.2}},\"type\":\"histogram\"}],\"scattergl\":[{\"type\":\"scattergl\",\"marker\":{\"colorbar\":{\"outlinewidth\":0,\"ticks\":\"\"}}}],\"scatter3d\":[{\"type\":\"scatter3d\",\"line\":{\"colorbar\":{\"outlinewidth\":0,\"ticks\":\"\"}},\"marker\":{\"colorbar\":{\"outlinewidth\":0,\"ticks\":\"\"}}}],\"scattermapbox\":[{\"type\":\"scattermapbox\",\"marker\":{\"colorbar\":{\"outlinewidth\":0,\"ticks\":\"\"}}}],\"scatterternary\":[{\"type\":\"scatterternary\",\"marker\":{\"colorbar\":{\"outlinewidth\":0,\"ticks\":\"\"}}}],\"scattercarpet\":[{\"type\":\"scattercarpet\",\"marker\":{\"colorbar\":{\"outlinewidth\":0,\"ticks\":\"\"}}}],\"carpet\":[{\"aaxis\":{\"endlinecolor\":\"#2a3f5f\",\"gridcolor\":\"white\",\"linecolor\":\"white\",\"minorgridcolor\":\"white\",\"startlinecolor\":\"#2a3f5f\"},\"baxis\":{\"endlinecolor\":\"#2a3f5f\",\"gridcolor\":\"white\",\"linecolor\":\"white\",\"minorgridcolor\":\"white\",\"startlinecolor\":\"#2a3f5f\"},\"type\":\"carpet\"}],\"table\":[{\"cells\":{\"fill\":{\"color\":\"#EBF0F8\"},\"line\":{\"color\":\"white\"}},\"header\":{\"fill\":{\"color\":\"#C8D4E3\"},\"line\":{\"color\":\"white\"}},\"type\":\"table\"}],\"barpolar\":[{\"marker\":{\"line\":{\"color\":\"#E5ECF6\",\"width\":0.5},\"pattern\":{\"fillmode\":\"overlay\",\"size\":10,\"solidity\":0.2}},\"type\":\"barpolar\"}],\"pie\":[{\"automargin\":true,\"type\":\"pie\"}]},\"layout\":{\"autotypenumbers\":\"strict\",\"colorway\":[\"#636efa\",\"#EF553B\",\"#00cc96\",\"#ab63fa\",\"#FFA15A\",\"#19d3f3\",\"#FF6692\",\"#B6E880\",\"#FF97FF\",\"#FECB52\"],\"font\":{\"color\":\"#2a3f5f\"},\"hovermode\":\"closest\",\"hoverlabel\":{\"align\":\"left\"},\"paper_bgcolor\":\"white\",\"plot_bgcolor\":\"#E5ECF6\",\"polar\":{\"bgcolor\":\"#E5ECF6\",\"angularaxis\":{\"gridcolor\":\"white\",\"linecolor\":\"white\",\"ticks\":\"\"},\"radialaxis\":{\"gridcolor\":\"white\",\"linecolor\":\"white\",\"ticks\":\"\"}},\"ternary\":{\"bgcolor\":\"#E5ECF6\",\"aaxis\":{\"gridcolor\":\"white\",\"linecolor\":\"white\",\"ticks\":\"\"},\"baxis\":{\"gridcolor\":\"white\",\"linecolor\":\"white\",\"ticks\":\"\"},\"caxis\":{\"gridcolor\":\"white\",\"linecolor\":\"white\",\"ticks\":\"\"}},\"coloraxis\":{\"colorbar\":{\"outlinewidth\":0,\"ticks\":\"\"}},\"colorscale\":{\"sequential\":[[0.0,\"#0d0887\"],[0.1111111111111111,\"#46039f\"],[0.2222222222222222,\"#7201a8\"],[0.3333333333333333,\"#9c179e\"],[0.4444444444444444,\"#bd3786\"],[0.5555555555555556,\"#d8576b\"],[0.6666666666666666,\"#ed7953\"],[0.7777777777777778,\"#fb9f3a\"],[0.8888888888888888,\"#fdca26\"],[1.0,\"#f0f921\"]],\"sequentialminus\":[[0.0,\"#0d0887\"],[0.1111111111111111,\"#46039f\"],[0.2222222222222222,\"#7201a8\"],[0.3333333333333333,\"#9c179e\"],[0.4444444444444444,\"#bd3786\"],[0.5555555555555556,\"#d8576b\"],[0.6666666666666666,\"#ed7953\"],[0.7777777777777778,\"#fb9f3a\"],[0.8888888888888888,\"#fdca26\"],[1.0,\"#f0f921\"]],\"diverging\":[[0,\"#8e0152\"],[0.1,\"#c51b7d\"],[0.2,\"#de77ae\"],[0.3,\"#f1b6da\"],[0.4,\"#fde0ef\"],[0.5,\"#f7f7f7\"],[0.6,\"#e6f5d0\"],[0.7,\"#b8e186\"],[0.8,\"#7fbc41\"],[0.9,\"#4d9221\"],[1,\"#276419\"]]},\"xaxis\":{\"gridcolor\":\"white\",\"linecolor\":\"white\",\"ticks\":\"\",\"title\":{\"standoff\":15},\"zerolinecolor\":\"white\",\"automargin\":true,\"zerolinewidth\":2},\"yaxis\":{\"gridcolor\":\"white\",\"linecolor\":\"white\",\"ticks\":\"\",\"title\":{\"standoff\":15},\"zerolinecolor\":\"white\",\"automargin\":true,\"zerolinewidth\":2},\"scene\":{\"xaxis\":{\"backgroundcolor\":\"#E5ECF6\",\"gridcolor\":\"white\",\"linecolor\":\"white\",\"showbackground\":true,\"ticks\":\"\",\"zerolinecolor\":\"white\",\"gridwidth\":2},\"yaxis\":{\"backgroundcolor\":\"#E5ECF6\",\"gridcolor\":\"white\",\"linecolor\":\"white\",\"showbackground\":true,\"ticks\":\"\",\"zerolinecolor\":\"white\",\"gridwidth\":2},\"zaxis\":{\"backgroundcolor\":\"#E5ECF6\",\"gridcolor\":\"white\",\"linecolor\":\"white\",\"showbackground\":true,\"ticks\":\"\",\"zerolinecolor\":\"white\",\"gridwidth\":2}},\"shapedefaults\":{\"line\":{\"color\":\"#2a3f5f\"}},\"annotationdefaults\":{\"arrowcolor\":\"#2a3f5f\",\"arrowhead\":0,\"arrowwidth\":1},\"geo\":{\"bgcolor\":\"white\",\"landcolor\":\"#E5ECF6\",\"subunitcolor\":\"white\",\"showland\":true,\"showlakes\":true,\"lakecolor\":\"white\"},\"title\":{\"x\":0.05},\"mapbox\":{\"style\":\"light\"}}}},                        {\"responsive\": true}                    ).then(function(){\n",
       "                            \n",
       "var gd = document.getElementById('e26d39a9-59ad-4b75-99f4-b14ab0ba0699');\n",
       "var x = new MutationObserver(function (mutations, observer) {{\n",
       "        var display = window.getComputedStyle(gd).display;\n",
       "        if (!display || display === 'none') {{\n",
       "            console.log([gd, 'removed!']);\n",
       "            Plotly.purge(gd);\n",
       "            observer.disconnect();\n",
       "        }}\n",
       "}});\n",
       "\n",
       "// Listen for the removal of the full notebook cells\n",
       "var notebookContainer = gd.closest('#notebook-container');\n",
       "if (notebookContainer) {{\n",
       "    x.observe(notebookContainer, {childList: true});\n",
       "}}\n",
       "\n",
       "// Listen for the clearing of the current output cell\n",
       "var outputEl = gd.closest('.output');\n",
       "if (outputEl) {{\n",
       "    x.observe(outputEl, {childList: true});\n",
       "}}\n",
       "\n",
       "                        })                };                });            </script>        </div>"
      ]
     },
     "metadata": {},
     "output_type": "display_data"
    }
   ],
   "source": [
    "fig = optuna.visualization.plot_optimization_history(tabnetclf_study)\n",
    "fig.show()"
   ]
  },
  {
   "cell_type": "code",
   "execution_count": 87,
   "id": "a8fd3c41",
   "metadata": {},
   "outputs": [
    {
     "data": {
      "application/vnd.plotly.v1+json": {
       "config": {
        "plotlyServerURL": "https://plot.ly"
       },
       "data": [
        {
         "mode": "markers",
         "name": "Objective Value",
         "type": "scatter",
         "x": [
          0,
          1,
          2,
          3,
          4,
          5,
          6,
          7,
          8,
          9,
          10,
          11,
          12,
          13,
          14,
          15,
          16,
          17,
          18,
          19,
          20,
          21,
          22,
          23,
          24,
          25,
          26,
          27,
          28,
          29,
          30,
          31,
          32,
          33,
          34,
          35,
          36,
          37,
          38,
          39,
          40,
          41,
          42,
          43,
          44,
          45,
          46,
          47,
          48,
          49,
          50,
          51,
          52,
          53,
          54,
          55,
          56,
          57,
          58,
          59,
          60,
          61,
          62,
          63,
          64,
          65,
          66,
          67,
          68,
          69,
          70,
          71,
          72,
          73,
          74,
          75,
          76,
          77,
          78,
          79,
          80,
          81,
          82,
          83,
          84,
          85,
          86,
          87,
          88,
          89,
          90,
          91,
          92,
          93,
          94,
          95,
          96,
          97,
          98,
          99
         ],
         "y": [
          0.8567128236002408,
          0.8446718844069837,
          0.5015051173991572,
          0.8061408789885611,
          0.769416014449127,
          0.8211920529801324,
          0.8356411800120409,
          0.8061408789885611,
          0.8133654425045154,
          0.5015051173991572,
          0.831426851294401,
          0.8446718844069837,
          0.8374473208910295,
          0.8446718844069837,
          0.8031306441902468,
          0.8260084286574353,
          0.8446718844069837,
          0.8374473208910295,
          0.5875978326309452,
          0.831426851294401,
          0.8326309452137267,
          0.8446718844069837,
          0.8446718844069837,
          0.8446718844069837,
          0.8446718844069837,
          0.7934978928356412,
          0.8061408789885611,
          0.8031306441902468,
          0.8446718844069837,
          0.831426851294401,
          0.5015051173991572,
          0.8446718844069837,
          0.8446718844069837,
          0.8446718844069837,
          0.7934978928356412,
          0.8326309452137267,
          0.794099939795304,
          0.8446718844069837,
          0.8434677904876581,
          0.5015051173991572,
          0.8061408789885611,
          0.8446718844069837,
          0.8446718844069837,
          0.8446718844069837,
          0.8446718844069837,
          0.7934978928356412,
          0.8374473208910295,
          0.831426851294401,
          0.8031306441902468,
          0.8446718844069837,
          0.8133654425045154,
          0.8446718844069837,
          0.8446718844069837,
          0.8446718844069837,
          0.8446718844069837,
          0.8434677904876581,
          0.8567128236002408,
          0.7928958458759783,
          0.8151715833835039,
          0.8031306441902468,
          0.769416014449127,
          0.8374473208910295,
          0.8567128236002408,
          0.8567128236002408,
          0.8567128236002408,
          0.8567128236002408,
          0.8260084286574353,
          0.8567128236002408,
          0.8567128236002408,
          0.8151715833835039,
          0.8567128236002408,
          0.8567128236002408,
          0.8567128236002408,
          0.8567128236002408,
          0.8567128236002408,
          0.8567128236002408,
          0.7928958458759783,
          0.8326309452137267,
          0.8567128236002408,
          0.769416014449127,
          0.8260084286574353,
          0.8567128236002408,
          0.8567128236002408,
          0.8567128236002408,
          0.8567128236002408,
          0.8031306441902468,
          0.8567128236002408,
          0.8151715833835039,
          0.8567128236002408,
          0.8567128236002408,
          0.8567128236002408,
          0.8567128236002408,
          0.8567128236002408,
          0.8567128236002408,
          0.8567128236002408,
          0.8061408789885611,
          0.8338350391330523,
          0.8567128236002408,
          0.7928958458759783,
          0.8260084286574353
         ]
        },
        {
         "name": "Best Value",
         "type": "scatter",
         "x": [
          0,
          1,
          2,
          3,
          4,
          5,
          6,
          7,
          8,
          9,
          10,
          11,
          12,
          13,
          14,
          15,
          16,
          17,
          18,
          19,
          20,
          21,
          22,
          23,
          24,
          25,
          26,
          27,
          28,
          29,
          30,
          31,
          32,
          33,
          34,
          35,
          36,
          37,
          38,
          39,
          40,
          41,
          42,
          43,
          44,
          45,
          46,
          47,
          48,
          49,
          50,
          51,
          52,
          53,
          54,
          55,
          56,
          57,
          58,
          59,
          60,
          61,
          62,
          63,
          64,
          65,
          66,
          67,
          68,
          69,
          70,
          71,
          72,
          73,
          74,
          75,
          76,
          77,
          78,
          79,
          80,
          81,
          82,
          83,
          84,
          85,
          86,
          87,
          88,
          89,
          90,
          91,
          92,
          93,
          94,
          95,
          96,
          97,
          98,
          99
         ],
         "y": [
          0.8567128236002408,
          0.8567128236002408,
          0.8567128236002408,
          0.8567128236002408,
          0.8567128236002408,
          0.8567128236002408,
          0.8567128236002408,
          0.8567128236002408,
          0.8567128236002408,
          0.8567128236002408,
          0.8567128236002408,
          0.8567128236002408,
          0.8567128236002408,
          0.8567128236002408,
          0.8567128236002408,
          0.8567128236002408,
          0.8567128236002408,
          0.8567128236002408,
          0.8567128236002408,
          0.8567128236002408,
          0.8567128236002408,
          0.8567128236002408,
          0.8567128236002408,
          0.8567128236002408,
          0.8567128236002408,
          0.8567128236002408,
          0.8567128236002408,
          0.8567128236002408,
          0.8567128236002408,
          0.8567128236002408,
          0.8567128236002408,
          0.8567128236002408,
          0.8567128236002408,
          0.8567128236002408,
          0.8567128236002408,
          0.8567128236002408,
          0.8567128236002408,
          0.8567128236002408,
          0.8567128236002408,
          0.8567128236002408,
          0.8567128236002408,
          0.8567128236002408,
          0.8567128236002408,
          0.8567128236002408,
          0.8567128236002408,
          0.8567128236002408,
          0.8567128236002408,
          0.8567128236002408,
          0.8567128236002408,
          0.8567128236002408,
          0.8567128236002408,
          0.8567128236002408,
          0.8567128236002408,
          0.8567128236002408,
          0.8567128236002408,
          0.8567128236002408,
          0.8567128236002408,
          0.8567128236002408,
          0.8567128236002408,
          0.8567128236002408,
          0.8567128236002408,
          0.8567128236002408,
          0.8567128236002408,
          0.8567128236002408,
          0.8567128236002408,
          0.8567128236002408,
          0.8567128236002408,
          0.8567128236002408,
          0.8567128236002408,
          0.8567128236002408,
          0.8567128236002408,
          0.8567128236002408,
          0.8567128236002408,
          0.8567128236002408,
          0.8567128236002408,
          0.8567128236002408,
          0.8567128236002408,
          0.8567128236002408,
          0.8567128236002408,
          0.8567128236002408,
          0.8567128236002408,
          0.8567128236002408,
          0.8567128236002408,
          0.8567128236002408,
          0.8567128236002408,
          0.8567128236002408,
          0.8567128236002408,
          0.8567128236002408,
          0.8567128236002408,
          0.8567128236002408,
          0.8567128236002408,
          0.8567128236002408,
          0.8567128236002408,
          0.8567128236002408,
          0.8567128236002408,
          0.8567128236002408,
          0.8567128236002408,
          0.8567128236002408,
          0.8567128236002408,
          0.8567128236002408
         ]
        }
       ],
       "layout": {
        "template": {
         "data": {
          "bar": [
           {
            "error_x": {
             "color": "#2a3f5f"
            },
            "error_y": {
             "color": "#2a3f5f"
            },
            "marker": {
             "line": {
              "color": "#E5ECF6",
              "width": 0.5
             },
             "pattern": {
              "fillmode": "overlay",
              "size": 10,
              "solidity": 0.2
             }
            },
            "type": "bar"
           }
          ],
          "barpolar": [
           {
            "marker": {
             "line": {
              "color": "#E5ECF6",
              "width": 0.5
             },
             "pattern": {
              "fillmode": "overlay",
              "size": 10,
              "solidity": 0.2
             }
            },
            "type": "barpolar"
           }
          ],
          "carpet": [
           {
            "aaxis": {
             "endlinecolor": "#2a3f5f",
             "gridcolor": "white",
             "linecolor": "white",
             "minorgridcolor": "white",
             "startlinecolor": "#2a3f5f"
            },
            "baxis": {
             "endlinecolor": "#2a3f5f",
             "gridcolor": "white",
             "linecolor": "white",
             "minorgridcolor": "white",
             "startlinecolor": "#2a3f5f"
            },
            "type": "carpet"
           }
          ],
          "choropleth": [
           {
            "colorbar": {
             "outlinewidth": 0,
             "ticks": ""
            },
            "type": "choropleth"
           }
          ],
          "contour": [
           {
            "colorbar": {
             "outlinewidth": 0,
             "ticks": ""
            },
            "colorscale": [
             [
              0,
              "#0d0887"
             ],
             [
              0.1111111111111111,
              "#46039f"
             ],
             [
              0.2222222222222222,
              "#7201a8"
             ],
             [
              0.3333333333333333,
              "#9c179e"
             ],
             [
              0.4444444444444444,
              "#bd3786"
             ],
             [
              0.5555555555555556,
              "#d8576b"
             ],
             [
              0.6666666666666666,
              "#ed7953"
             ],
             [
              0.7777777777777778,
              "#fb9f3a"
             ],
             [
              0.8888888888888888,
              "#fdca26"
             ],
             [
              1,
              "#f0f921"
             ]
            ],
            "type": "contour"
           }
          ],
          "contourcarpet": [
           {
            "colorbar": {
             "outlinewidth": 0,
             "ticks": ""
            },
            "type": "contourcarpet"
           }
          ],
          "heatmap": [
           {
            "colorbar": {
             "outlinewidth": 0,
             "ticks": ""
            },
            "colorscale": [
             [
              0,
              "#0d0887"
             ],
             [
              0.1111111111111111,
              "#46039f"
             ],
             [
              0.2222222222222222,
              "#7201a8"
             ],
             [
              0.3333333333333333,
              "#9c179e"
             ],
             [
              0.4444444444444444,
              "#bd3786"
             ],
             [
              0.5555555555555556,
              "#d8576b"
             ],
             [
              0.6666666666666666,
              "#ed7953"
             ],
             [
              0.7777777777777778,
              "#fb9f3a"
             ],
             [
              0.8888888888888888,
              "#fdca26"
             ],
             [
              1,
              "#f0f921"
             ]
            ],
            "type": "heatmap"
           }
          ],
          "heatmapgl": [
           {
            "colorbar": {
             "outlinewidth": 0,
             "ticks": ""
            },
            "colorscale": [
             [
              0,
              "#0d0887"
             ],
             [
              0.1111111111111111,
              "#46039f"
             ],
             [
              0.2222222222222222,
              "#7201a8"
             ],
             [
              0.3333333333333333,
              "#9c179e"
             ],
             [
              0.4444444444444444,
              "#bd3786"
             ],
             [
              0.5555555555555556,
              "#d8576b"
             ],
             [
              0.6666666666666666,
              "#ed7953"
             ],
             [
              0.7777777777777778,
              "#fb9f3a"
             ],
             [
              0.8888888888888888,
              "#fdca26"
             ],
             [
              1,
              "#f0f921"
             ]
            ],
            "type": "heatmapgl"
           }
          ],
          "histogram": [
           {
            "marker": {
             "pattern": {
              "fillmode": "overlay",
              "size": 10,
              "solidity": 0.2
             }
            },
            "type": "histogram"
           }
          ],
          "histogram2d": [
           {
            "colorbar": {
             "outlinewidth": 0,
             "ticks": ""
            },
            "colorscale": [
             [
              0,
              "#0d0887"
             ],
             [
              0.1111111111111111,
              "#46039f"
             ],
             [
              0.2222222222222222,
              "#7201a8"
             ],
             [
              0.3333333333333333,
              "#9c179e"
             ],
             [
              0.4444444444444444,
              "#bd3786"
             ],
             [
              0.5555555555555556,
              "#d8576b"
             ],
             [
              0.6666666666666666,
              "#ed7953"
             ],
             [
              0.7777777777777778,
              "#fb9f3a"
             ],
             [
              0.8888888888888888,
              "#fdca26"
             ],
             [
              1,
              "#f0f921"
             ]
            ],
            "type": "histogram2d"
           }
          ],
          "histogram2dcontour": [
           {
            "colorbar": {
             "outlinewidth": 0,
             "ticks": ""
            },
            "colorscale": [
             [
              0,
              "#0d0887"
             ],
             [
              0.1111111111111111,
              "#46039f"
             ],
             [
              0.2222222222222222,
              "#7201a8"
             ],
             [
              0.3333333333333333,
              "#9c179e"
             ],
             [
              0.4444444444444444,
              "#bd3786"
             ],
             [
              0.5555555555555556,
              "#d8576b"
             ],
             [
              0.6666666666666666,
              "#ed7953"
             ],
             [
              0.7777777777777778,
              "#fb9f3a"
             ],
             [
              0.8888888888888888,
              "#fdca26"
             ],
             [
              1,
              "#f0f921"
             ]
            ],
            "type": "histogram2dcontour"
           }
          ],
          "mesh3d": [
           {
            "colorbar": {
             "outlinewidth": 0,
             "ticks": ""
            },
            "type": "mesh3d"
           }
          ],
          "parcoords": [
           {
            "line": {
             "colorbar": {
              "outlinewidth": 0,
              "ticks": ""
             }
            },
            "type": "parcoords"
           }
          ],
          "pie": [
           {
            "automargin": true,
            "type": "pie"
           }
          ],
          "scatter": [
           {
            "fillpattern": {
             "fillmode": "overlay",
             "size": 10,
             "solidity": 0.2
            },
            "type": "scatter"
           }
          ],
          "scatter3d": [
           {
            "line": {
             "colorbar": {
              "outlinewidth": 0,
              "ticks": ""
             }
            },
            "marker": {
             "colorbar": {
              "outlinewidth": 0,
              "ticks": ""
             }
            },
            "type": "scatter3d"
           }
          ],
          "scattercarpet": [
           {
            "marker": {
             "colorbar": {
              "outlinewidth": 0,
              "ticks": ""
             }
            },
            "type": "scattercarpet"
           }
          ],
          "scattergeo": [
           {
            "marker": {
             "colorbar": {
              "outlinewidth": 0,
              "ticks": ""
             }
            },
            "type": "scattergeo"
           }
          ],
          "scattergl": [
           {
            "marker": {
             "colorbar": {
              "outlinewidth": 0,
              "ticks": ""
             }
            },
            "type": "scattergl"
           }
          ],
          "scattermapbox": [
           {
            "marker": {
             "colorbar": {
              "outlinewidth": 0,
              "ticks": ""
             }
            },
            "type": "scattermapbox"
           }
          ],
          "scatterpolar": [
           {
            "marker": {
             "colorbar": {
              "outlinewidth": 0,
              "ticks": ""
             }
            },
            "type": "scatterpolar"
           }
          ],
          "scatterpolargl": [
           {
            "marker": {
             "colorbar": {
              "outlinewidth": 0,
              "ticks": ""
             }
            },
            "type": "scatterpolargl"
           }
          ],
          "scatterternary": [
           {
            "marker": {
             "colorbar": {
              "outlinewidth": 0,
              "ticks": ""
             }
            },
            "type": "scatterternary"
           }
          ],
          "surface": [
           {
            "colorbar": {
             "outlinewidth": 0,
             "ticks": ""
            },
            "colorscale": [
             [
              0,
              "#0d0887"
             ],
             [
              0.1111111111111111,
              "#46039f"
             ],
             [
              0.2222222222222222,
              "#7201a8"
             ],
             [
              0.3333333333333333,
              "#9c179e"
             ],
             [
              0.4444444444444444,
              "#bd3786"
             ],
             [
              0.5555555555555556,
              "#d8576b"
             ],
             [
              0.6666666666666666,
              "#ed7953"
             ],
             [
              0.7777777777777778,
              "#fb9f3a"
             ],
             [
              0.8888888888888888,
              "#fdca26"
             ],
             [
              1,
              "#f0f921"
             ]
            ],
            "type": "surface"
           }
          ],
          "table": [
           {
            "cells": {
             "fill": {
              "color": "#EBF0F8"
             },
             "line": {
              "color": "white"
             }
            },
            "header": {
             "fill": {
              "color": "#C8D4E3"
             },
             "line": {
              "color": "white"
             }
            },
            "type": "table"
           }
          ]
         },
         "layout": {
          "annotationdefaults": {
           "arrowcolor": "#2a3f5f",
           "arrowhead": 0,
           "arrowwidth": 1
          },
          "autotypenumbers": "strict",
          "coloraxis": {
           "colorbar": {
            "outlinewidth": 0,
            "ticks": ""
           }
          },
          "colorscale": {
           "diverging": [
            [
             0,
             "#8e0152"
            ],
            [
             0.1,
             "#c51b7d"
            ],
            [
             0.2,
             "#de77ae"
            ],
            [
             0.3,
             "#f1b6da"
            ],
            [
             0.4,
             "#fde0ef"
            ],
            [
             0.5,
             "#f7f7f7"
            ],
            [
             0.6,
             "#e6f5d0"
            ],
            [
             0.7,
             "#b8e186"
            ],
            [
             0.8,
             "#7fbc41"
            ],
            [
             0.9,
             "#4d9221"
            ],
            [
             1,
             "#276419"
            ]
           ],
           "sequential": [
            [
             0,
             "#0d0887"
            ],
            [
             0.1111111111111111,
             "#46039f"
            ],
            [
             0.2222222222222222,
             "#7201a8"
            ],
            [
             0.3333333333333333,
             "#9c179e"
            ],
            [
             0.4444444444444444,
             "#bd3786"
            ],
            [
             0.5555555555555556,
             "#d8576b"
            ],
            [
             0.6666666666666666,
             "#ed7953"
            ],
            [
             0.7777777777777778,
             "#fb9f3a"
            ],
            [
             0.8888888888888888,
             "#fdca26"
            ],
            [
             1,
             "#f0f921"
            ]
           ],
           "sequentialminus": [
            [
             0,
             "#0d0887"
            ],
            [
             0.1111111111111111,
             "#46039f"
            ],
            [
             0.2222222222222222,
             "#7201a8"
            ],
            [
             0.3333333333333333,
             "#9c179e"
            ],
            [
             0.4444444444444444,
             "#bd3786"
            ],
            [
             0.5555555555555556,
             "#d8576b"
            ],
            [
             0.6666666666666666,
             "#ed7953"
            ],
            [
             0.7777777777777778,
             "#fb9f3a"
            ],
            [
             0.8888888888888888,
             "#fdca26"
            ],
            [
             1,
             "#f0f921"
            ]
           ]
          },
          "colorway": [
           "#636efa",
           "#EF553B",
           "#00cc96",
           "#ab63fa",
           "#FFA15A",
           "#19d3f3",
           "#FF6692",
           "#B6E880",
           "#FF97FF",
           "#FECB52"
          ],
          "font": {
           "color": "#2a3f5f"
          },
          "geo": {
           "bgcolor": "white",
           "lakecolor": "white",
           "landcolor": "#E5ECF6",
           "showlakes": true,
           "showland": true,
           "subunitcolor": "white"
          },
          "hoverlabel": {
           "align": "left"
          },
          "hovermode": "closest",
          "mapbox": {
           "style": "light"
          },
          "paper_bgcolor": "white",
          "plot_bgcolor": "#E5ECF6",
          "polar": {
           "angularaxis": {
            "gridcolor": "white",
            "linecolor": "white",
            "ticks": ""
           },
           "bgcolor": "#E5ECF6",
           "radialaxis": {
            "gridcolor": "white",
            "linecolor": "white",
            "ticks": ""
           }
          },
          "scene": {
           "xaxis": {
            "backgroundcolor": "#E5ECF6",
            "gridcolor": "white",
            "gridwidth": 2,
            "linecolor": "white",
            "showbackground": true,
            "ticks": "",
            "zerolinecolor": "white"
           },
           "yaxis": {
            "backgroundcolor": "#E5ECF6",
            "gridcolor": "white",
            "gridwidth": 2,
            "linecolor": "white",
            "showbackground": true,
            "ticks": "",
            "zerolinecolor": "white"
           },
           "zaxis": {
            "backgroundcolor": "#E5ECF6",
            "gridcolor": "white",
            "gridwidth": 2,
            "linecolor": "white",
            "showbackground": true,
            "ticks": "",
            "zerolinecolor": "white"
           }
          },
          "shapedefaults": {
           "line": {
            "color": "#2a3f5f"
           }
          },
          "ternary": {
           "aaxis": {
            "gridcolor": "white",
            "linecolor": "white",
            "ticks": ""
           },
           "baxis": {
            "gridcolor": "white",
            "linecolor": "white",
            "ticks": ""
           },
           "bgcolor": "#E5ECF6",
           "caxis": {
            "gridcolor": "white",
            "linecolor": "white",
            "ticks": ""
           }
          },
          "title": {
           "x": 0.05
          },
          "xaxis": {
           "automargin": true,
           "gridcolor": "white",
           "linecolor": "white",
           "ticks": "",
           "title": {
            "standoff": 15
           },
           "zerolinecolor": "white",
           "zerolinewidth": 2
          },
          "yaxis": {
           "automargin": true,
           "gridcolor": "white",
           "linecolor": "white",
           "ticks": "",
           "title": {
            "standoff": 15
           },
           "zerolinecolor": "white",
           "zerolinewidth": 2
          }
         }
        },
        "title": {
         "text": "Optimization History Plot"
        },
        "xaxis": {
         "title": {
          "text": "Trial"
         }
        },
        "yaxis": {
         "title": {
          "text": "Objective Value"
         }
        }
       }
      },
      "text/html": [
       "<div>                            <div id=\"c5445d79-65d1-4593-8fdf-ea004b681865\" class=\"plotly-graph-div\" style=\"height:525px; width:100%;\"></div>            <script type=\"text/javascript\">                require([\"plotly\"], function(Plotly) {                    window.PLOTLYENV=window.PLOTLYENV || {};                                    if (document.getElementById(\"c5445d79-65d1-4593-8fdf-ea004b681865\")) {                    Plotly.newPlot(                        \"c5445d79-65d1-4593-8fdf-ea004b681865\",                        [{\"mode\":\"markers\",\"name\":\"Objective Value\",\"x\":[0,1,2,3,4,5,6,7,8,9,10,11,12,13,14,15,16,17,18,19,20,21,22,23,24,25,26,27,28,29,30,31,32,33,34,35,36,37,38,39,40,41,42,43,44,45,46,47,48,49,50,51,52,53,54,55,56,57,58,59,60,61,62,63,64,65,66,67,68,69,70,71,72,73,74,75,76,77,78,79,80,81,82,83,84,85,86,87,88,89,90,91,92,93,94,95,96,97,98,99],\"y\":[0.8567128236002408,0.8446718844069837,0.5015051173991572,0.8061408789885611,0.769416014449127,0.8211920529801324,0.8356411800120409,0.8061408789885611,0.8133654425045154,0.5015051173991572,0.831426851294401,0.8446718844069837,0.8374473208910295,0.8446718844069837,0.8031306441902468,0.8260084286574353,0.8446718844069837,0.8374473208910295,0.5875978326309452,0.831426851294401,0.8326309452137267,0.8446718844069837,0.8446718844069837,0.8446718844069837,0.8446718844069837,0.7934978928356412,0.8061408789885611,0.8031306441902468,0.8446718844069837,0.831426851294401,0.5015051173991572,0.8446718844069837,0.8446718844069837,0.8446718844069837,0.7934978928356412,0.8326309452137267,0.794099939795304,0.8446718844069837,0.8434677904876581,0.5015051173991572,0.8061408789885611,0.8446718844069837,0.8446718844069837,0.8446718844069837,0.8446718844069837,0.7934978928356412,0.8374473208910295,0.831426851294401,0.8031306441902468,0.8446718844069837,0.8133654425045154,0.8446718844069837,0.8446718844069837,0.8446718844069837,0.8446718844069837,0.8434677904876581,0.8567128236002408,0.7928958458759783,0.8151715833835039,0.8031306441902468,0.769416014449127,0.8374473208910295,0.8567128236002408,0.8567128236002408,0.8567128236002408,0.8567128236002408,0.8260084286574353,0.8567128236002408,0.8567128236002408,0.8151715833835039,0.8567128236002408,0.8567128236002408,0.8567128236002408,0.8567128236002408,0.8567128236002408,0.8567128236002408,0.7928958458759783,0.8326309452137267,0.8567128236002408,0.769416014449127,0.8260084286574353,0.8567128236002408,0.8567128236002408,0.8567128236002408,0.8567128236002408,0.8031306441902468,0.8567128236002408,0.8151715833835039,0.8567128236002408,0.8567128236002408,0.8567128236002408,0.8567128236002408,0.8567128236002408,0.8567128236002408,0.8567128236002408,0.8061408789885611,0.8338350391330523,0.8567128236002408,0.7928958458759783,0.8260084286574353],\"type\":\"scatter\"},{\"name\":\"Best Value\",\"x\":[0,1,2,3,4,5,6,7,8,9,10,11,12,13,14,15,16,17,18,19,20,21,22,23,24,25,26,27,28,29,30,31,32,33,34,35,36,37,38,39,40,41,42,43,44,45,46,47,48,49,50,51,52,53,54,55,56,57,58,59,60,61,62,63,64,65,66,67,68,69,70,71,72,73,74,75,76,77,78,79,80,81,82,83,84,85,86,87,88,89,90,91,92,93,94,95,96,97,98,99],\"y\":[0.8567128236002408,0.8567128236002408,0.8567128236002408,0.8567128236002408,0.8567128236002408,0.8567128236002408,0.8567128236002408,0.8567128236002408,0.8567128236002408,0.8567128236002408,0.8567128236002408,0.8567128236002408,0.8567128236002408,0.8567128236002408,0.8567128236002408,0.8567128236002408,0.8567128236002408,0.8567128236002408,0.8567128236002408,0.8567128236002408,0.8567128236002408,0.8567128236002408,0.8567128236002408,0.8567128236002408,0.8567128236002408,0.8567128236002408,0.8567128236002408,0.8567128236002408,0.8567128236002408,0.8567128236002408,0.8567128236002408,0.8567128236002408,0.8567128236002408,0.8567128236002408,0.8567128236002408,0.8567128236002408,0.8567128236002408,0.8567128236002408,0.8567128236002408,0.8567128236002408,0.8567128236002408,0.8567128236002408,0.8567128236002408,0.8567128236002408,0.8567128236002408,0.8567128236002408,0.8567128236002408,0.8567128236002408,0.8567128236002408,0.8567128236002408,0.8567128236002408,0.8567128236002408,0.8567128236002408,0.8567128236002408,0.8567128236002408,0.8567128236002408,0.8567128236002408,0.8567128236002408,0.8567128236002408,0.8567128236002408,0.8567128236002408,0.8567128236002408,0.8567128236002408,0.8567128236002408,0.8567128236002408,0.8567128236002408,0.8567128236002408,0.8567128236002408,0.8567128236002408,0.8567128236002408,0.8567128236002408,0.8567128236002408,0.8567128236002408,0.8567128236002408,0.8567128236002408,0.8567128236002408,0.8567128236002408,0.8567128236002408,0.8567128236002408,0.8567128236002408,0.8567128236002408,0.8567128236002408,0.8567128236002408,0.8567128236002408,0.8567128236002408,0.8567128236002408,0.8567128236002408,0.8567128236002408,0.8567128236002408,0.8567128236002408,0.8567128236002408,0.8567128236002408,0.8567128236002408,0.8567128236002408,0.8567128236002408,0.8567128236002408,0.8567128236002408,0.8567128236002408,0.8567128236002408,0.8567128236002408],\"type\":\"scatter\"}],                        {\"title\":{\"text\":\"Optimization History Plot\"},\"xaxis\":{\"title\":{\"text\":\"Trial\"}},\"yaxis\":{\"title\":{\"text\":\"Objective Value\"}},\"template\":{\"data\":{\"histogram2dcontour\":[{\"type\":\"histogram2dcontour\",\"colorbar\":{\"outlinewidth\":0,\"ticks\":\"\"},\"colorscale\":[[0.0,\"#0d0887\"],[0.1111111111111111,\"#46039f\"],[0.2222222222222222,\"#7201a8\"],[0.3333333333333333,\"#9c179e\"],[0.4444444444444444,\"#bd3786\"],[0.5555555555555556,\"#d8576b\"],[0.6666666666666666,\"#ed7953\"],[0.7777777777777778,\"#fb9f3a\"],[0.8888888888888888,\"#fdca26\"],[1.0,\"#f0f921\"]]}],\"choropleth\":[{\"type\":\"choropleth\",\"colorbar\":{\"outlinewidth\":0,\"ticks\":\"\"}}],\"histogram2d\":[{\"type\":\"histogram2d\",\"colorbar\":{\"outlinewidth\":0,\"ticks\":\"\"},\"colorscale\":[[0.0,\"#0d0887\"],[0.1111111111111111,\"#46039f\"],[0.2222222222222222,\"#7201a8\"],[0.3333333333333333,\"#9c179e\"],[0.4444444444444444,\"#bd3786\"],[0.5555555555555556,\"#d8576b\"],[0.6666666666666666,\"#ed7953\"],[0.7777777777777778,\"#fb9f3a\"],[0.8888888888888888,\"#fdca26\"],[1.0,\"#f0f921\"]]}],\"heatmap\":[{\"type\":\"heatmap\",\"colorbar\":{\"outlinewidth\":0,\"ticks\":\"\"},\"colorscale\":[[0.0,\"#0d0887\"],[0.1111111111111111,\"#46039f\"],[0.2222222222222222,\"#7201a8\"],[0.3333333333333333,\"#9c179e\"],[0.4444444444444444,\"#bd3786\"],[0.5555555555555556,\"#d8576b\"],[0.6666666666666666,\"#ed7953\"],[0.7777777777777778,\"#fb9f3a\"],[0.8888888888888888,\"#fdca26\"],[1.0,\"#f0f921\"]]}],\"heatmapgl\":[{\"type\":\"heatmapgl\",\"colorbar\":{\"outlinewidth\":0,\"ticks\":\"\"},\"colorscale\":[[0.0,\"#0d0887\"],[0.1111111111111111,\"#46039f\"],[0.2222222222222222,\"#7201a8\"],[0.3333333333333333,\"#9c179e\"],[0.4444444444444444,\"#bd3786\"],[0.5555555555555556,\"#d8576b\"],[0.6666666666666666,\"#ed7953\"],[0.7777777777777778,\"#fb9f3a\"],[0.8888888888888888,\"#fdca26\"],[1.0,\"#f0f921\"]]}],\"contourcarpet\":[{\"type\":\"contourcarpet\",\"colorbar\":{\"outlinewidth\":0,\"ticks\":\"\"}}],\"contour\":[{\"type\":\"contour\",\"colorbar\":{\"outlinewidth\":0,\"ticks\":\"\"},\"colorscale\":[[0.0,\"#0d0887\"],[0.1111111111111111,\"#46039f\"],[0.2222222222222222,\"#7201a8\"],[0.3333333333333333,\"#9c179e\"],[0.4444444444444444,\"#bd3786\"],[0.5555555555555556,\"#d8576b\"],[0.6666666666666666,\"#ed7953\"],[0.7777777777777778,\"#fb9f3a\"],[0.8888888888888888,\"#fdca26\"],[1.0,\"#f0f921\"]]}],\"surface\":[{\"type\":\"surface\",\"colorbar\":{\"outlinewidth\":0,\"ticks\":\"\"},\"colorscale\":[[0.0,\"#0d0887\"],[0.1111111111111111,\"#46039f\"],[0.2222222222222222,\"#7201a8\"],[0.3333333333333333,\"#9c179e\"],[0.4444444444444444,\"#bd3786\"],[0.5555555555555556,\"#d8576b\"],[0.6666666666666666,\"#ed7953\"],[0.7777777777777778,\"#fb9f3a\"],[0.8888888888888888,\"#fdca26\"],[1.0,\"#f0f921\"]]}],\"mesh3d\":[{\"type\":\"mesh3d\",\"colorbar\":{\"outlinewidth\":0,\"ticks\":\"\"}}],\"scatter\":[{\"fillpattern\":{\"fillmode\":\"overlay\",\"size\":10,\"solidity\":0.2},\"type\":\"scatter\"}],\"parcoords\":[{\"type\":\"parcoords\",\"line\":{\"colorbar\":{\"outlinewidth\":0,\"ticks\":\"\"}}}],\"scatterpolargl\":[{\"type\":\"scatterpolargl\",\"marker\":{\"colorbar\":{\"outlinewidth\":0,\"ticks\":\"\"}}}],\"bar\":[{\"error_x\":{\"color\":\"#2a3f5f\"},\"error_y\":{\"color\":\"#2a3f5f\"},\"marker\":{\"line\":{\"color\":\"#E5ECF6\",\"width\":0.5},\"pattern\":{\"fillmode\":\"overlay\",\"size\":10,\"solidity\":0.2}},\"type\":\"bar\"}],\"scattergeo\":[{\"type\":\"scattergeo\",\"marker\":{\"colorbar\":{\"outlinewidth\":0,\"ticks\":\"\"}}}],\"scatterpolar\":[{\"type\":\"scatterpolar\",\"marker\":{\"colorbar\":{\"outlinewidth\":0,\"ticks\":\"\"}}}],\"histogram\":[{\"marker\":{\"pattern\":{\"fillmode\":\"overlay\",\"size\":10,\"solidity\":0.2}},\"type\":\"histogram\"}],\"scattergl\":[{\"type\":\"scattergl\",\"marker\":{\"colorbar\":{\"outlinewidth\":0,\"ticks\":\"\"}}}],\"scatter3d\":[{\"type\":\"scatter3d\",\"line\":{\"colorbar\":{\"outlinewidth\":0,\"ticks\":\"\"}},\"marker\":{\"colorbar\":{\"outlinewidth\":0,\"ticks\":\"\"}}}],\"scattermapbox\":[{\"type\":\"scattermapbox\",\"marker\":{\"colorbar\":{\"outlinewidth\":0,\"ticks\":\"\"}}}],\"scatterternary\":[{\"type\":\"scatterternary\",\"marker\":{\"colorbar\":{\"outlinewidth\":0,\"ticks\":\"\"}}}],\"scattercarpet\":[{\"type\":\"scattercarpet\",\"marker\":{\"colorbar\":{\"outlinewidth\":0,\"ticks\":\"\"}}}],\"carpet\":[{\"aaxis\":{\"endlinecolor\":\"#2a3f5f\",\"gridcolor\":\"white\",\"linecolor\":\"white\",\"minorgridcolor\":\"white\",\"startlinecolor\":\"#2a3f5f\"},\"baxis\":{\"endlinecolor\":\"#2a3f5f\",\"gridcolor\":\"white\",\"linecolor\":\"white\",\"minorgridcolor\":\"white\",\"startlinecolor\":\"#2a3f5f\"},\"type\":\"carpet\"}],\"table\":[{\"cells\":{\"fill\":{\"color\":\"#EBF0F8\"},\"line\":{\"color\":\"white\"}},\"header\":{\"fill\":{\"color\":\"#C8D4E3\"},\"line\":{\"color\":\"white\"}},\"type\":\"table\"}],\"barpolar\":[{\"marker\":{\"line\":{\"color\":\"#E5ECF6\",\"width\":0.5},\"pattern\":{\"fillmode\":\"overlay\",\"size\":10,\"solidity\":0.2}},\"type\":\"barpolar\"}],\"pie\":[{\"automargin\":true,\"type\":\"pie\"}]},\"layout\":{\"autotypenumbers\":\"strict\",\"colorway\":[\"#636efa\",\"#EF553B\",\"#00cc96\",\"#ab63fa\",\"#FFA15A\",\"#19d3f3\",\"#FF6692\",\"#B6E880\",\"#FF97FF\",\"#FECB52\"],\"font\":{\"color\":\"#2a3f5f\"},\"hovermode\":\"closest\",\"hoverlabel\":{\"align\":\"left\"},\"paper_bgcolor\":\"white\",\"plot_bgcolor\":\"#E5ECF6\",\"polar\":{\"bgcolor\":\"#E5ECF6\",\"angularaxis\":{\"gridcolor\":\"white\",\"linecolor\":\"white\",\"ticks\":\"\"},\"radialaxis\":{\"gridcolor\":\"white\",\"linecolor\":\"white\",\"ticks\":\"\"}},\"ternary\":{\"bgcolor\":\"#E5ECF6\",\"aaxis\":{\"gridcolor\":\"white\",\"linecolor\":\"white\",\"ticks\":\"\"},\"baxis\":{\"gridcolor\":\"white\",\"linecolor\":\"white\",\"ticks\":\"\"},\"caxis\":{\"gridcolor\":\"white\",\"linecolor\":\"white\",\"ticks\":\"\"}},\"coloraxis\":{\"colorbar\":{\"outlinewidth\":0,\"ticks\":\"\"}},\"colorscale\":{\"sequential\":[[0.0,\"#0d0887\"],[0.1111111111111111,\"#46039f\"],[0.2222222222222222,\"#7201a8\"],[0.3333333333333333,\"#9c179e\"],[0.4444444444444444,\"#bd3786\"],[0.5555555555555556,\"#d8576b\"],[0.6666666666666666,\"#ed7953\"],[0.7777777777777778,\"#fb9f3a\"],[0.8888888888888888,\"#fdca26\"],[1.0,\"#f0f921\"]],\"sequentialminus\":[[0.0,\"#0d0887\"],[0.1111111111111111,\"#46039f\"],[0.2222222222222222,\"#7201a8\"],[0.3333333333333333,\"#9c179e\"],[0.4444444444444444,\"#bd3786\"],[0.5555555555555556,\"#d8576b\"],[0.6666666666666666,\"#ed7953\"],[0.7777777777777778,\"#fb9f3a\"],[0.8888888888888888,\"#fdca26\"],[1.0,\"#f0f921\"]],\"diverging\":[[0,\"#8e0152\"],[0.1,\"#c51b7d\"],[0.2,\"#de77ae\"],[0.3,\"#f1b6da\"],[0.4,\"#fde0ef\"],[0.5,\"#f7f7f7\"],[0.6,\"#e6f5d0\"],[0.7,\"#b8e186\"],[0.8,\"#7fbc41\"],[0.9,\"#4d9221\"],[1,\"#276419\"]]},\"xaxis\":{\"gridcolor\":\"white\",\"linecolor\":\"white\",\"ticks\":\"\",\"title\":{\"standoff\":15},\"zerolinecolor\":\"white\",\"automargin\":true,\"zerolinewidth\":2},\"yaxis\":{\"gridcolor\":\"white\",\"linecolor\":\"white\",\"ticks\":\"\",\"title\":{\"standoff\":15},\"zerolinecolor\":\"white\",\"automargin\":true,\"zerolinewidth\":2},\"scene\":{\"xaxis\":{\"backgroundcolor\":\"#E5ECF6\",\"gridcolor\":\"white\",\"linecolor\":\"white\",\"showbackground\":true,\"ticks\":\"\",\"zerolinecolor\":\"white\",\"gridwidth\":2},\"yaxis\":{\"backgroundcolor\":\"#E5ECF6\",\"gridcolor\":\"white\",\"linecolor\":\"white\",\"showbackground\":true,\"ticks\":\"\",\"zerolinecolor\":\"white\",\"gridwidth\":2},\"zaxis\":{\"backgroundcolor\":\"#E5ECF6\",\"gridcolor\":\"white\",\"linecolor\":\"white\",\"showbackground\":true,\"ticks\":\"\",\"zerolinecolor\":\"white\",\"gridwidth\":2}},\"shapedefaults\":{\"line\":{\"color\":\"#2a3f5f\"}},\"annotationdefaults\":{\"arrowcolor\":\"#2a3f5f\",\"arrowhead\":0,\"arrowwidth\":1},\"geo\":{\"bgcolor\":\"white\",\"landcolor\":\"#E5ECF6\",\"subunitcolor\":\"white\",\"showland\":true,\"showlakes\":true,\"lakecolor\":\"white\"},\"title\":{\"x\":0.05},\"mapbox\":{\"style\":\"light\"}}}},                        {\"responsive\": true}                    ).then(function(){\n",
       "                            \n",
       "var gd = document.getElementById('c5445d79-65d1-4593-8fdf-ea004b681865');\n",
       "var x = new MutationObserver(function (mutations, observer) {{\n",
       "        var display = window.getComputedStyle(gd).display;\n",
       "        if (!display || display === 'none') {{\n",
       "            console.log([gd, 'removed!']);\n",
       "            Plotly.purge(gd);\n",
       "            observer.disconnect();\n",
       "        }}\n",
       "}});\n",
       "\n",
       "// Listen for the removal of the full notebook cells\n",
       "var notebookContainer = gd.closest('#notebook-container');\n",
       "if (notebookContainer) {{\n",
       "    x.observe(notebookContainer, {childList: true});\n",
       "}}\n",
       "\n",
       "// Listen for the clearing of the current output cell\n",
       "var outputEl = gd.closest('.output');\n",
       "if (outputEl) {{\n",
       "    x.observe(outputEl, {childList: true});\n",
       "}}\n",
       "\n",
       "                        })                };                });            </script>        </div>"
      ]
     },
     "metadata": {},
     "output_type": "display_data"
    }
   ],
   "source": [
    "fig2 = optuna.visualization.plot_optimization_history(svm_study)\n",
    "fig2.show()"
   ]
  },
  {
   "cell_type": "code",
   "execution_count": 88,
   "id": "2c970579",
   "metadata": {},
   "outputs": [
    {
     "data": {
      "application/vnd.plotly.v1+json": {
       "config": {
        "plotlyServerURL": "https://plot.ly"
       },
       "data": [
        {
         "mode": "markers",
         "name": "Objective Value",
         "type": "scatter",
         "x": [
          0,
          1,
          2,
          3,
          4,
          5,
          6,
          7,
          8,
          9,
          10,
          11,
          12,
          13,
          14,
          15,
          16,
          17,
          18,
          19,
          20,
          21,
          22,
          23,
          24,
          25,
          26,
          27,
          28,
          29,
          30,
          31,
          32,
          33,
          34,
          35,
          36,
          37,
          38,
          39,
          40,
          41,
          42,
          43,
          44,
          45,
          46,
          47,
          48,
          49,
          50,
          51,
          52,
          53,
          54,
          55,
          56,
          57,
          58,
          59,
          60,
          61,
          62,
          63,
          64,
          65,
          66,
          67,
          68,
          69,
          70,
          71,
          72,
          73,
          74,
          75,
          76,
          77,
          78,
          79,
          80,
          81,
          82,
          83,
          84,
          85,
          86,
          87,
          88,
          89,
          90,
          91,
          92,
          93,
          94,
          95,
          96,
          97,
          98,
          99
         ],
         "y": [
          0.839855508729681,
          0.8452739313666466,
          0.8488862131246238,
          0.8308248043347382,
          0.8464780252859723,
          0.8458759783263095,
          0.8470800722456352,
          0.8482841661649608,
          0.8344370860927153,
          0.8356411800120409,
          0.8458759783263095,
          0.851896447922938,
          0.8470800722456352,
          0.8537025888019265,
          0.8464780252859723,
          0.8524984948826009,
          0.8446718844069837,
          0.8446718844069837,
          0.8428657435279951,
          0.8416616496086695,
          0.8512944009632751,
          0.8470800722456352,
          0.8488862131246238,
          0.847682119205298,
          0.8470800722456352,
          0.8440698374473209,
          0.8549066827212523,
          0.8543046357615894,
          0.8512944009632751,
          0.8482841661649608,
          0.8506923540036123,
          0.8500903070439494,
          0.8500903070439494,
          0.851896447922938,
          0.8512944009632751,
          0.8488862131246238,
          0.8434677904876581,
          0.8500903070439494,
          0.8512944009632751,
          0.8464780252859723,
          0.8440698374473209,
          0.8500903070439494,
          0.847682119205298,
          0.8494882600842866,
          0.8446718844069837,
          0.8549066827212523,
          0.8494882600842866,
          0.8494882600842866,
          0.8543046357615894,
          0.8500903070439494,
          0.8428657435279951,
          0.8531005418422637,
          0.847682119205298,
          0.8440698374473209,
          0.839855508729681,
          0.8458759783263095,
          0.8464780252859723,
          0.8524984948826009,
          0.8488862131246238,
          0.8531005418422637,
          0.8494882600842866,
          0.8488862131246238,
          0.847682119205298,
          0.8512944009632751,
          0.847682119205298,
          0.8512944009632751,
          0.8543046357615894,
          0.839253461770018,
          0.847682119205298,
          0.8428657435279951,
          0.8434677904876581,
          0.8512944009632751,
          0.8494882600842866,
          0.8537025888019265,
          0.8506923540036123,
          0.8506923540036123,
          0.8512944009632751,
          0.8494882600842866,
          0.8512944009632751,
          0.8464780252859723,
          0.8512944009632751,
          0.8500903070439494,
          0.8494882600842866,
          0.8506923540036123,
          0.8488862131246238,
          0.8482841661649608,
          0.847682119205298,
          0.8500903070439494,
          0.8567128236002408,
          0.8494882600842866,
          0.8482841661649608,
          0.8524984948826009,
          0.8524984948826009,
          0.8488862131246238,
          0.8500903070439494,
          0.8524984948826009,
          0.8494882600842866,
          0.8500903070439494,
          0.8464780252859723,
          0.8531005418422637
         ]
        },
        {
         "name": "Best Value",
         "type": "scatter",
         "x": [
          0,
          1,
          2,
          3,
          4,
          5,
          6,
          7,
          8,
          9,
          10,
          11,
          12,
          13,
          14,
          15,
          16,
          17,
          18,
          19,
          20,
          21,
          22,
          23,
          24,
          25,
          26,
          27,
          28,
          29,
          30,
          31,
          32,
          33,
          34,
          35,
          36,
          37,
          38,
          39,
          40,
          41,
          42,
          43,
          44,
          45,
          46,
          47,
          48,
          49,
          50,
          51,
          52,
          53,
          54,
          55,
          56,
          57,
          58,
          59,
          60,
          61,
          62,
          63,
          64,
          65,
          66,
          67,
          68,
          69,
          70,
          71,
          72,
          73,
          74,
          75,
          76,
          77,
          78,
          79,
          80,
          81,
          82,
          83,
          84,
          85,
          86,
          87,
          88,
          89,
          90,
          91,
          92,
          93,
          94,
          95,
          96,
          97,
          98,
          99
         ],
         "y": [
          0.839855508729681,
          0.8452739313666466,
          0.8488862131246238,
          0.8488862131246238,
          0.8488862131246238,
          0.8488862131246238,
          0.8488862131246238,
          0.8488862131246238,
          0.8488862131246238,
          0.8488862131246238,
          0.8488862131246238,
          0.851896447922938,
          0.851896447922938,
          0.8537025888019265,
          0.8537025888019265,
          0.8537025888019265,
          0.8537025888019265,
          0.8537025888019265,
          0.8537025888019265,
          0.8537025888019265,
          0.8537025888019265,
          0.8537025888019265,
          0.8537025888019265,
          0.8537025888019265,
          0.8537025888019265,
          0.8537025888019265,
          0.8549066827212523,
          0.8549066827212523,
          0.8549066827212523,
          0.8549066827212523,
          0.8549066827212523,
          0.8549066827212523,
          0.8549066827212523,
          0.8549066827212523,
          0.8549066827212523,
          0.8549066827212523,
          0.8549066827212523,
          0.8549066827212523,
          0.8549066827212523,
          0.8549066827212523,
          0.8549066827212523,
          0.8549066827212523,
          0.8549066827212523,
          0.8549066827212523,
          0.8549066827212523,
          0.8549066827212523,
          0.8549066827212523,
          0.8549066827212523,
          0.8549066827212523,
          0.8549066827212523,
          0.8549066827212523,
          0.8549066827212523,
          0.8549066827212523,
          0.8549066827212523,
          0.8549066827212523,
          0.8549066827212523,
          0.8549066827212523,
          0.8549066827212523,
          0.8549066827212523,
          0.8549066827212523,
          0.8549066827212523,
          0.8549066827212523,
          0.8549066827212523,
          0.8549066827212523,
          0.8549066827212523,
          0.8549066827212523,
          0.8549066827212523,
          0.8549066827212523,
          0.8549066827212523,
          0.8549066827212523,
          0.8549066827212523,
          0.8549066827212523,
          0.8549066827212523,
          0.8549066827212523,
          0.8549066827212523,
          0.8549066827212523,
          0.8549066827212523,
          0.8549066827212523,
          0.8549066827212523,
          0.8549066827212523,
          0.8549066827212523,
          0.8549066827212523,
          0.8549066827212523,
          0.8549066827212523,
          0.8549066827212523,
          0.8549066827212523,
          0.8549066827212523,
          0.8549066827212523,
          0.8567128236002408,
          0.8567128236002408,
          0.8567128236002408,
          0.8567128236002408,
          0.8567128236002408,
          0.8567128236002408,
          0.8567128236002408,
          0.8567128236002408,
          0.8567128236002408,
          0.8567128236002408,
          0.8567128236002408,
          0.8567128236002408
         ]
        }
       ],
       "layout": {
        "template": {
         "data": {
          "bar": [
           {
            "error_x": {
             "color": "#2a3f5f"
            },
            "error_y": {
             "color": "#2a3f5f"
            },
            "marker": {
             "line": {
              "color": "#E5ECF6",
              "width": 0.5
             },
             "pattern": {
              "fillmode": "overlay",
              "size": 10,
              "solidity": 0.2
             }
            },
            "type": "bar"
           }
          ],
          "barpolar": [
           {
            "marker": {
             "line": {
              "color": "#E5ECF6",
              "width": 0.5
             },
             "pattern": {
              "fillmode": "overlay",
              "size": 10,
              "solidity": 0.2
             }
            },
            "type": "barpolar"
           }
          ],
          "carpet": [
           {
            "aaxis": {
             "endlinecolor": "#2a3f5f",
             "gridcolor": "white",
             "linecolor": "white",
             "minorgridcolor": "white",
             "startlinecolor": "#2a3f5f"
            },
            "baxis": {
             "endlinecolor": "#2a3f5f",
             "gridcolor": "white",
             "linecolor": "white",
             "minorgridcolor": "white",
             "startlinecolor": "#2a3f5f"
            },
            "type": "carpet"
           }
          ],
          "choropleth": [
           {
            "colorbar": {
             "outlinewidth": 0,
             "ticks": ""
            },
            "type": "choropleth"
           }
          ],
          "contour": [
           {
            "colorbar": {
             "outlinewidth": 0,
             "ticks": ""
            },
            "colorscale": [
             [
              0,
              "#0d0887"
             ],
             [
              0.1111111111111111,
              "#46039f"
             ],
             [
              0.2222222222222222,
              "#7201a8"
             ],
             [
              0.3333333333333333,
              "#9c179e"
             ],
             [
              0.4444444444444444,
              "#bd3786"
             ],
             [
              0.5555555555555556,
              "#d8576b"
             ],
             [
              0.6666666666666666,
              "#ed7953"
             ],
             [
              0.7777777777777778,
              "#fb9f3a"
             ],
             [
              0.8888888888888888,
              "#fdca26"
             ],
             [
              1,
              "#f0f921"
             ]
            ],
            "type": "contour"
           }
          ],
          "contourcarpet": [
           {
            "colorbar": {
             "outlinewidth": 0,
             "ticks": ""
            },
            "type": "contourcarpet"
           }
          ],
          "heatmap": [
           {
            "colorbar": {
             "outlinewidth": 0,
             "ticks": ""
            },
            "colorscale": [
             [
              0,
              "#0d0887"
             ],
             [
              0.1111111111111111,
              "#46039f"
             ],
             [
              0.2222222222222222,
              "#7201a8"
             ],
             [
              0.3333333333333333,
              "#9c179e"
             ],
             [
              0.4444444444444444,
              "#bd3786"
             ],
             [
              0.5555555555555556,
              "#d8576b"
             ],
             [
              0.6666666666666666,
              "#ed7953"
             ],
             [
              0.7777777777777778,
              "#fb9f3a"
             ],
             [
              0.8888888888888888,
              "#fdca26"
             ],
             [
              1,
              "#f0f921"
             ]
            ],
            "type": "heatmap"
           }
          ],
          "heatmapgl": [
           {
            "colorbar": {
             "outlinewidth": 0,
             "ticks": ""
            },
            "colorscale": [
             [
              0,
              "#0d0887"
             ],
             [
              0.1111111111111111,
              "#46039f"
             ],
             [
              0.2222222222222222,
              "#7201a8"
             ],
             [
              0.3333333333333333,
              "#9c179e"
             ],
             [
              0.4444444444444444,
              "#bd3786"
             ],
             [
              0.5555555555555556,
              "#d8576b"
             ],
             [
              0.6666666666666666,
              "#ed7953"
             ],
             [
              0.7777777777777778,
              "#fb9f3a"
             ],
             [
              0.8888888888888888,
              "#fdca26"
             ],
             [
              1,
              "#f0f921"
             ]
            ],
            "type": "heatmapgl"
           }
          ],
          "histogram": [
           {
            "marker": {
             "pattern": {
              "fillmode": "overlay",
              "size": 10,
              "solidity": 0.2
             }
            },
            "type": "histogram"
           }
          ],
          "histogram2d": [
           {
            "colorbar": {
             "outlinewidth": 0,
             "ticks": ""
            },
            "colorscale": [
             [
              0,
              "#0d0887"
             ],
             [
              0.1111111111111111,
              "#46039f"
             ],
             [
              0.2222222222222222,
              "#7201a8"
             ],
             [
              0.3333333333333333,
              "#9c179e"
             ],
             [
              0.4444444444444444,
              "#bd3786"
             ],
             [
              0.5555555555555556,
              "#d8576b"
             ],
             [
              0.6666666666666666,
              "#ed7953"
             ],
             [
              0.7777777777777778,
              "#fb9f3a"
             ],
             [
              0.8888888888888888,
              "#fdca26"
             ],
             [
              1,
              "#f0f921"
             ]
            ],
            "type": "histogram2d"
           }
          ],
          "histogram2dcontour": [
           {
            "colorbar": {
             "outlinewidth": 0,
             "ticks": ""
            },
            "colorscale": [
             [
              0,
              "#0d0887"
             ],
             [
              0.1111111111111111,
              "#46039f"
             ],
             [
              0.2222222222222222,
              "#7201a8"
             ],
             [
              0.3333333333333333,
              "#9c179e"
             ],
             [
              0.4444444444444444,
              "#bd3786"
             ],
             [
              0.5555555555555556,
              "#d8576b"
             ],
             [
              0.6666666666666666,
              "#ed7953"
             ],
             [
              0.7777777777777778,
              "#fb9f3a"
             ],
             [
              0.8888888888888888,
              "#fdca26"
             ],
             [
              1,
              "#f0f921"
             ]
            ],
            "type": "histogram2dcontour"
           }
          ],
          "mesh3d": [
           {
            "colorbar": {
             "outlinewidth": 0,
             "ticks": ""
            },
            "type": "mesh3d"
           }
          ],
          "parcoords": [
           {
            "line": {
             "colorbar": {
              "outlinewidth": 0,
              "ticks": ""
             }
            },
            "type": "parcoords"
           }
          ],
          "pie": [
           {
            "automargin": true,
            "type": "pie"
           }
          ],
          "scatter": [
           {
            "fillpattern": {
             "fillmode": "overlay",
             "size": 10,
             "solidity": 0.2
            },
            "type": "scatter"
           }
          ],
          "scatter3d": [
           {
            "line": {
             "colorbar": {
              "outlinewidth": 0,
              "ticks": ""
             }
            },
            "marker": {
             "colorbar": {
              "outlinewidth": 0,
              "ticks": ""
             }
            },
            "type": "scatter3d"
           }
          ],
          "scattercarpet": [
           {
            "marker": {
             "colorbar": {
              "outlinewidth": 0,
              "ticks": ""
             }
            },
            "type": "scattercarpet"
           }
          ],
          "scattergeo": [
           {
            "marker": {
             "colorbar": {
              "outlinewidth": 0,
              "ticks": ""
             }
            },
            "type": "scattergeo"
           }
          ],
          "scattergl": [
           {
            "marker": {
             "colorbar": {
              "outlinewidth": 0,
              "ticks": ""
             }
            },
            "type": "scattergl"
           }
          ],
          "scattermapbox": [
           {
            "marker": {
             "colorbar": {
              "outlinewidth": 0,
              "ticks": ""
             }
            },
            "type": "scattermapbox"
           }
          ],
          "scatterpolar": [
           {
            "marker": {
             "colorbar": {
              "outlinewidth": 0,
              "ticks": ""
             }
            },
            "type": "scatterpolar"
           }
          ],
          "scatterpolargl": [
           {
            "marker": {
             "colorbar": {
              "outlinewidth": 0,
              "ticks": ""
             }
            },
            "type": "scatterpolargl"
           }
          ],
          "scatterternary": [
           {
            "marker": {
             "colorbar": {
              "outlinewidth": 0,
              "ticks": ""
             }
            },
            "type": "scatterternary"
           }
          ],
          "surface": [
           {
            "colorbar": {
             "outlinewidth": 0,
             "ticks": ""
            },
            "colorscale": [
             [
              0,
              "#0d0887"
             ],
             [
              0.1111111111111111,
              "#46039f"
             ],
             [
              0.2222222222222222,
              "#7201a8"
             ],
             [
              0.3333333333333333,
              "#9c179e"
             ],
             [
              0.4444444444444444,
              "#bd3786"
             ],
             [
              0.5555555555555556,
              "#d8576b"
             ],
             [
              0.6666666666666666,
              "#ed7953"
             ],
             [
              0.7777777777777778,
              "#fb9f3a"
             ],
             [
              0.8888888888888888,
              "#fdca26"
             ],
             [
              1,
              "#f0f921"
             ]
            ],
            "type": "surface"
           }
          ],
          "table": [
           {
            "cells": {
             "fill": {
              "color": "#EBF0F8"
             },
             "line": {
              "color": "white"
             }
            },
            "header": {
             "fill": {
              "color": "#C8D4E3"
             },
             "line": {
              "color": "white"
             }
            },
            "type": "table"
           }
          ]
         },
         "layout": {
          "annotationdefaults": {
           "arrowcolor": "#2a3f5f",
           "arrowhead": 0,
           "arrowwidth": 1
          },
          "autotypenumbers": "strict",
          "coloraxis": {
           "colorbar": {
            "outlinewidth": 0,
            "ticks": ""
           }
          },
          "colorscale": {
           "diverging": [
            [
             0,
             "#8e0152"
            ],
            [
             0.1,
             "#c51b7d"
            ],
            [
             0.2,
             "#de77ae"
            ],
            [
             0.3,
             "#f1b6da"
            ],
            [
             0.4,
             "#fde0ef"
            ],
            [
             0.5,
             "#f7f7f7"
            ],
            [
             0.6,
             "#e6f5d0"
            ],
            [
             0.7,
             "#b8e186"
            ],
            [
             0.8,
             "#7fbc41"
            ],
            [
             0.9,
             "#4d9221"
            ],
            [
             1,
             "#276419"
            ]
           ],
           "sequential": [
            [
             0,
             "#0d0887"
            ],
            [
             0.1111111111111111,
             "#46039f"
            ],
            [
             0.2222222222222222,
             "#7201a8"
            ],
            [
             0.3333333333333333,
             "#9c179e"
            ],
            [
             0.4444444444444444,
             "#bd3786"
            ],
            [
             0.5555555555555556,
             "#d8576b"
            ],
            [
             0.6666666666666666,
             "#ed7953"
            ],
            [
             0.7777777777777778,
             "#fb9f3a"
            ],
            [
             0.8888888888888888,
             "#fdca26"
            ],
            [
             1,
             "#f0f921"
            ]
           ],
           "sequentialminus": [
            [
             0,
             "#0d0887"
            ],
            [
             0.1111111111111111,
             "#46039f"
            ],
            [
             0.2222222222222222,
             "#7201a8"
            ],
            [
             0.3333333333333333,
             "#9c179e"
            ],
            [
             0.4444444444444444,
             "#bd3786"
            ],
            [
             0.5555555555555556,
             "#d8576b"
            ],
            [
             0.6666666666666666,
             "#ed7953"
            ],
            [
             0.7777777777777778,
             "#fb9f3a"
            ],
            [
             0.8888888888888888,
             "#fdca26"
            ],
            [
             1,
             "#f0f921"
            ]
           ]
          },
          "colorway": [
           "#636efa",
           "#EF553B",
           "#00cc96",
           "#ab63fa",
           "#FFA15A",
           "#19d3f3",
           "#FF6692",
           "#B6E880",
           "#FF97FF",
           "#FECB52"
          ],
          "font": {
           "color": "#2a3f5f"
          },
          "geo": {
           "bgcolor": "white",
           "lakecolor": "white",
           "landcolor": "#E5ECF6",
           "showlakes": true,
           "showland": true,
           "subunitcolor": "white"
          },
          "hoverlabel": {
           "align": "left"
          },
          "hovermode": "closest",
          "mapbox": {
           "style": "light"
          },
          "paper_bgcolor": "white",
          "plot_bgcolor": "#E5ECF6",
          "polar": {
           "angularaxis": {
            "gridcolor": "white",
            "linecolor": "white",
            "ticks": ""
           },
           "bgcolor": "#E5ECF6",
           "radialaxis": {
            "gridcolor": "white",
            "linecolor": "white",
            "ticks": ""
           }
          },
          "scene": {
           "xaxis": {
            "backgroundcolor": "#E5ECF6",
            "gridcolor": "white",
            "gridwidth": 2,
            "linecolor": "white",
            "showbackground": true,
            "ticks": "",
            "zerolinecolor": "white"
           },
           "yaxis": {
            "backgroundcolor": "#E5ECF6",
            "gridcolor": "white",
            "gridwidth": 2,
            "linecolor": "white",
            "showbackground": true,
            "ticks": "",
            "zerolinecolor": "white"
           },
           "zaxis": {
            "backgroundcolor": "#E5ECF6",
            "gridcolor": "white",
            "gridwidth": 2,
            "linecolor": "white",
            "showbackground": true,
            "ticks": "",
            "zerolinecolor": "white"
           }
          },
          "shapedefaults": {
           "line": {
            "color": "#2a3f5f"
           }
          },
          "ternary": {
           "aaxis": {
            "gridcolor": "white",
            "linecolor": "white",
            "ticks": ""
           },
           "baxis": {
            "gridcolor": "white",
            "linecolor": "white",
            "ticks": ""
           },
           "bgcolor": "#E5ECF6",
           "caxis": {
            "gridcolor": "white",
            "linecolor": "white",
            "ticks": ""
           }
          },
          "title": {
           "x": 0.05
          },
          "xaxis": {
           "automargin": true,
           "gridcolor": "white",
           "linecolor": "white",
           "ticks": "",
           "title": {
            "standoff": 15
           },
           "zerolinecolor": "white",
           "zerolinewidth": 2
          },
          "yaxis": {
           "automargin": true,
           "gridcolor": "white",
           "linecolor": "white",
           "ticks": "",
           "title": {
            "standoff": 15
           },
           "zerolinecolor": "white",
           "zerolinewidth": 2
          }
         }
        },
        "title": {
         "text": "Optimization History Plot"
        },
        "xaxis": {
         "title": {
          "text": "Trial"
         }
        },
        "yaxis": {
         "title": {
          "text": "Objective Value"
         }
        }
       }
      },
      "text/html": [
       "<div>                            <div id=\"2064e5ed-b56d-43b7-a2b2-ba431067fa6d\" class=\"plotly-graph-div\" style=\"height:525px; width:100%;\"></div>            <script type=\"text/javascript\">                require([\"plotly\"], function(Plotly) {                    window.PLOTLYENV=window.PLOTLYENV || {};                                    if (document.getElementById(\"2064e5ed-b56d-43b7-a2b2-ba431067fa6d\")) {                    Plotly.newPlot(                        \"2064e5ed-b56d-43b7-a2b2-ba431067fa6d\",                        [{\"mode\":\"markers\",\"name\":\"Objective Value\",\"x\":[0,1,2,3,4,5,6,7,8,9,10,11,12,13,14,15,16,17,18,19,20,21,22,23,24,25,26,27,28,29,30,31,32,33,34,35,36,37,38,39,40,41,42,43,44,45,46,47,48,49,50,51,52,53,54,55,56,57,58,59,60,61,62,63,64,65,66,67,68,69,70,71,72,73,74,75,76,77,78,79,80,81,82,83,84,85,86,87,88,89,90,91,92,93,94,95,96,97,98,99],\"y\":[0.839855508729681,0.8452739313666466,0.8488862131246238,0.8308248043347382,0.8464780252859723,0.8458759783263095,0.8470800722456352,0.8482841661649608,0.8344370860927153,0.8356411800120409,0.8458759783263095,0.851896447922938,0.8470800722456352,0.8537025888019265,0.8464780252859723,0.8524984948826009,0.8446718844069837,0.8446718844069837,0.8428657435279951,0.8416616496086695,0.8512944009632751,0.8470800722456352,0.8488862131246238,0.847682119205298,0.8470800722456352,0.8440698374473209,0.8549066827212523,0.8543046357615894,0.8512944009632751,0.8482841661649608,0.8506923540036123,0.8500903070439494,0.8500903070439494,0.851896447922938,0.8512944009632751,0.8488862131246238,0.8434677904876581,0.8500903070439494,0.8512944009632751,0.8464780252859723,0.8440698374473209,0.8500903070439494,0.847682119205298,0.8494882600842866,0.8446718844069837,0.8549066827212523,0.8494882600842866,0.8494882600842866,0.8543046357615894,0.8500903070439494,0.8428657435279951,0.8531005418422637,0.847682119205298,0.8440698374473209,0.839855508729681,0.8458759783263095,0.8464780252859723,0.8524984948826009,0.8488862131246238,0.8531005418422637,0.8494882600842866,0.8488862131246238,0.847682119205298,0.8512944009632751,0.847682119205298,0.8512944009632751,0.8543046357615894,0.839253461770018,0.847682119205298,0.8428657435279951,0.8434677904876581,0.8512944009632751,0.8494882600842866,0.8537025888019265,0.8506923540036123,0.8506923540036123,0.8512944009632751,0.8494882600842866,0.8512944009632751,0.8464780252859723,0.8512944009632751,0.8500903070439494,0.8494882600842866,0.8506923540036123,0.8488862131246238,0.8482841661649608,0.847682119205298,0.8500903070439494,0.8567128236002408,0.8494882600842866,0.8482841661649608,0.8524984948826009,0.8524984948826009,0.8488862131246238,0.8500903070439494,0.8524984948826009,0.8494882600842866,0.8500903070439494,0.8464780252859723,0.8531005418422637],\"type\":\"scatter\"},{\"name\":\"Best Value\",\"x\":[0,1,2,3,4,5,6,7,8,9,10,11,12,13,14,15,16,17,18,19,20,21,22,23,24,25,26,27,28,29,30,31,32,33,34,35,36,37,38,39,40,41,42,43,44,45,46,47,48,49,50,51,52,53,54,55,56,57,58,59,60,61,62,63,64,65,66,67,68,69,70,71,72,73,74,75,76,77,78,79,80,81,82,83,84,85,86,87,88,89,90,91,92,93,94,95,96,97,98,99],\"y\":[0.839855508729681,0.8452739313666466,0.8488862131246238,0.8488862131246238,0.8488862131246238,0.8488862131246238,0.8488862131246238,0.8488862131246238,0.8488862131246238,0.8488862131246238,0.8488862131246238,0.851896447922938,0.851896447922938,0.8537025888019265,0.8537025888019265,0.8537025888019265,0.8537025888019265,0.8537025888019265,0.8537025888019265,0.8537025888019265,0.8537025888019265,0.8537025888019265,0.8537025888019265,0.8537025888019265,0.8537025888019265,0.8537025888019265,0.8549066827212523,0.8549066827212523,0.8549066827212523,0.8549066827212523,0.8549066827212523,0.8549066827212523,0.8549066827212523,0.8549066827212523,0.8549066827212523,0.8549066827212523,0.8549066827212523,0.8549066827212523,0.8549066827212523,0.8549066827212523,0.8549066827212523,0.8549066827212523,0.8549066827212523,0.8549066827212523,0.8549066827212523,0.8549066827212523,0.8549066827212523,0.8549066827212523,0.8549066827212523,0.8549066827212523,0.8549066827212523,0.8549066827212523,0.8549066827212523,0.8549066827212523,0.8549066827212523,0.8549066827212523,0.8549066827212523,0.8549066827212523,0.8549066827212523,0.8549066827212523,0.8549066827212523,0.8549066827212523,0.8549066827212523,0.8549066827212523,0.8549066827212523,0.8549066827212523,0.8549066827212523,0.8549066827212523,0.8549066827212523,0.8549066827212523,0.8549066827212523,0.8549066827212523,0.8549066827212523,0.8549066827212523,0.8549066827212523,0.8549066827212523,0.8549066827212523,0.8549066827212523,0.8549066827212523,0.8549066827212523,0.8549066827212523,0.8549066827212523,0.8549066827212523,0.8549066827212523,0.8549066827212523,0.8549066827212523,0.8549066827212523,0.8549066827212523,0.8567128236002408,0.8567128236002408,0.8567128236002408,0.8567128236002408,0.8567128236002408,0.8567128236002408,0.8567128236002408,0.8567128236002408,0.8567128236002408,0.8567128236002408,0.8567128236002408,0.8567128236002408],\"type\":\"scatter\"}],                        {\"title\":{\"text\":\"Optimization History Plot\"},\"xaxis\":{\"title\":{\"text\":\"Trial\"}},\"yaxis\":{\"title\":{\"text\":\"Objective Value\"}},\"template\":{\"data\":{\"histogram2dcontour\":[{\"type\":\"histogram2dcontour\",\"colorbar\":{\"outlinewidth\":0,\"ticks\":\"\"},\"colorscale\":[[0.0,\"#0d0887\"],[0.1111111111111111,\"#46039f\"],[0.2222222222222222,\"#7201a8\"],[0.3333333333333333,\"#9c179e\"],[0.4444444444444444,\"#bd3786\"],[0.5555555555555556,\"#d8576b\"],[0.6666666666666666,\"#ed7953\"],[0.7777777777777778,\"#fb9f3a\"],[0.8888888888888888,\"#fdca26\"],[1.0,\"#f0f921\"]]}],\"choropleth\":[{\"type\":\"choropleth\",\"colorbar\":{\"outlinewidth\":0,\"ticks\":\"\"}}],\"histogram2d\":[{\"type\":\"histogram2d\",\"colorbar\":{\"outlinewidth\":0,\"ticks\":\"\"},\"colorscale\":[[0.0,\"#0d0887\"],[0.1111111111111111,\"#46039f\"],[0.2222222222222222,\"#7201a8\"],[0.3333333333333333,\"#9c179e\"],[0.4444444444444444,\"#bd3786\"],[0.5555555555555556,\"#d8576b\"],[0.6666666666666666,\"#ed7953\"],[0.7777777777777778,\"#fb9f3a\"],[0.8888888888888888,\"#fdca26\"],[1.0,\"#f0f921\"]]}],\"heatmap\":[{\"type\":\"heatmap\",\"colorbar\":{\"outlinewidth\":0,\"ticks\":\"\"},\"colorscale\":[[0.0,\"#0d0887\"],[0.1111111111111111,\"#46039f\"],[0.2222222222222222,\"#7201a8\"],[0.3333333333333333,\"#9c179e\"],[0.4444444444444444,\"#bd3786\"],[0.5555555555555556,\"#d8576b\"],[0.6666666666666666,\"#ed7953\"],[0.7777777777777778,\"#fb9f3a\"],[0.8888888888888888,\"#fdca26\"],[1.0,\"#f0f921\"]]}],\"heatmapgl\":[{\"type\":\"heatmapgl\",\"colorbar\":{\"outlinewidth\":0,\"ticks\":\"\"},\"colorscale\":[[0.0,\"#0d0887\"],[0.1111111111111111,\"#46039f\"],[0.2222222222222222,\"#7201a8\"],[0.3333333333333333,\"#9c179e\"],[0.4444444444444444,\"#bd3786\"],[0.5555555555555556,\"#d8576b\"],[0.6666666666666666,\"#ed7953\"],[0.7777777777777778,\"#fb9f3a\"],[0.8888888888888888,\"#fdca26\"],[1.0,\"#f0f921\"]]}],\"contourcarpet\":[{\"type\":\"contourcarpet\",\"colorbar\":{\"outlinewidth\":0,\"ticks\":\"\"}}],\"contour\":[{\"type\":\"contour\",\"colorbar\":{\"outlinewidth\":0,\"ticks\":\"\"},\"colorscale\":[[0.0,\"#0d0887\"],[0.1111111111111111,\"#46039f\"],[0.2222222222222222,\"#7201a8\"],[0.3333333333333333,\"#9c179e\"],[0.4444444444444444,\"#bd3786\"],[0.5555555555555556,\"#d8576b\"],[0.6666666666666666,\"#ed7953\"],[0.7777777777777778,\"#fb9f3a\"],[0.8888888888888888,\"#fdca26\"],[1.0,\"#f0f921\"]]}],\"surface\":[{\"type\":\"surface\",\"colorbar\":{\"outlinewidth\":0,\"ticks\":\"\"},\"colorscale\":[[0.0,\"#0d0887\"],[0.1111111111111111,\"#46039f\"],[0.2222222222222222,\"#7201a8\"],[0.3333333333333333,\"#9c179e\"],[0.4444444444444444,\"#bd3786\"],[0.5555555555555556,\"#d8576b\"],[0.6666666666666666,\"#ed7953\"],[0.7777777777777778,\"#fb9f3a\"],[0.8888888888888888,\"#fdca26\"],[1.0,\"#f0f921\"]]}],\"mesh3d\":[{\"type\":\"mesh3d\",\"colorbar\":{\"outlinewidth\":0,\"ticks\":\"\"}}],\"scatter\":[{\"fillpattern\":{\"fillmode\":\"overlay\",\"size\":10,\"solidity\":0.2},\"type\":\"scatter\"}],\"parcoords\":[{\"type\":\"parcoords\",\"line\":{\"colorbar\":{\"outlinewidth\":0,\"ticks\":\"\"}}}],\"scatterpolargl\":[{\"type\":\"scatterpolargl\",\"marker\":{\"colorbar\":{\"outlinewidth\":0,\"ticks\":\"\"}}}],\"bar\":[{\"error_x\":{\"color\":\"#2a3f5f\"},\"error_y\":{\"color\":\"#2a3f5f\"},\"marker\":{\"line\":{\"color\":\"#E5ECF6\",\"width\":0.5},\"pattern\":{\"fillmode\":\"overlay\",\"size\":10,\"solidity\":0.2}},\"type\":\"bar\"}],\"scattergeo\":[{\"type\":\"scattergeo\",\"marker\":{\"colorbar\":{\"outlinewidth\":0,\"ticks\":\"\"}}}],\"scatterpolar\":[{\"type\":\"scatterpolar\",\"marker\":{\"colorbar\":{\"outlinewidth\":0,\"ticks\":\"\"}}}],\"histogram\":[{\"marker\":{\"pattern\":{\"fillmode\":\"overlay\",\"size\":10,\"solidity\":0.2}},\"type\":\"histogram\"}],\"scattergl\":[{\"type\":\"scattergl\",\"marker\":{\"colorbar\":{\"outlinewidth\":0,\"ticks\":\"\"}}}],\"scatter3d\":[{\"type\":\"scatter3d\",\"line\":{\"colorbar\":{\"outlinewidth\":0,\"ticks\":\"\"}},\"marker\":{\"colorbar\":{\"outlinewidth\":0,\"ticks\":\"\"}}}],\"scattermapbox\":[{\"type\":\"scattermapbox\",\"marker\":{\"colorbar\":{\"outlinewidth\":0,\"ticks\":\"\"}}}],\"scatterternary\":[{\"type\":\"scatterternary\",\"marker\":{\"colorbar\":{\"outlinewidth\":0,\"ticks\":\"\"}}}],\"scattercarpet\":[{\"type\":\"scattercarpet\",\"marker\":{\"colorbar\":{\"outlinewidth\":0,\"ticks\":\"\"}}}],\"carpet\":[{\"aaxis\":{\"endlinecolor\":\"#2a3f5f\",\"gridcolor\":\"white\",\"linecolor\":\"white\",\"minorgridcolor\":\"white\",\"startlinecolor\":\"#2a3f5f\"},\"baxis\":{\"endlinecolor\":\"#2a3f5f\",\"gridcolor\":\"white\",\"linecolor\":\"white\",\"minorgridcolor\":\"white\",\"startlinecolor\":\"#2a3f5f\"},\"type\":\"carpet\"}],\"table\":[{\"cells\":{\"fill\":{\"color\":\"#EBF0F8\"},\"line\":{\"color\":\"white\"}},\"header\":{\"fill\":{\"color\":\"#C8D4E3\"},\"line\":{\"color\":\"white\"}},\"type\":\"table\"}],\"barpolar\":[{\"marker\":{\"line\":{\"color\":\"#E5ECF6\",\"width\":0.5},\"pattern\":{\"fillmode\":\"overlay\",\"size\":10,\"solidity\":0.2}},\"type\":\"barpolar\"}],\"pie\":[{\"automargin\":true,\"type\":\"pie\"}]},\"layout\":{\"autotypenumbers\":\"strict\",\"colorway\":[\"#636efa\",\"#EF553B\",\"#00cc96\",\"#ab63fa\",\"#FFA15A\",\"#19d3f3\",\"#FF6692\",\"#B6E880\",\"#FF97FF\",\"#FECB52\"],\"font\":{\"color\":\"#2a3f5f\"},\"hovermode\":\"closest\",\"hoverlabel\":{\"align\":\"left\"},\"paper_bgcolor\":\"white\",\"plot_bgcolor\":\"#E5ECF6\",\"polar\":{\"bgcolor\":\"#E5ECF6\",\"angularaxis\":{\"gridcolor\":\"white\",\"linecolor\":\"white\",\"ticks\":\"\"},\"radialaxis\":{\"gridcolor\":\"white\",\"linecolor\":\"white\",\"ticks\":\"\"}},\"ternary\":{\"bgcolor\":\"#E5ECF6\",\"aaxis\":{\"gridcolor\":\"white\",\"linecolor\":\"white\",\"ticks\":\"\"},\"baxis\":{\"gridcolor\":\"white\",\"linecolor\":\"white\",\"ticks\":\"\"},\"caxis\":{\"gridcolor\":\"white\",\"linecolor\":\"white\",\"ticks\":\"\"}},\"coloraxis\":{\"colorbar\":{\"outlinewidth\":0,\"ticks\":\"\"}},\"colorscale\":{\"sequential\":[[0.0,\"#0d0887\"],[0.1111111111111111,\"#46039f\"],[0.2222222222222222,\"#7201a8\"],[0.3333333333333333,\"#9c179e\"],[0.4444444444444444,\"#bd3786\"],[0.5555555555555556,\"#d8576b\"],[0.6666666666666666,\"#ed7953\"],[0.7777777777777778,\"#fb9f3a\"],[0.8888888888888888,\"#fdca26\"],[1.0,\"#f0f921\"]],\"sequentialminus\":[[0.0,\"#0d0887\"],[0.1111111111111111,\"#46039f\"],[0.2222222222222222,\"#7201a8\"],[0.3333333333333333,\"#9c179e\"],[0.4444444444444444,\"#bd3786\"],[0.5555555555555556,\"#d8576b\"],[0.6666666666666666,\"#ed7953\"],[0.7777777777777778,\"#fb9f3a\"],[0.8888888888888888,\"#fdca26\"],[1.0,\"#f0f921\"]],\"diverging\":[[0,\"#8e0152\"],[0.1,\"#c51b7d\"],[0.2,\"#de77ae\"],[0.3,\"#f1b6da\"],[0.4,\"#fde0ef\"],[0.5,\"#f7f7f7\"],[0.6,\"#e6f5d0\"],[0.7,\"#b8e186\"],[0.8,\"#7fbc41\"],[0.9,\"#4d9221\"],[1,\"#276419\"]]},\"xaxis\":{\"gridcolor\":\"white\",\"linecolor\":\"white\",\"ticks\":\"\",\"title\":{\"standoff\":15},\"zerolinecolor\":\"white\",\"automargin\":true,\"zerolinewidth\":2},\"yaxis\":{\"gridcolor\":\"white\",\"linecolor\":\"white\",\"ticks\":\"\",\"title\":{\"standoff\":15},\"zerolinecolor\":\"white\",\"automargin\":true,\"zerolinewidth\":2},\"scene\":{\"xaxis\":{\"backgroundcolor\":\"#E5ECF6\",\"gridcolor\":\"white\",\"linecolor\":\"white\",\"showbackground\":true,\"ticks\":\"\",\"zerolinecolor\":\"white\",\"gridwidth\":2},\"yaxis\":{\"backgroundcolor\":\"#E5ECF6\",\"gridcolor\":\"white\",\"linecolor\":\"white\",\"showbackground\":true,\"ticks\":\"\",\"zerolinecolor\":\"white\",\"gridwidth\":2},\"zaxis\":{\"backgroundcolor\":\"#E5ECF6\",\"gridcolor\":\"white\",\"linecolor\":\"white\",\"showbackground\":true,\"ticks\":\"\",\"zerolinecolor\":\"white\",\"gridwidth\":2}},\"shapedefaults\":{\"line\":{\"color\":\"#2a3f5f\"}},\"annotationdefaults\":{\"arrowcolor\":\"#2a3f5f\",\"arrowhead\":0,\"arrowwidth\":1},\"geo\":{\"bgcolor\":\"white\",\"landcolor\":\"#E5ECF6\",\"subunitcolor\":\"white\",\"showland\":true,\"showlakes\":true,\"lakecolor\":\"white\"},\"title\":{\"x\":0.05},\"mapbox\":{\"style\":\"light\"}}}},                        {\"responsive\": true}                    ).then(function(){\n",
       "                            \n",
       "var gd = document.getElementById('2064e5ed-b56d-43b7-a2b2-ba431067fa6d');\n",
       "var x = new MutationObserver(function (mutations, observer) {{\n",
       "        var display = window.getComputedStyle(gd).display;\n",
       "        if (!display || display === 'none') {{\n",
       "            console.log([gd, 'removed!']);\n",
       "            Plotly.purge(gd);\n",
       "            observer.disconnect();\n",
       "        }}\n",
       "}});\n",
       "\n",
       "// Listen for the removal of the full notebook cells\n",
       "var notebookContainer = gd.closest('#notebook-container');\n",
       "if (notebookContainer) {{\n",
       "    x.observe(notebookContainer, {childList: true});\n",
       "}}\n",
       "\n",
       "// Listen for the clearing of the current output cell\n",
       "var outputEl = gd.closest('.output');\n",
       "if (outputEl) {{\n",
       "    x.observe(outputEl, {childList: true});\n",
       "}}\n",
       "\n",
       "                        })                };                });            </script>        </div>"
      ]
     },
     "metadata": {},
     "output_type": "display_data"
    }
   ],
   "source": [
    "fig3 = optuna.visualization.plot_optimization_history(study)\n",
    "fig3.show()"
   ]
  },
  {
   "cell_type": "code",
   "execution_count": 116,
   "id": "49705c25",
   "metadata": {},
   "outputs": [],
   "source": [
    "tabnet_feature_importance = ssl_model.feature_importances_\n",
    "indices = np.argsort(tabnet_feature_importance)"
   ]
  },
  {
   "cell_type": "code",
   "execution_count": 118,
   "id": "165e03da",
   "metadata": {},
   "outputs": [
    {
     "data": {
      "image/png": "[encoded data removed]",
      "text/plain": [
       "<Figure size 640x480 with 1 Axes>"
      ]
     },
     "metadata": {},
     "output_type": "display_data"
    }
   ],
   "source": [
    "plt.figure()\n",
    "plt.title(\"TabNet Feature importance\")\n",
    "plt.barh(range(len(tabnet_feature_importance)), tabnet_feature_importance[indices],\n",
    "       color=\"firebrick\", align=\"center\")\n",
    "plt.yticks(range(len(tabnet_feature_importance)), [X.columns[idx] for idx in indices])\n",
    "plt.ylim([-1, len(tabnet_feature_importance)])\n",
    "plt.show()"
   ]
  },
  {
   "cell_type": "code",
   "execution_count": 115,
   "id": "bd52a593",
   "metadata": {},
   "outputs": [],
   "source": [
    "xgb_feature_importance = final_xgb_model.feature_importances_\n",
    "indices = np.argsort(xgb_feature_importance)"
   ]
  },
  {
   "cell_type": "code",
   "execution_count": 119,
   "id": "922902eb",
   "metadata": {},
   "outputs": [
    {
     "data": {
      "image/png": "[encoded data removed]",
      "text/plain": [
       "<Figure size 640x480 with 1 Axes>"
      ]
     },
     "metadata": {},
     "output_type": "display_data"
    }
   ],
   "source": [
    "plt.figure()\n",
    "plt.title(\"XGBoost Feature importance\")\n",
    "plt.barh(range(len(xgb_feature_importance)), xgb_feature_importance[indices],\n",
    "       color=\"firebrick\", align=\"center\")\n",
    "plt.yticks(range(len(xgb_feature_importance)), [X.columns[idx] for idx in indices])\n",
    "plt.ylim([-1, len(xgb_feature_importance)])\n",
    "plt.show()"
   ]
  },
  {
   "cell_type": "code",
   "execution_count": null,
   "id": "8470d5c9",
   "metadata": {},
   "outputs": [],
   "source": []
  }
 ],
 "metadata": {
  "kernelspec": {
   "display_name": "Python 3 (ipykernel)",
   "language": "python",
   "name": "python3"
  },
  "language_info": {
   "codemirror_mode": {
    "name": "ipython",
    "version": 3
   },
   "file_extension": ".py",
   "mimetype": "text/x-python",
   "name": "python",
   "nbconvert_exporter": "python",
   "pygments_lexer": "ipython3",
   "version": "3.8.16"
  }
 },
 "nbformat": 4,
 "nbformat_minor": 5
}
